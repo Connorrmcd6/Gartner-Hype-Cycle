{
 "cells": [
  {
   "cell_type": "code",
   "execution_count": 1,
   "metadata": {},
   "outputs": [],
   "source": [
    "import sys\n",
    "sys.path.insert(1, '/Users/connormcdonald/Desktop/Masters/MIT807/Gartner Repository/Data')\n",
    "from sqlalchemy import create_engine\n",
    "from functions import *\n",
    "import pandas as pd\n",
    "import numpy as np\n",
    "import matplotlib\n",
    "import matplotlib.pyplot as plt\n",
    "from mpl_toolkits.axisartist.axislines import SubplotZero\n",
    "matplotlib.use(\"pgf\")\n",
    "matplotlib.rcParams.update({\n",
    "    \"pgf.texsystem\": \"lualatex\",\n",
    "    'font.family': 'serif',\n",
    "    'text.usetex': True,\n",
    "    'pgf.rcfonts': False,\n",
    "})\n",
    "engine = create_engine('mysql+mysqlconnector://'+user+':'+passwd+'@'+ip+':3306/'+schema1)"
   ]
  },
  {
   "cell_type": "code",
   "execution_count": null,
   "metadata": {},
   "outputs": [],
   "source": [
    "def figure():\n",
    "    matplotlib.rcParams[\"text.usetex\"] = True\n",
    "    plt.rcParams[\"figure.figsize\"] = [8, 4]\n",
    "    plt.rcParams.update({'font.size': 12})\n",
    "    plt.rcParams['figure.dpi'] = 300\n",
    "    ax = plt.gca()\n",
    "    ax.spines['right'].set_visible(False)\n",
    "    ax.spines['top'].set_visible(False)\n",
    "    return None\n",
    "\n",
    "def subfigure():\n",
    "    matplotlib.rcParams[\"text.usetex\"] = True\n",
    "    plt.rcParams[\"figure.figsize\"] = [4, 4]\n",
    "    plt.rcParams.update({'font.size': 12})\n",
    "    plt.rcParams['figure.dpi'] = 300\n",
    "    ax = plt.gca()\n",
    "    ax.spines['right'].set_visible(False)\n",
    "    ax.spines['top'].set_visible(False)\n",
    "    return None"
   ]
  },
  {
   "cell_type": "code",
   "execution_count": 2,
   "metadata": {},
   "outputs": [],
   "source": [
    "stmt = 'SELECT DATE_FORMAT(date, \\'%Y-%m\\') as date, COUNT(1) AS Number_of_Tweets FROM social.machine_learning where DATE_FORMAT(date, \\'%Y-%m\\') < \\'2018\\' group by DATE_FORMAT(date, \\'%Y-%m\\') ' \n",
    "df = pd.read_sql(stmt,\n",
    "    con=engine)"
   ]
  },
  {
   "cell_type": "code",
   "execution_count": 3,
   "metadata": {},
   "outputs": [],
   "source": [
    "df['date']  = pd.to_datetime(df['date'])"
   ]
  },
  {
   "cell_type": "code",
   "execution_count": 5,
   "metadata": {},
   "outputs": [],
   "source": [
    "figure()\n",
    "\n",
    "plt.xlabel('Time')\n",
    "plt.ylabel('Number of Tweets')\n",
    "plt.plot(df['date'], df['Number_of_Tweets'], c = 'black', linewidth = 1)\n",
    "plt.savefig('actual_number_of_tweets.pdf', format='pdf',bbox_inches='tight',pad_inches = 0)"
   ]
  }
 ],
 "metadata": {
  "interpreter": {
   "hash": "767d51c1340bd893661ea55ea3124f6de3c7a262a8b4abca0554b478b1e2ff90"
  },
  "kernelspec": {
   "display_name": "Python 2.7.18 64-bit",
   "language": "python",
   "name": "python3"
  },
  "language_info": {
   "codemirror_mode": {
    "name": "ipython",
    "version": 3
   },
   "file_extension": ".py",
   "mimetype": "text/x-python",
   "name": "python",
   "nbconvert_exporter": "python",
   "pygments_lexer": "ipython3",
   "version": "3.8.8"
  },
  "orig_nbformat": 4
 },
 "nbformat": 4,
 "nbformat_minor": 2
}
