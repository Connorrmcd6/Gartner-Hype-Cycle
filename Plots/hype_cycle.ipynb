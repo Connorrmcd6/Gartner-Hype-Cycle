{
 "cells": [
  {
   "cell_type": "code",
   "execution_count": 1,
   "metadata": {},
   "outputs": [],
   "source": [
    "import numpy as np\n",
    "import matplotlib\n",
    "import matplotlib.pyplot as plt\n",
    "from mpl_toolkits.axisartist.axislines import SubplotZero\n",
    "matplotlib.use(\"pgf\")\n",
    "matplotlib.rcParams.update({\n",
    "    \"pgf.texsystem\": \"lualatex\",\n",
    "    'font.family': 'serif',\n",
    "    'text.usetex': True,\n",
    "    'pgf.rcfonts': False,\n",
    "})"
   ]
  },
  {
   "cell_type": "code",
   "execution_count": 2,
   "metadata": {},
   "outputs": [],
   "source": [
    "def create(*x,crest1=50,crest2=25,stp_crest1=0.8,stp_crest2=0.2,midPoint=15,var=10):\n",
    "\n",
    "    '''\n",
    "    to create a Story HypeCycle\n",
    "        x: Input data\n",
    "        crest1,crest2: Controlling the height of the first wave crest and the second wave crest respectively.\n",
    "        stp_crest1,stp_crest2: Representing steepness.\n",
    "        midPoint: The location of the mean value mainly controls the location of the first wave crest.\n",
    "        var: Displaying moves or penalties for midpoint\n",
    "        Recommended parameters:crest1=50,crest2=25,stp_crest1=0.8,stp_crest2=0.2,midPoint=15,var=10\n",
    "        x = np.linspace(0, 50, 5000)\n",
    "    '''\n",
    "    x = x\n",
    "    # If user doesn't submit submit x, it will create a default DataSet.\n",
    "    if x==():\n",
    "        x = np.linspace(0, 70, 5000)\n",
    "    else:\n",
    "        x=x[0]\n",
    "\n",
    "    lf_11 = crest1/(1+ np.exp( 1 * stp_crest1 * (x-midPoint-var)))\n",
    "    lf_12 = crest1/(1+ np.exp( 1 * stp_crest1 * (x-midPoint)))\n",
    "    lf_13 = crest2/(1+ np.exp( 1 * stp_crest2 * (x-midPoint-var)))\n",
    "    hype= lf_11- lf_12- lf_13\n",
    "    return hype"
   ]
  },
  {
   "cell_type": "code",
   "execution_count": 3,
   "metadata": {},
   "outputs": [],
   "source": [
    "def visualize(*x, color=\"black\", linewidth=2, linestyle=\"-\"):\n",
    "\n",
    "    \"\"\"\n",
    "     to visualize the HypeCycle Data into a HypeCycle Curve\n",
    "    \"\"\"\n",
    "    x = x\n",
    "    # If user doesn't submit submit x, it will create a default DataSet.\n",
    "    if x==():\n",
    "        x = np.linspace(0, 70, 5000)\n",
    "    else:\n",
    "        x=x[0]\n",
    "\n",
    "    plt.plot(x, create(x), linewidth = linewidth, c = color,linestyle = linestyle)\n",
    "    plt.show()"
   ]
  },
  {
   "cell_type": "code",
   "execution_count": 4,
   "metadata": {},
   "outputs": [],
   "source": [
    "def annotate(*x, x_value = 20, text = \"None\",color = \"red\",fontproperties='FZShuTi', fontsize = 13, alpha = 0.8,rotation=3):\n",
    "\n",
    "    \"\"\"\n",
    "     to annaotate the HypeCycle Curve\n",
    "    \"\"\"\n",
    "\n",
    "    x = x\n",
    "    # If user doesn't submit submit x, it will create a default DataSet.\n",
    "    if x==():\n",
    "        x = np.linspace(0, 70, 5000)\n",
    "    else:\n",
    "        x=x[0]\n",
    "\n",
    "    plt.plot(x, create(x), linewidth=3)\n",
    "\n",
    "    x_val = x_value\n",
    "    t = text\n",
    "    c = color\n",
    "    fp= fontproperties\n",
    "    fs = fontsize\n",
    "    a = alpha\n",
    "\n",
    "    plt.rcParams[\"figure.figsize\"] = [12, 6]\n",
    "    plt.scatter(x_val, create(x_val), color=\"blue\")\n",
    "    plt.text(x_val, create(x_val), t ,color=c,fontproperties= fp, fontsize=fs, alpha=a,rotation=rotation)"
   ]
  },
  {
   "cell_type": "code",
   "execution_count": 5,
   "metadata": {},
   "outputs": [
    {
     "name": "stderr",
     "output_type": "stream",
     "text": [
      "<ipython-input-3-79905db70bec>:14: UserWarning: Matplotlib is currently using pgf, which is a non-GUI backend, so cannot show the figure.\n",
      "  plt.show()\n"
     ]
    }
   ],
   "source": [
    "x = np.linspace(0, 70, 5000)\n",
    "matplotlib.rcParams[\"text.usetex\"] = True\n",
    "plt.rcParams[\"figure.figsize\"] = [12, 8]\n",
    "plt.xlabel('Time', size = 20, fontweight='bold')\n",
    "plt.ylabel('Expectations', size = 20, fontweight='bold')\n",
    "plt.rcParams['figure.dpi'] = 300\n",
    "ax = plt.gca()\n",
    "\n",
    "ax.annotate('Peak of inflated \\nexpectations',\n",
    "            xy=(23, 30), xycoords='data',\n",
    "            xytext=(28,30), textcoords='data',\n",
    "            size=15, fontweight='bold',\n",
    "            arrowprops=dict(arrowstyle=\"->\"),\n",
    "            horizontalalignment='left', verticalalignment='top')\n",
    "\n",
    "ax.annotate('Innovation \\ntrigger',\n",
    "            xy=(9, -22), xycoords='data',\n",
    "            xytext=(1, -10), textcoords='data',\n",
    "            size=15,fontweight='bold',\n",
    "            arrowprops=dict(arrowstyle=\"->\"),\n",
    "            horizontalalignment='left', verticalalignment='top')\n",
    "\n",
    "ax.annotate('Trough of \\ndisillusionment',\n",
    "            xy=(28.5, -7), xycoords='data',\n",
    "            xytext=(20, -15), textcoords='data',\n",
    "            size=15,fontweight='bold',\n",
    "            arrowprops=dict(arrowstyle=\"->\"),\n",
    "            horizontalalignment='left', verticalalignment='top')\n",
    "\n",
    "ax.annotate('Slope of \\nenlightenment',\n",
    "            xy=(34, -1.5), xycoords='data',\n",
    "            xytext=(30, 12), textcoords='data',\n",
    "            size=15,fontweight='bold',\n",
    "            arrowprops=dict(arrowstyle=\"->\"),\n",
    "            horizontalalignment='left', verticalalignment='top')\n",
    "\n",
    "ax.annotate('Plateau of \\nproductivity',\n",
    "            xy=(55, 1.5), xycoords='data',\n",
    "            xytext=(48, 14), textcoords='data',\n",
    "            size=15,fontweight='bold',\n",
    "            arrowprops=dict(arrowstyle=\"->\"),\n",
    "            horizontalalignment='left', verticalalignment='top')\n",
    "\n",
    "ax.axes.xaxis.set_ticklabels([])\n",
    "ax.axes.yaxis.set_ticklabels([])\n",
    "ax.spines['right'].set_visible(False)\n",
    "ax.spines['top'].set_visible(False)\n",
    "\n",
    "\n",
    "visualize(x,\"blue\",8)\n",
    "plt.savefig('gartner.pdf', format='pdf',bbox_inches='tight',pad_inches = 0)"
   ]
  }
 ],
 "metadata": {
  "interpreter": {
   "hash": "f339fb3a027be473131e6ac829b8dc34fc7d4e2b227bdb2c2c5f9829538e0fed"
  },
  "kernelspec": {
   "display_name": "Python 3.8.8 ('base')",
   "language": "python",
   "name": "python3"
  },
  "language_info": {
   "codemirror_mode": {
    "name": "ipython",
    "version": 3
   },
   "file_extension": ".py",
   "mimetype": "text/x-python",
   "name": "python",
   "nbconvert_exporter": "python",
   "pygments_lexer": "ipython3",
   "version": "3.8.8"
  },
  "orig_nbformat": 4
 },
 "nbformat": 4,
 "nbformat_minor": 2
}
