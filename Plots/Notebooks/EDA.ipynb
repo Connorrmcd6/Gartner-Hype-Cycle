{
 "cells": [
  {
   "cell_type": "code",
   "execution_count": 1,
   "metadata": {},
   "outputs": [],
   "source": [
    "import sys\n",
    "sys.path.insert(1, '/Users/connormcdonald/Desktop/Masters/MIT807/Gartner Repository/Data')\n",
    "\n",
    "from sqlalchemy import create_engine\n",
    "from functions import *\n",
    "import pandas as pd\n",
    "import numpy as np\n",
    "from scipy import stats\n",
    "engine = create_engine('mysql+mysqlconnector://'+user+':'+passwd+'@'+ip+':3306/'+schema1)"
   ]
  },
  {
   "cell_type": "code",
   "execution_count": 2,
   "metadata": {},
   "outputs": [],
   "source": [
    "def figure():\n",
    "    import matplotlib\n",
    "    import matplotlib.pyplot as plt\n",
    "    from mpl_toolkits.axisartist.axislines import SubplotZero\n",
    "    matplotlib.use(\"pgf\")\n",
    "    matplotlib.rcParams.update({\n",
    "    \"pgf.texsystem\": \"lualatex\",\n",
    "    'font.family': 'serif',\n",
    "    'text.usetex': True,\n",
    "    'pgf.rcfonts': False,\n",
    "    })\n",
    "    matplotlib.rcParams[\"text.usetex\"] = True\n",
    "    plt.rcParams[\"figure.figsize\"] = [8, 4]\n",
    "    plt.rcParams.update({'font.size': 12})\n",
    "    plt.rcParams['figure.dpi'] = 300\n",
    "    ax = plt.gca()\n",
    "    ax.spines['right'].set_visible(False)\n",
    "    ax.spines['top'].set_visible(False)\n",
    "    return None\n",
    "\n",
    "def subfigure():\n",
    "    import matplotlib\n",
    "    import matplotlib.pyplot as plt\n",
    "    from mpl_toolkits.axisartist.axislines import SubplotZero\n",
    "    matplotlib.use(\"pgf\")\n",
    "    matplotlib.rcParams.update({\n",
    "        \"pgf.texsystem\": \"lualatex\",\n",
    "        'font.family': 'serif',\n",
    "        'text.usetex': True,\n",
    "        'pgf.rcfonts': False,\n",
    "    })\n",
    "    matplotlib.rcParams[\"text.usetex\"] = True\n",
    "    plt.rcParams[\"figure.figsize\"] = [3, 2]\n",
    "    plt.rcParams.update({'font.size': 12})\n",
    "    plt.rcParams['figure.dpi'] = 300\n",
    "    ax = plt.gca()\n",
    "    ax.spines['right'].set_visible(False)\n",
    "    ax.spines['top'].set_visible(False)\n",
    "    plt.xticks(rotation=45)\n",
    "    return None\n",
    "\n",
    "import matplotlib.pyplot as plt"
   ]
  },
  {
   "cell_type": "code",
   "execution_count": 3,
   "metadata": {},
   "outputs": [],
   "source": [
    "stmt = 'SELECT DATE_FORMAT(date, \\'%Y-%m\\') as date, COUNT(1) AS Number_of_Tweets FROM social.machine_learning group by DATE_FORMAT(date, \\'%Y-%m\\') ORDER BY DATE_FORMAT(date, \\'%Y-%m\\') ASC' \n",
    "df = pd.read_sql(stmt,\n",
    "    con=engine)"
   ]
  },
  {
   "cell_type": "code",
   "execution_count": 4,
   "metadata": {},
   "outputs": [],
   "source": [
    "df['date']  = pd.to_datetime(df['date'])"
   ]
  },
  {
   "cell_type": "code",
   "execution_count": 5,
   "metadata": {},
   "outputs": [],
   "source": [
    "figure()\n",
    "import matplotlib.pyplot as plt\n",
    "plt.xlabel('Time')\n",
    "plt.ylabel('Number of Tweets')\n",
    "plt.plot(df['date'], df['Number_of_Tweets'], c = 'black', linewidth = 1)\n",
    "\n",
    "import os\n",
    "# creating the output folder \n",
    "if not os.path.exists('/Users/connormcdonald/Desktop/Masters/MIT807/Gartner Repository/Plots'):\n",
    "   os.makedirs('/Users/connormcdonald/Desktop/Masters/MIT807/Gartner Repository/Plots')\n",
    "\n",
    "plt.savefig(os.path.join('/Users/connormcdonald/Desktop/Masters/MIT807/Gartner Repository/Plots', 'actual_number_of_tweets.pdf'), format='pdf',bbox_inches='tight',pad_inches = 0)\n",
    "plt.close()"
   ]
  },
  {
   "cell_type": "code",
   "execution_count": 6,
   "metadata": {},
   "outputs": [],
   "source": [
    "from datetime import datetime\n",
    "def fiveG(d):\n",
    "    return datetime.strptime(d, '%b-%y').strftime('%Y-%m')\n",
    "\n",
    "def block(d):\n",
    "    return datetime.strptime(d, '%y-%b').strftime('%Y-%m')"
   ]
  },
  {
   "cell_type": "code",
   "execution_count": 7,
   "metadata": {},
   "outputs": [],
   "source": [
    "figure()\n",
    "df1 = pd.read_csv('/Users/connormcdonald/Desktop/Masters/MIT807/Gartner Repository/Plots/google_analytics_data/5g.csv')\n",
    "df1['Month']  = df1['Month'].apply(fiveG)\n",
    "df1['Month']  = pd.to_datetime(df1['Month'])\n",
    "df2 = pd.read_csv('/Users/connormcdonald/Desktop/Masters/MIT807/Gartner Repository/Plots/google_analytics_data/blockchain.csv')\n",
    "df2['Month']  = df2['Month'].apply(block)\n",
    "df2['Month']  = pd.to_datetime(df2['Month'])\n",
    "\n",
    "plt.xlabel('Time')\n",
    "plt.ylabel('Peak Popularity Score')\n",
    "plt.plot(df1['Month'], df1['Searches'], c = '#E31B23', linewidth = 1, label='5G')\n",
    "plt.plot(df2['Month'], df2['Searches'], c = '#003366', linewidth = 1, label='Blockchain')\n",
    "plt.legend()\n",
    "\n",
    "import os\n",
    "# creating the output folder \n",
    "if not os.path.exists('/Users/connormcdonald/Desktop/Masters/MIT807/Gartner Repository/Plots'):\n",
    "   os.makedirs('/Users/connormcdonald/Desktop/Masters/MIT807/Gartner Repository/Plots')\n",
    "\n",
    "plt.savefig(os.path.join('/Users/connormcdonald/Desktop/Masters/MIT807/Gartner Repository/Plots', 'google.pdf'), format='pdf',bbox_inches='tight',pad_inches = 0)\n",
    "plt.close()"
   ]
  },
  {
   "cell_type": "code",
   "execution_count": 8,
   "metadata": {},
   "outputs": [],
   "source": [
    "from scipy.stats import norm\n",
    "import numpy as np\n",
    "import matplotlib\n",
    "import matplotlib.pyplot as plt\n",
    "from mpl_toolkits.axisartist.axislines import SubplotZero\n",
    "matplotlib.use(\"pgf\")\n",
    "matplotlib.rcParams.update({\n",
    "\"pgf.texsystem\": \"lualatex\",\n",
    "'font.family': 'serif',\n",
    "'text.usetex': True,\n",
    "'pgf.rcfonts': False,\n",
    "})\n",
    "matplotlib.rcParams[\"text.usetex\"] = True\n",
    "plt.rcParams[\"figure.figsize\"] = [8, 4]\n",
    "plt.rcParams.update({'font.size': 12})\n",
    "plt.rcParams['figure.dpi'] = 300\n",
    "ax = plt.gca()\n",
    "ax.spines['right'].set_visible(False)\n",
    "ax.spines['top'].set_visible(False)\n",
    "ax.axes.xaxis.set_ticklabels([])\n",
    "\n",
    "\n",
    "mean = 5.3\n",
    "std = 0.75\n",
    "\n",
    "data = np.arange(0,10,0.01)\n",
    "pdf = 100*norm.pdf(data , loc = mean , scale = std)\n",
    "cdf = 100*norm.cdf(data, loc = mean)\n",
    " \n",
    "\n",
    "plt.plot(data, pdf , color = 'black', label ='Adoption Rate')\n",
    "plt.plot(data, cdf , color = '#E31B23', label ='Cumulative Adoption' )\n",
    "plt.xlabel('Time')\n",
    "plt.ylabel('Market Share (%)')\n",
    "x_axis = np.arange(0, 10, 0.01)\n",
    "plt.fill_between(x_axis, pdf, color= '#d6e6f4', where= (x_axis < 3.8), label = 'Innovators')\n",
    "plt.fill_between(x_axis, pdf, color= '#abd0e6', where=(x_axis > 3.8) & (x_axis < 4.55), label = 'Early Adopters')\n",
    "plt.fill_between(x_axis, pdf, color= '#6aaed6', where=(x_axis > 4.55) & (x_axis < 5.3), label = 'Early Majority')\n",
    "plt.fill_between(x_axis, pdf, color= '#3787c0', where=(x_axis > 5.3) & (x_axis < 6.05), label = 'Late Majority')\n",
    "plt.fill_between(x_axis, pdf, color= '#105ba4', where= (x_axis > 6.05), label = 'Laggards')\n",
    "plt.legend()\n",
    "\n",
    "import os\n",
    "# creating the output folder \n",
    "if not os.path.exists('/Users/connormcdonald/Desktop/Masters/MIT807/Gartner Repository/Plots'):\n",
    "   os.makedirs('/Users/connormcdonald/Desktop/Masters/MIT807/Gartner Repository/Plots')\n",
    "\n",
    "plt.savefig(os.path.join('/Users/connormcdonald/Desktop/Masters/MIT807/Gartner Repository/Plots', 'rogers.pdf'), format='pdf',bbox_inches='tight',pad_inches = 0)\n",
    "plt.close()"
   ]
  },
  {
   "cell_type": "code",
   "execution_count": 9,
   "metadata": {},
   "outputs": [
    {
     "name": "stdout",
     "output_type": "stream",
     "text": [
      "['#d6e6f4', '#abd0e6', '#6aaed6', '#3787c0', '#105ba4']\n"
     ]
    }
   ],
   "source": [
    "import seaborn as sns\n",
    "palette = sns.color_palette(\"Blues\", 5).as_hex()\n",
    "print(palette)"
   ]
  },
  {
   "cell_type": "code",
   "execution_count": 11,
   "metadata": {},
   "outputs": [],
   "source": [
    "figure()\n",
    "import matplotlib.pyplot as plt\n",
    "\n",
    "year = [2010,2011,2012,2013,2014,2015,2016,2017,2018,2019,2020,2021]\n",
    "papers = [6572, 7240, 7935, 9301, 11130, 13605, 17423, 23379, 35564, 59193, 70200, 83032]\n",
    "\n",
    "plt.xlabel('Time')\n",
    "plt.ylabel('Number of Papers')\n",
    "plt.plot(year, papers, c = 'black', linewidth = 1)\n",
    "\n",
    "import os\n",
    "# creating the output folder \n",
    "if not os.path.exists('/Users/connormcdonald/Desktop/Masters/MIT807/Gartner Repository/Plots'):\n",
    "   os.makedirs('/Users/connormcdonald/Desktop/Masters/MIT807/Gartner Repository/Plots')\n",
    "\n",
    "plt.savefig(os.path.join('/Users/connormcdonald/Desktop/Masters/MIT807/Gartner Repository/Plots', 'actual_number_of_papers.pdf'), format='pdf',bbox_inches='tight',pad_inches = 0)\n",
    "plt.close()"
   ]
  }
 ],
 "metadata": {
  "interpreter": {
   "hash": "767d51c1340bd893661ea55ea3124f6de3c7a262a8b4abca0554b478b1e2ff90"
  },
  "kernelspec": {
   "display_name": "Python 3",
   "language": "python",
   "name": "python3"
  },
  "language_info": {
   "codemirror_mode": {
    "name": "ipython",
    "version": 3
   },
   "file_extension": ".py",
   "mimetype": "text/x-python",
   "name": "python",
   "nbconvert_exporter": "python",
   "pygments_lexer": "ipython3",
   "version": "3.8.8"
  }
 },
 "nbformat": 4,
 "nbformat_minor": 2
}
