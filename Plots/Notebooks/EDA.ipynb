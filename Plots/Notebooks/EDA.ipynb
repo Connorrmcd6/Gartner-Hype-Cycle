{
 "cells": [
  {
   "cell_type": "code",
   "execution_count": 1,
   "metadata": {},
   "outputs": [],
   "source": [
    "import sys\n",
    "sys.path.insert(1, '/Users/connormcdonald/Desktop/Masters/MIT807/Gartner Repository/Data')\n",
    "\n",
    "from sqlalchemy import create_engine\n",
    "from functions import *\n",
    "import pandas as pd\n",
    "import numpy as np\n",
    "engine = create_engine('mysql+mysqlconnector://'+user+':'+passwd+'@'+ip+':3306/'+schema1)"
   ]
  },
  {
   "cell_type": "code",
   "execution_count": 2,
   "metadata": {},
   "outputs": [],
   "source": [
    "def figure():\n",
    "    import matplotlib\n",
    "    import matplotlib.pyplot as plt\n",
    "    from mpl_toolkits.axisartist.axislines import SubplotZero\n",
    "    matplotlib.use(\"pgf\")\n",
    "    matplotlib.rcParams.update({\n",
    "    \"pgf.texsystem\": \"lualatex\",\n",
    "    'font.family': 'serif',\n",
    "    'text.usetex': True,\n",
    "    'pgf.rcfonts': False,\n",
    "    })\n",
    "    matplotlib.rcParams[\"text.usetex\"] = True\n",
    "    plt.rcParams[\"figure.figsize\"] = [8, 4]\n",
    "    plt.rcParams.update({'font.size': 12})\n",
    "    plt.rcParams['figure.dpi'] = 300\n",
    "    ax = plt.gca()\n",
    "    ax.spines['right'].set_visible(False)\n",
    "    ax.spines['top'].set_visible(False)\n",
    "    return None\n",
    "\n",
    "def subfigure():\n",
    "    import matplotlib\n",
    "    import matplotlib.pyplot as plt\n",
    "    from mpl_toolkits.axisartist.axislines import SubplotZero\n",
    "    matplotlib.use(\"pgf\")\n",
    "    matplotlib.rcParams.update({\n",
    "        \"pgf.texsystem\": \"lualatex\",\n",
    "        'font.family': 'serif',\n",
    "        'text.usetex': True,\n",
    "        'pgf.rcfonts': False,\n",
    "    })\n",
    "    matplotlib.rcParams[\"text.usetex\"] = True\n",
    "    plt.rcParams[\"figure.figsize\"] = [3, 2]\n",
    "    plt.rcParams.update({'font.size': 12})\n",
    "    plt.rcParams['figure.dpi'] = 300\n",
    "    ax = plt.gca()\n",
    "    ax.spines['right'].set_visible(False)\n",
    "    ax.spines['top'].set_visible(False)\n",
    "    plt.xticks(rotation=45)\n",
    "    return None\n",
    "\n",
    "import matplotlib.pyplot as plt"
   ]
  },
  {
   "cell_type": "code",
   "execution_count": 3,
   "metadata": {},
   "outputs": [],
   "source": [
    "stmt = 'SELECT DATE_FORMAT(date, \\'%Y-%m\\') as date, COUNT(1) AS Number_of_Tweets FROM social.machine_learning group by DATE_FORMAT(date, \\'%Y-%m\\') ORDER BY DATE_FORMAT(date, \\'%Y-%m\\') ASC' \n",
    "df = pd.read_sql(stmt,\n",
    "    con=engine)"
   ]
  },
  {
   "cell_type": "code",
   "execution_count": 4,
   "metadata": {},
   "outputs": [],
   "source": [
    "df['date']  = pd.to_datetime(df['date'])"
   ]
  },
  {
   "cell_type": "code",
   "execution_count": 5,
   "metadata": {},
   "outputs": [],
   "source": [
    "figure()\n",
    "import matplotlib.pyplot as plt\n",
    "plt.xlabel('Time')\n",
    "plt.ylabel('Number of Tweets')\n",
    "plt.plot(df['date'], df['Number_of_Tweets'], c = 'black', linewidth = 1)\n",
    "\n",
    "import os\n",
    "# creating the output folder \n",
    "if not os.path.exists('/Users/connormcdonald/Desktop/Masters/MIT807/Gartner Repository/Plots'):\n",
    "   os.makedirs('/Users/connormcdonald/Desktop/Masters/MIT807/Gartner Repository/Plots')\n",
    "\n",
    "plt.savefig(os.path.join('/Users/connormcdonald/Desktop/Masters/MIT807/Gartner Repository/Plots', 'actual_number_of_tweets.pdf'), format='pdf',bbox_inches='tight',pad_inches = 0)\n"
   ]
  },
  {
   "cell_type": "code",
   "execution_count": 6,
   "metadata": {},
   "outputs": [],
   "source": [
    "from datetime import datetime\n",
    "def fiveG(d):\n",
    "    return datetime.strptime(d, '%b-%y').strftime('%Y-%m')\n",
    "\n",
    "def block(d):\n",
    "    return datetime.strptime(d, '%y-%b').strftime('%Y-%m')"
   ]
  },
  {
   "cell_type": "code",
   "execution_count": 9,
   "metadata": {},
   "outputs": [],
   "source": [
    "figure()\n",
    "df1 = pd.read_csv('/Users/connormcdonald/Desktop/Masters/MIT807/Gartner Repository/Plots/google_analytics_data/5g.csv')\n",
    "df1['Month']  = df1['Month'].apply(fiveG)\n",
    "df1['Month']  = pd.to_datetime(df1['Month'])\n",
    "df2 = pd.read_csv('/Users/connormcdonald/Desktop/Masters/MIT807/Gartner Repository/Plots/google_analytics_data/blockchain.csv')\n",
    "df2['Month']  = df2['Month'].apply(block)\n",
    "df2['Month']  = pd.to_datetime(df2['Month'])\n",
    "\n",
    "plt.xlabel('Time')\n",
    "plt.ylabel('Peak Popularity Score')\n",
    "plt.plot(df1['Month'], df1['Searches'], c = '#E31B23', linewidth = 1, label='5G')\n",
    "plt.plot(df2['Month'], df2['Searches'], c = '#003366', linewidth = 1, label='Blockchain')\n",
    "plt.legend()\n",
    "\n",
    "import os\n",
    "# creating the output folder \n",
    "if not os.path.exists('/Users/connormcdonald/Desktop/Masters/MIT807/Gartner Repository/Plots'):\n",
    "   os.makedirs('/Users/connormcdonald/Desktop/Masters/MIT807/Gartner Repository/Plots')\n",
    "\n",
    "plt.savefig(os.path.join('/Users/connormcdonald/Desktop/Masters/MIT807/Gartner Repository/Plots', 'google.pdf'), format='pdf',bbox_inches='tight',pad_inches = 0)\n"
   ]
  }
 ],
 "metadata": {
  "interpreter": {
   "hash": "767d51c1340bd893661ea55ea3124f6de3c7a262a8b4abca0554b478b1e2ff90"
  },
  "kernelspec": {
   "display_name": "Python 2.7.18 64-bit",
   "language": "python",
   "name": "python3"
  },
  "language_info": {
   "codemirror_mode": {
    "name": "ipython",
    "version": 3
   },
   "file_extension": ".py",
   "mimetype": "text/x-python",
   "name": "python",
   "nbconvert_exporter": "python",
   "pygments_lexer": "ipython3",
   "version": "3.8.8"
  },
  "orig_nbformat": 4
 },
 "nbformat": 4,
 "nbformat_minor": 2
}
