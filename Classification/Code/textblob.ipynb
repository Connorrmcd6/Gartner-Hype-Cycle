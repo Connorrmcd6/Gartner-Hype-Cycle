{
 "cells": [
  {
   "cell_type": "code",
   "execution_count": 22,
   "id": "d2b6da3a",
   "metadata": {},
   "outputs": [],
   "source": [
    "import pandas as pd\n",
    "import numpy as np\n",
    "import matplotlib\n",
    "import os\n",
    "\n",
    "\n",
    "\n",
    "import matplotlib.pyplot as plt\n",
    "from mpl_toolkits.axisartist.axislines import SubplotZero\n",
    "matplotlib.use(\"pgf\")\n",
    "matplotlib.rcParams.update({\n",
    "    \"pgf.texsystem\": \"lualatex\",\n",
    "    'font.family': 'serif',\n",
    "    'text.usetex': True,\n",
    "    'pgf.rcfonts': False,\n",
    "})\n",
    "\n",
    "from mpl_toolkits.axisartist.axislines import SubplotZero\n",
    "matplotlib.use(\"pgf\")\n",
    "matplotlib.rcParams.update({\n",
    "\"pgf.texsystem\": \"lualatex\",\n",
    "'font.family': 'serif',\n",
    "'text.usetex': True,\n",
    "'pgf.rcfonts': False,\n",
    "})\n",
    "matplotlib.rcParams[\"text.usetex\"] = True\n",
    "plt.rcParams[\"figure.figsize\"] = [8, 4]\n",
    "plt.rcParams.update({'font.size': 12})\n",
    "plt.rcParams['figure.dpi'] = 300\n",
    "ax = plt.gca()\n",
    "ax.spines['right'].set_visible(False)\n",
    "ax.spines['top'].set_visible(False)\n",
    "from wordcloud import WordCloud\n",
    "from textblob import TextBlob"
   ]
  },
  {
   "cell_type": "code",
   "execution_count": 23,
   "id": "b06a8d4c",
   "metadata": {},
   "outputs": [],
   "source": [
    "df = pd.read_csv('/Users/connormcdonald/Desktop/Masters/MIT807/Data/y18a.csv')\n",
    "df['text'] = df['Abstract']"
   ]
  },
  {
   "cell_type": "code",
   "execution_count": 24,
   "id": "18b01d34",
   "metadata": {},
   "outputs": [
    {
     "data": {
      "text/html": [
       "<div>\n",
       "<style scoped>\n",
       "    .dataframe tbody tr th:only-of-type {\n",
       "        vertical-align: middle;\n",
       "    }\n",
       "\n",
       "    .dataframe tbody tr th {\n",
       "        vertical-align: top;\n",
       "    }\n",
       "\n",
       "    .dataframe thead th {\n",
       "        text-align: right;\n",
       "    }\n",
       "</style>\n",
       "<table border=\"1\" class=\"dataframe\">\n",
       "  <thead>\n",
       "    <tr style=\"text-align: right;\">\n",
       "      <th></th>\n",
       "      <th>Title</th>\n",
       "      <th>Year</th>\n",
       "      <th>Link</th>\n",
       "      <th>Abstract</th>\n",
       "      <th>text</th>\n",
       "    </tr>\n",
       "  </thead>\n",
       "  <tbody>\n",
       "    <tr>\n",
       "      <th>0</th>\n",
       "      <td>Generating tree-level harvest predictions from...</td>\n",
       "      <td>2018</td>\n",
       "      <td>https://www.scopus.com/inward/record.uri?eid=2...</td>\n",
       "      <td>Wood supply predictions from forest inventorie...</td>\n",
       "      <td>Wood supply predictions from forest inventorie...</td>\n",
       "    </tr>\n",
       "    <tr>\n",
       "      <th>1</th>\n",
       "      <td>Deep learning for DNase i hypersensitive sites...</td>\n",
       "      <td>2018</td>\n",
       "      <td>https://www.scopus.com/inward/record.uri?eid=2...</td>\n",
       "      <td>Background: The DNase I hypersensitive sites (...</td>\n",
       "      <td>Background: The DNase I hypersensitive sites (...</td>\n",
       "    </tr>\n",
       "    <tr>\n",
       "      <th>2</th>\n",
       "      <td>PDRLGB: Precise DNA-binding residue prediction...</td>\n",
       "      <td>2018</td>\n",
       "      <td>https://www.scopus.com/inward/record.uri?eid=2...</td>\n",
       "      <td>Background: Identifying specific residues for ...</td>\n",
       "      <td>Background: Identifying specific residues for ...</td>\n",
       "    </tr>\n",
       "    <tr>\n",
       "      <th>3</th>\n",
       "      <td>Computational drug repositioning using meta-pa...</td>\n",
       "      <td>2018</td>\n",
       "      <td>https://www.scopus.com/inward/record.uri?eid=2...</td>\n",
       "      <td>Background: Drug repositioning is a promising ...</td>\n",
       "      <td>Background: Drug repositioning is a promising ...</td>\n",
       "    </tr>\n",
       "    <tr>\n",
       "      <th>4</th>\n",
       "      <td>A context-free encoding scheme of protein sequ...</td>\n",
       "      <td>2018</td>\n",
       "      <td>https://www.scopus.com/inward/record.uri?eid=2...</td>\n",
       "      <td>Background: The evolution of influenza A virus...</td>\n",
       "      <td>Background: The evolution of influenza A virus...</td>\n",
       "    </tr>\n",
       "  </tbody>\n",
       "</table>\n",
       "</div>"
      ],
      "text/plain": [
       "                                               Title  Year  \\\n",
       "0  Generating tree-level harvest predictions from...  2018   \n",
       "1  Deep learning for DNase i hypersensitive sites...  2018   \n",
       "2  PDRLGB: Precise DNA-binding residue prediction...  2018   \n",
       "3  Computational drug repositioning using meta-pa...  2018   \n",
       "4  A context-free encoding scheme of protein sequ...  2018   \n",
       "\n",
       "                                                Link  \\\n",
       "0  https://www.scopus.com/inward/record.uri?eid=2...   \n",
       "1  https://www.scopus.com/inward/record.uri?eid=2...   \n",
       "2  https://www.scopus.com/inward/record.uri?eid=2...   \n",
       "3  https://www.scopus.com/inward/record.uri?eid=2...   \n",
       "4  https://www.scopus.com/inward/record.uri?eid=2...   \n",
       "\n",
       "                                            Abstract  \\\n",
       "0  Wood supply predictions from forest inventorie...   \n",
       "1  Background: The DNase I hypersensitive sites (...   \n",
       "2  Background: Identifying specific residues for ...   \n",
       "3  Background: Drug repositioning is a promising ...   \n",
       "4  Background: The evolution of influenza A virus...   \n",
       "\n",
       "                                                text  \n",
       "0  Wood supply predictions from forest inventorie...  \n",
       "1  Background: The DNase I hypersensitive sites (...  \n",
       "2  Background: Identifying specific residues for ...  \n",
       "3  Background: Drug repositioning is a promising ...  \n",
       "4  Background: The evolution of influenza A virus...  "
      ]
     },
     "execution_count": 24,
     "metadata": {},
     "output_type": "execute_result"
    }
   ],
   "source": [
    "df.head()"
   ]
  },
  {
   "cell_type": "code",
   "execution_count": 25,
   "id": "7c5b386e",
   "metadata": {},
   "outputs": [],
   "source": [
    "def subjectivity(text):\n",
    "    return TextBlob(text).sentiment.subjectivity\n",
    "\n",
    "def polarity(text):\n",
    "    return TextBlob(text).sentiment.polarity\n",
    "\n",
    "df['polarity'] = df['text'].apply(polarity)"
   ]
  },
  {
   "cell_type": "code",
   "execution_count": 26,
   "id": "99fc8de3",
   "metadata": {},
   "outputs": [],
   "source": [
    "allwords = ' '.join([tweets for tweets in df['text']]) \n",
    "wordCloud = WordCloud(width =500, height = 300, random_state = 21, max_font_size = 119).generate(allwords)\n",
    "plt.imshow(wordCloud, interpolation = 'bilinear')\n",
    "plt.axis('off')\n",
    "\n",
    "# creating the output folder \n",
    "if not os.path.exists('/Users/connormcdonald/Desktop/Masters/MIT807/Gartner Repository/Plots'):\n",
    "   os.makedirs('/Users/connormcdonald/Desktop/Masters/MIT807/Gartner Repository/Plots')\n",
    "\n",
    "plt.savefig(os.path.join('/Users/connormcdonald/Desktop/Masters/MIT807/Gartner Repository/Plots', 'wordcloud.pdf'), format='pdf',bbox_inches='tight',pad_inches = 0)\n",
    "plt.close()\n"
   ]
  },
  {
   "cell_type": "code",
   "execution_count": 27,
   "id": "04748175",
   "metadata": {},
   "outputs": [],
   "source": [
    "def sentiment(score):\n",
    "    if score < 0:\n",
    "        return 'negative'\n",
    "    if score == 0:\n",
    "        return 'neutral'\n",
    "    if score > 0:\n",
    "        return 'positive'\n",
    "    \n",
    "df['sentiment'] = df['polarity'].apply(sentiment)"
   ]
  },
  {
   "cell_type": "code",
   "execution_count": 28,
   "id": "4d3a0362",
   "metadata": {},
   "outputs": [
    {
     "name": "stderr",
     "output_type": "stream",
     "text": [
      "<ipython-input-28-08afdf456a30>:6: UserWarning: Matplotlib is currently using pgf, which is a non-GUI backend, so cannot show the figure.\n",
      "  plt.show()\n"
     ]
    }
   ],
   "source": [
    "df['sentiment'].value_counts()\n",
    "plt.title('sentiment analysis')\n",
    "plt.xlabel('sentiment')\n",
    "plt.ylabel('counts')\n",
    "df['sentiment'].value_counts().plot(kind='bar')\n",
    "plt.show()\n",
    "\n",
    "# creating the output folder \n",
    "if not os.path.exists('/Users/connormcdonald/Desktop/Masters/MIT807/Gartner Repository/Plots'):\n",
    "   os.makedirs('/Users/connormcdonald/Desktop/Masters/MIT807/Gartner Repository/Plots')\n",
    "\n",
    "plt.savefig(os.path.join('/Users/connormcdonald/Desktop/Masters/MIT807/Gartner Repository/Plots', 'sentibar.pdf'), format='pdf',bbox_inches='tight',pad_inches = 0)\n",
    "plt.close()\n"
   ]
  },
  {
   "cell_type": "code",
   "execution_count": null,
   "id": "c79f82b7",
   "metadata": {},
   "outputs": [],
   "source": []
  }
 ],
 "metadata": {
  "kernelspec": {
   "display_name": "Python 3",
   "language": "python",
   "name": "python3"
  },
  "language_info": {
   "codemirror_mode": {
    "name": "ipython",
    "version": 3
   },
   "file_extension": ".py",
   "mimetype": "text/x-python",
   "name": "python",
   "nbconvert_exporter": "python",
   "pygments_lexer": "ipython3",
   "version": "3.8.8"
  }
 },
 "nbformat": 4,
 "nbformat_minor": 5
}
