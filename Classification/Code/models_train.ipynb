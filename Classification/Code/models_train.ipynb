{
 "cells": [
  {
   "cell_type": "code",
   "execution_count": 1,
   "metadata": {},
   "outputs": [
    {
     "name": "stdout",
     "output_type": "stream",
     "text": [
      "dataset loaded\n"
     ]
    }
   ],
   "source": [
    "from functions import *\n",
    "import os\n",
    "\n",
    "\n",
    "dataset = load_dataset(\"/Users/connormcdonald/Desktop/Masters/MIT807/Data/twitter_training.csv\", ['target', 't_id', 'created_at', 'query', 'user', 'text'])\n",
    "print('dataset loaded')\n",
    "os.system('say \"dataset loaded\"')"
   ]
  },
  {
   "cell_type": "code",
   "execution_count": 2,
   "metadata": {},
   "outputs": [],
   "source": [
    "# dataset = dataset.head(25)\n",
    "# for i in dataset.text:\n",
    "#     print(i)"
   ]
  },
  {
   "cell_type": "code",
   "execution_count": 3,
   "metadata": {},
   "outputs": [
    {
     "name": "stdout",
     "output_type": "stream",
     "text": [
      "dataset processed\n"
     ]
    }
   ],
   "source": [
    "dataset = remove_unwanted_cols(dataset, ['t_id', 'created_at', 'query', 'user'])\n",
    "dataset.text = dataset['text'].apply(preprocess_tweet_text)\n",
    "print('dataset processed')\n",
    "os.system('say \"dataset processed\"')"
   ]
  },
  {
   "cell_type": "code",
   "execution_count": 4,
   "metadata": {},
   "outputs": [
    {
     "name": "stdout",
     "output_type": "stream",
     "text": [
      "upset cant updat facebook text might cri result school today also blah\n",
      "dive mani time ball manag save 50 rest go bound\n",
      "whole bodi feel itchi like fire\n",
      "behav im mad cant see\n",
      "whole crew\n",
      "need hug\n",
      "hey long time see ye rain bit bit lol im fine thank how\n",
      "nope didnt\n",
      "que muera\n",
      "spring break plain citi snow\n"
     ]
    }
   ],
   "source": [
    "x = dataset.head(10)\n",
    "for i in x.text:\n",
    "    print(i)"
   ]
  },
  {
   "cell_type": "code",
   "execution_count": 5,
   "metadata": {},
   "outputs": [],
   "source": [
    "# dataset = remove_unwanted_cols(dataset, ['t_id', 'created_at', 'query', 'user'])\n",
    "# dataset['text'] = dataset['text'].apply(preprocess_tweet_text)\n",
    "# print('dataset processed')"
   ]
  },
  {
   "cell_type": "code",
   "execution_count": 6,
   "metadata": {},
   "outputs": [
    {
     "name": "stdout",
     "output_type": "stream",
     "text": [
      "train test split complete\n"
     ]
    }
   ],
   "source": [
    "# Same tf vector will be used for Testing sentiments on unseen trending data\n",
    "tf_vector = get_feature_vector(np.array(dataset.iloc[:, 1]).ravel())\n",
    "X = tf_vector.transform(np.array(dataset.iloc[:, 1]).ravel())\n",
    "y = np.array(dataset.iloc[:, 0]).ravel()\n",
    "X_train, X_test, y_train, y_test = train_test_split(X, y, test_size=0.2, random_state=30)\n",
    "print('train test split complete')\n",
    "os.system('say \"train test split complete\"')"
   ]
  },
  {
   "cell_type": "code",
   "execution_count": 7,
   "metadata": {},
   "outputs": [
    {
     "name": "stdout",
     "output_type": "stream",
     "text": [
      "Naive Bayes model training\n",
      "Logistic Regression model training\n",
      "SVM model training\n"
     ]
    }
   ],
   "source": [
    "# Training Naive Bayes model\n",
    "NB_model = MultinomialNB()\n",
    "LR_model = LogisticRegression(solver='lbfgs', max_iter = 500)\n",
    "SVM_model = SVC(kernel='linear')\n",
    "XGB_model = XGBoostClassifier()\n",
    "print('Naive Bayes model training')\n",
    "os.system('say \"Naive Bayes model training\"')\n",
    "\n",
    "NB_model.fit(X_train, y_train)\n",
    "print('Logistic Regression model training')\n",
    "os.system('say \"Logistic Regression model training\"')\n",
    "\n",
    "LR_model.fit(X_train, y_train)\n",
    "print('SVM model training')\n",
    "os.system('say \"SVM model training\"')\n",
    "\n",
    "SVM_model.fit(X_train, y_train)\n",
    "print('XGB model training')\n",
    "os.system('say \"XGB model training\"')\n",
    "XGB_model.fit(X_train, y_train)"
   ]
  },
  {
   "cell_type": "code",
   "execution_count": null,
   "metadata": {},
   "outputs": [
    {
     "name": "stdout",
     "output_type": "stream",
     "text": [
      "Naive Bayesmodel validating\n",
      "0.760603125\n",
      "\n",
      "Logistic Regression Model validating\n",
      "0.780053125\n",
      "\n"
     ]
    }
   ],
   "source": [
    "print('Naive Bayesmodel validating')\n",
    "os.system('say \"Naive Bayesmodel validating\"')\n",
    "y_predict_nb = NB_model.predict(X_test)\n",
    "print(f'{accuracy_score(y_test, y_predict_nb)}\\n')\n",
    "\n",
    "print('Logistic Regression Model validating')\n",
    "os.system('say \"Logistic Regression Model validating\"')\n",
    "y_predict_lr = LR_model.predict(X_test)\n",
    "print(f'{accuracy_score(y_test, y_predict_lr)}\\n')\n",
    "\n",
    "print('SVM Model validating')\n",
    "os.system('say \"SVM Model validating\"')\n",
    "y_predict_svm = SVM_model.predict(X_test)\n",
    "print(f'{accuracy_score(y_test, y_predict_svm)}\\n')\n",
    "\n",
    "print('XGB Model validating')\n",
    "os.system('say \"XGB Model validating\"')\n",
    "y_predict_xgb = XGB_model.predict(X_test)\n",
    "print(f'{accuracy_score(y_test, y_predict_xgb)}\\n')"
   ]
  },
  {
   "cell_type": "code",
   "execution_count": null,
   "metadata": {},
   "outputs": [
    {
     "name": "stderr",
     "output_type": "stream",
     "text": [
      "/Users/connormcdonald/opt/anaconda3/lib/python3.8/site-packages/sklearn/utils/deprecation.py:87: FutureWarning: Function plot_roc_curve is deprecated; Function :func:`plot_roc_curve` is deprecated in 1.0 and will be removed in 1.2. Use one of the class methods: :meth:`sklearn.metric.RocCurveDisplay.from_predictions` or :meth:`sklearn.metric.RocCurveDisplay.from_estimator`.\n",
      "  warnings.warn(msg, category=FutureWarning)\n"
     ]
    },
    {
     "data": {
      "text/plain": [
       "<Figure size 640x480 with 0 Axes>"
      ]
     },
     "metadata": {},
     "output_type": "display_data"
    },
    {
     "data": {
      "image/png": "[encoded data removed]",
      "text/plain": [
       "<Figure size 432x288 with 1 Axes>"
      ]
     },
     "metadata": {
      "needs_background": "light"
     },
     "output_type": "display_data"
    }
   ],
   "source": [
    "from sklearn import metrics\n",
    "from matplotlib.pyplot import figure\n",
    "figure(figsize=(8, 6), dpi=80)\n",
    "metrics.plot_roc_curve(NB_model, X_test, y_test, color = 'red', label = 'NB')\n",
    "metrics.plot_roc_curve(LR_model, X_test, y_test, color = 'blue', label = 'LR')\n",
    "metrics.plot_roc_curve(SVM_model, X_test, y_test, color = 'black', label = 'SVM')\n",
    "metrics.plot_roc_curve(XGB_model, X_test, y_test, color = 'green', label = 'XGB')\n",
    "plt.legend()\n",
    "plt.title('ROC Curves')\n",
    "plt.show()  "
   ]
  },
  {
   "cell_type": "code",
   "execution_count": null,
   "metadata": {},
   "outputs": [
    {
     "name": "stderr",
     "output_type": "stream",
     "text": [
      "/Users/connormcdonald/opt/anaconda3/lib/python3.8/site-packages/sklearn/utils/deprecation.py:87: FutureWarning: Function plot_roc_curve is deprecated; Function :func:`plot_roc_curve` is deprecated in 1.0 and will be removed in 1.2. Use one of the class methods: :meth:`sklearn.metric.RocCurveDisplay.from_predictions` or :meth:`sklearn.metric.RocCurveDisplay.from_estimator`.\n",
      "  warnings.warn(msg, category=FutureWarning)\n"
     ]
    },
    {
     "data": {
      "text/plain": [
       "<Figure size 640x480 with 0 Axes>"
      ]
     },
     "metadata": {},
     "output_type": "display_data"
    },
    {
     "data": {
      "image/png": "[encoded data removed]",
      "text/plain": [
       "<Figure size 432x288 with 1 Axes>"
      ]
     },
     "metadata": {
      "needs_background": "light"
     },
     "output_type": "display_data"
    }
   ],
   "source": [
    "# figure(figsize=(8, 6), dpi=80)\n",
    "# metrics.plot_roc_curve(LR_model, X_test, y_test, color = 'red')\n",
    "# plt.title('ROC Curve for Logistic Regression Model')\n",
    "# plt.show() "
   ]
  },
  {
   "cell_type": "code",
   "execution_count": null,
   "metadata": {},
   "outputs": [],
   "source": [
    "import os\n",
    "os.system('say \"Your program has finished\"')"
   ]
  }
 ],
 "metadata": {
  "interpreter": {
   "hash": "f339fb3a027be473131e6ac829b8dc34fc7d4e2b227bdb2c2c5f9829538e0fed"
  },
  "kernelspec": {
   "display_name": "Python 3.8.8 ('base')",
   "language": "python",
   "name": "python3"
  },
  "language_info": {
   "codemirror_mode": {
    "name": "ipython",
    "version": 3
   },
   "file_extension": ".py",
   "mimetype": "text/x-python",
   "name": "python",
   "nbconvert_exporter": "python",
   "pygments_lexer": "ipython3",
   "version": "3.8.8"
  },
  "orig_nbformat": 4
 },
 "nbformat": 4,
 "nbformat_minor": 2
}
