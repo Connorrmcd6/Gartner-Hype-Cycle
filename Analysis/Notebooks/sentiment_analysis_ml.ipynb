{
 "cells": [
  {
   "cell_type": "code",
   "execution_count": 1,
   "metadata": {},
   "outputs": [],
   "source": [
    "from sqlalchemy import create_engine\n",
    "from db_config import *\n",
    "\n",
    "import seaborn as sns\n",
    "import matplotlib.pyplot as plt\n",
    "import pandas as pd\n",
    "import numpy as np\n",
    "\n",
    "engine = create_engine('mysql+mysqlconnector://'+ user + ':' + passwd + '@' + ip + ':3306/' + schema1)"
   ]
  },
  {
   "cell_type": "code",
   "execution_count": 2,
   "metadata": {},
   "outputs": [],
   "source": [
    "table = 'ML_sentiment'\n",
    "df = pd.read_sql(f'SELECT * FROM {table} ', engine)"
   ]
  },
  {
   "cell_type": "code",
   "execution_count": 3,
   "metadata": {},
   "outputs": [
    {
     "data": {
      "text/html": [
       "<div>\n",
       "<style scoped>\n",
       "    .dataframe tbody tr th:only-of-type {\n",
       "        vertical-align: middle;\n",
       "    }\n",
       "\n",
       "    .dataframe tbody tr th {\n",
       "        vertical-align: top;\n",
       "    }\n",
       "\n",
       "    .dataframe thead th {\n",
       "        text-align: right;\n",
       "    }\n",
       "</style>\n",
       "<table border=\"1\" class=\"dataframe\">\n",
       "  <thead>\n",
       "    <tr style=\"text-align: right;\">\n",
       "      <th></th>\n",
       "      <th>id</th>\n",
       "      <th>mnb_prediction</th>\n",
       "      <th>mnb_probability</th>\n",
       "      <th>lr_prediction</th>\n",
       "      <th>lr_probability</th>\n",
       "      <th>svm_prediction</th>\n",
       "      <th>svm_probability</th>\n",
       "      <th>ensemble_prediction</th>\n",
       "      <th>ensemble_probability</th>\n",
       "    </tr>\n",
       "  </thead>\n",
       "  <tbody>\n",
       "    <tr>\n",
       "      <th>0</th>\n",
       "      <td>8424527990</td>\n",
       "      <td>1</td>\n",
       "      <td>0.627705</td>\n",
       "      <td>1</td>\n",
       "      <td>0.622900</td>\n",
       "      <td>1</td>\n",
       "      <td>0.583350</td>\n",
       "      <td>1</td>\n",
       "      <td>0.611319</td>\n",
       "    </tr>\n",
       "    <tr>\n",
       "      <th>1</th>\n",
       "      <td>8419386549</td>\n",
       "      <td>1</td>\n",
       "      <td>0.571180</td>\n",
       "      <td>0</td>\n",
       "      <td>0.480519</td>\n",
       "      <td>1</td>\n",
       "      <td>0.583250</td>\n",
       "      <td>1</td>\n",
       "      <td>0.557970</td>\n",
       "    </tr>\n",
       "    <tr>\n",
       "      <th>2</th>\n",
       "      <td>8415166607</td>\n",
       "      <td>1</td>\n",
       "      <td>0.521219</td>\n",
       "      <td>0</td>\n",
       "      <td>0.404371</td>\n",
       "      <td>1</td>\n",
       "      <td>0.574160</td>\n",
       "      <td>1</td>\n",
       "      <td>0.563670</td>\n",
       "    </tr>\n",
       "    <tr>\n",
       "      <th>3</th>\n",
       "      <td>8412898532</td>\n",
       "      <td>1</td>\n",
       "      <td>0.525191</td>\n",
       "      <td>1</td>\n",
       "      <td>0.844225</td>\n",
       "      <td>1</td>\n",
       "      <td>0.518753</td>\n",
       "      <td>1</td>\n",
       "      <td>0.629390</td>\n",
       "    </tr>\n",
       "    <tr>\n",
       "      <th>4</th>\n",
       "      <td>8409972932</td>\n",
       "      <td>1</td>\n",
       "      <td>0.570672</td>\n",
       "      <td>1</td>\n",
       "      <td>0.546443</td>\n",
       "      <td>1</td>\n",
       "      <td>0.573942</td>\n",
       "      <td>1</td>\n",
       "      <td>0.563686</td>\n",
       "    </tr>\n",
       "  </tbody>\n",
       "</table>\n",
       "</div>"
      ],
      "text/plain": [
       "           id  mnb_prediction  mnb_probability  lr_prediction  lr_probability  \\\n",
       "0  8424527990               1         0.627705              1        0.622900   \n",
       "1  8419386549               1         0.571180              0        0.480519   \n",
       "2  8415166607               1         0.521219              0        0.404371   \n",
       "3  8412898532               1         0.525191              1        0.844225   \n",
       "4  8409972932               1         0.570672              1        0.546443   \n",
       "\n",
       "   svm_prediction  svm_probability  ensemble_prediction  ensemble_probability  \n",
       "0               1         0.583350                    1              0.611319  \n",
       "1               1         0.583250                    1              0.557970  \n",
       "2               1         0.574160                    1              0.563670  \n",
       "3               1         0.518753                    1              0.629390  \n",
       "4               1         0.573942                    1              0.563686  "
      ]
     },
     "execution_count": 3,
     "metadata": {},
     "output_type": "execute_result"
    }
   ],
   "source": [
    "df.head()"
   ]
  },
  {
   "cell_type": "code",
   "execution_count": 7,
   "metadata": {},
   "outputs": [
    {
     "data": {
      "text/plain": [
       "<matplotlib.legend.Legend at 0x7feba7f40df0>"
      ]
     },
     "execution_count": 7,
     "metadata": {},
     "output_type": "execute_result"
    },
    {
     "data": {
      "image/png": "[encoded data removed]",
      "text/plain": [
       "<Figure size 432x288 with 1 Axes>"
      ]
     },
     "metadata": {
      "needs_background": "light"
     },
     "output_type": "display_data"
    }
   ],
   "source": [
    "sns.kdeplot(data=df, x=\"mnb_probability\", label = 'MNB')\n",
    "sns.kdeplot(data=df, x=\"lr_probability\", label = 'LR')\n",
    "sns.kdeplot(data=df, x=\"svm_probability\", label = 'SVM')\n",
    "sns.kdeplot(data=df, x=\"ensemble_probability\", label = 'Ensemble')\n",
    "plt.legend()"
   ]
  },
  {
   "cell_type": "code",
   "execution_count": 8,
   "metadata": {},
   "outputs": [
    {
     "data": {
      "image/png": "[encoded data removed]",
      "text/plain": [
       "<Figure size 432x288 with 1 Axes>"
      ]
     },
     "metadata": {
      "needs_background": "light"
     },
     "output_type": "display_data"
    }
   ],
   "source": [
    "ax = sns.countplot(x=\"mnb_prediction\", data=df)"
   ]
  },
  {
   "cell_type": "code",
   "execution_count": 9,
   "metadata": {},
   "outputs": [
    {
     "data": {
      "image/png": "[encoded data removed]",
      "text/plain": [
       "<Figure size 432x288 with 1 Axes>"
      ]
     },
     "metadata": {
      "needs_background": "light"
     },
     "output_type": "display_data"
    }
   ],
   "source": [
    "ax = sns.countplot(x=\"lr_prediction\", data=df)"
   ]
  },
  {
   "cell_type": "code",
   "execution_count": 10,
   "metadata": {},
   "outputs": [
    {
     "data": {
      "image/png": "[encoded data removed]",
      "text/plain": [
       "<Figure size 432x288 with 1 Axes>"
      ]
     },
     "metadata": {
      "needs_background": "light"
     },
     "output_type": "display_data"
    }
   ],
   "source": [
    "ax = sns.countplot(x=\"svm_prediction\", data=df)"
   ]
  },
  {
   "cell_type": "code",
   "execution_count": 11,
   "metadata": {},
   "outputs": [
    {
     "data": {
      "image/png": "[encoded data removed]",
      "text/plain": [
       "<Figure size 432x288 with 1 Axes>"
      ]
     },
     "metadata": {
      "needs_background": "light"
     },
     "output_type": "display_data"
    }
   ],
   "source": [
    "ax = sns.countplot(x=\"ensemble_prediction\", data=df)"
   ]
  }
 ],
 "metadata": {
  "interpreter": {
   "hash": "f339fb3a027be473131e6ac829b8dc34fc7d4e2b227bdb2c2c5f9829538e0fed"
  },
  "kernelspec": {
   "display_name": "Python 3.8.8 ('base')",
   "language": "python",
   "name": "python3"
  },
  "language_info": {
   "codemirror_mode": {
    "name": "ipython",
    "version": 3
   },
   "file_extension": ".py",
   "mimetype": "text/x-python",
   "name": "python",
   "nbconvert_exporter": "python",
   "pygments_lexer": "ipython3",
   "version": "3.8.8"
  },
  "orig_nbformat": 4
 },
 "nbformat": 4,
 "nbformat_minor": 2
}
