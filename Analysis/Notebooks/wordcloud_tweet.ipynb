{
 "cells": [
  {
   "cell_type": "code",
   "execution_count": 1,
   "metadata": {},
   "outputs": [],
   "source": [
    "import os\n",
    "from wordcloud import WordCloud\n",
    "from nltk.corpus import stopwords\n",
    "path = '/Users/connormcdonald/Desktop/Masters/MIT807/Gartner Repository/Analysis/Figures'\n",
    "import sys\n",
    "sys.path.insert(1, '/Users/connormcdonald/Desktop/Masters/MIT807/Gartner Repository/Data Collection')\n",
    "from configs import *\n",
    "import numpy as np\n",
    "import pandas as pd\n",
    "import matplotlib\n",
    "import matplotlib.pyplot as plt\n",
    "from sqlalchemy import create_engine\n",
    "\n",
    "engine = create_engine('mysql+mysqlconnector://'+user+':'+passwd+'@'+ip+':3306/'+schema1)\n"
   ]
  },
  {
   "cell_type": "code",
   "execution_count": 2,
   "metadata": {},
   "outputs": [],
   "source": [
    "stmt = 'SELECT text FROM social.machine_learning'\n",
    "df = pd.read_sql(stmt, con=engine)"
   ]
  },
  {
   "cell_type": "code",
   "execution_count": 3,
   "metadata": {},
   "outputs": [],
   "source": [
    "# testdf = df.head()"
   ]
  },
  {
   "cell_type": "code",
   "execution_count": 4,
   "metadata": {},
   "outputs": [],
   "source": [
    "#Total Wordcloud\n",
    "allwords = ' '.join([tweets for tweets in df['text']]) \n",
    "stop_words = stopwords.words('english')\n",
    "stop_words.append('machine')\n",
    "stop_words.append('ml')\n",
    "stop_words.append('machinelearning')\n",
    "stop_words.append('learning')\n",
    "stop_words.append('ai')\n",
    "stop_words.append('artificial')\n",
    "stop_words.append('intelligence')\n",
    "stop_words.append('artificialintelligence')"
   ]
  },
  {
   "cell_type": "code",
   "execution_count": 5,
   "metadata": {},
   "outputs": [],
   "source": [
    "plt.rcParams['figure.dpi'] = 300\n",
    "plt.rcParams[\"figure.figsize\"] = [8, 4]\n",
    "wordCloud = WordCloud(width=1600, \n",
    "    height=800,\n",
    "    max_font_size = 200,\n",
    "    stopwords=stop_words,\n",
    "    random_state=2022).generate(allwords)\n",
    "plt.imshow(wordCloud, interpolation = 'bilinear')\n",
    "plt.axis('off')\n",
    "plt.savefig(os.path.join(path, 'wordcloud_total.pdf'), format='pdf',bbox_inches='tight',pad_inches = 0)\n",
    "plt.close()"
   ]
  },
  {
   "cell_type": "code",
   "execution_count": 10,
   "metadata": {},
   "outputs": [],
   "source": [
    "stmt = 'SELECT DISTINCT(M.id), M.text, B.sentiment FROM machine_learning M LEFT JOIN base_sentiment B ON M.id = B.id'\n",
    "df = pd.read_sql(stmt, con=engine)"
   ]
  },
  {
   "cell_type": "code",
   "execution_count": 11,
   "metadata": {},
   "outputs": [],
   "source": [
    "neg_df = df.loc[df['sentiment'] == 0]\n",
    "neu_df = df.loc[df['sentiment'] == 1]\n",
    "pos_df = df.loc[df['sentiment'] == 2]"
   ]
  },
  {
   "cell_type": "code",
   "execution_count": 13,
   "metadata": {},
   "outputs": [],
   "source": [
    "allwords = ' '.join([tweets for tweets in neg_df['text']]) \n",
    "plt.rcParams['figure.dpi'] = 300\n",
    "plt.rcParams[\"figure.figsize\"] = [8, 4]\n",
    "wordCloud = WordCloud(width=1600, \n",
    "    height=800,\n",
    "    max_font_size = 200,\n",
    "    stopwords=stop_words,\n",
    "    random_state=2022).generate(allwords)\n",
    "plt.imshow(wordCloud, interpolation = 'bilinear')\n",
    "plt.axis('off')\n",
    "plt.savefig(os.path.join(path, 'wordcloud_negative.pdf'), format='pdf',bbox_inches='tight',pad_inches = 0)\n",
    "plt.close()"
   ]
  },
  {
   "cell_type": "code",
   "execution_count": 14,
   "metadata": {},
   "outputs": [],
   "source": [
    "allwords = ' '.join([tweets for tweets in pos_df['text']]) \n",
    "plt.rcParams['figure.dpi'] = 300\n",
    "plt.rcParams[\"figure.figsize\"] = [8, 4]\n",
    "wordCloud = WordCloud(width=1600, \n",
    "    height=800,\n",
    "    max_font_size = 200,\n",
    "    stopwords=stop_words,\n",
    "    random_state=2022).generate(allwords)\n",
    "plt.imshow(wordCloud, interpolation = 'bilinear')\n",
    "plt.axis('off')\n",
    "plt.savefig(os.path.join(path, 'wordcloud_positive.pdf'), format='pdf',bbox_inches='tight',pad_inches = 0)\n",
    "plt.close()"
   ]
  },
  {
   "cell_type": "code",
   "execution_count": null,
   "metadata": {},
   "outputs": [],
   "source": [
    "allwords = ' '.join([tweets for tweets in neu_df['text']]) \n",
    "plt.rcParams['figure.dpi'] = 300\n",
    "plt.rcParams[\"figure.figsize\"] = [8, 4]\n",
    "wordCloud = WordCloud(width=1600, \n",
    "    height=800,\n",
    "    max_font_size = 200,\n",
    "    stopwords=stop_words,\n",
    "    random_state=2022).generate(allwords)\n",
    "plt.imshow(wordCloud, interpolation = 'bilinear')\n",
    "plt.axis('off')\n",
    "plt.savefig(os.path.join(path, 'wordcloud_neutral.pdf'), format='pdf',bbox_inches='tight',pad_inches = 0)\n",
    "plt.close()"
   ]
  },
  {
   "cell_type": "code",
   "execution_count": 59,
   "metadata": {},
   "outputs": [],
   "source": [
    "stmt = 'SELECT * FROM social.machine_learning WHERE date >= \\'2018-03-15\\' and date <= \\'2018-03-31\\' AND (text like \\'%facebook%\\' OR text like \\'%cambridge%\\')'\n",
    "df = pd.read_sql(stmt, con=engine)"
   ]
  },
  {
   "cell_type": "code",
   "execution_count": 60,
   "metadata": {},
   "outputs": [],
   "source": [
    "allwords = ' '.join([tweets for tweets in df['text']]) \n",
    "plt.rcParams['figure.dpi'] = 300\n",
    "plt.rcParams[\"figure.figsize\"] = [8, 4]\n",
    "wordCloud = WordCloud(width=1600, \n",
    "    height=800,\n",
    "    max_font_size = 200,\n",
    "    stopwords=stop_words,\n",
    "    random_state=2).generate(allwords)\n",
    "plt.imshow(wordCloud, interpolation = 'bilinear')\n",
    "plt.axis('off')\n",
    "plt.savefig(os.path.join(path, 'wordcloud_cambridge.pdf'), format='pdf',bbox_inches='tight',pad_inches = 0)\n",
    "plt.close()"
   ]
  },
  {
   "cell_type": "code",
   "execution_count": 52,
   "metadata": {},
   "outputs": [],
   "source": [
    "stmt = 'SELECT DISTINCT(M.id), M.text, M.date, B.sentiment FROM machine_learning M LEFT JOIN base_sentiment B ON M.id = B.id  WHERE date >= \\'2021-09-25\\' and date <= \\'2021-10-31\\' AND (text like \\'%deep%\\' OR text like \\'%mind%\\')'\n",
    "df = pd.read_sql(stmt, con=engine)"
   ]
  },
  {
   "cell_type": "code",
   "execution_count": 53,
   "metadata": {},
   "outputs": [],
   "source": [
    "neg_df = df.loc[df['sentiment'] == 0]\n",
    "neu_df = df.loc[df['sentiment'] == 1]\n",
    "pos_df = df.loc[df['sentiment'] == 2]"
   ]
  },
  {
   "cell_type": "code",
   "execution_count": 54,
   "metadata": {},
   "outputs": [],
   "source": [
    "allwords = ' '.join([tweets for tweets in neg_df['text']]) \n",
    "plt.rcParams['figure.dpi'] = 300\n",
    "plt.rcParams[\"figure.figsize\"] = [8, 4]\n",
    "wordCloud = WordCloud(width=1600, \n",
    "    height=800,\n",
    "    max_font_size = 200,\n",
    "    stopwords=stop_words,\n",
    "    random_state=2).generate(allwords)\n",
    "plt.imshow(wordCloud, interpolation = 'bilinear')\n",
    "plt.axis('off')\n",
    "plt.savefig(os.path.join(path, 'wordcloud_deepmind_neg.pdf'), format='pdf',bbox_inches='tight',pad_inches = 0)\n",
    "plt.close()"
   ]
  },
  {
   "cell_type": "code",
   "execution_count": 55,
   "metadata": {},
   "outputs": [],
   "source": [
    "allwords = ' '.join([tweets for tweets in neu_df['text']]) \n",
    "plt.rcParams['figure.dpi'] = 300\n",
    "plt.rcParams[\"figure.figsize\"] = [8, 4]\n",
    "wordCloud = WordCloud(width=1600, \n",
    "    height=800,\n",
    "    max_font_size = 200,\n",
    "    stopwords=stop_words,\n",
    "    random_state=2).generate(allwords)\n",
    "plt.imshow(wordCloud, interpolation = 'bilinear')\n",
    "plt.axis('off')\n",
    "plt.savefig(os.path.join(path, 'wordcloud_deepmind_neu.pdf'), format='pdf',bbox_inches='tight',pad_inches = 0)\n",
    "plt.close()"
   ]
  },
  {
   "cell_type": "code",
   "execution_count": 56,
   "metadata": {},
   "outputs": [],
   "source": [
    "allwords = ' '.join([tweets for tweets in pos_df['text']]) \n",
    "plt.rcParams['figure.dpi'] = 300\n",
    "plt.rcParams[\"figure.figsize\"] = [8, 4]\n",
    "wordCloud = WordCloud(width=1600, \n",
    "    height=800,\n",
    "    max_font_size = 200,\n",
    "    stopwords=stop_words,\n",
    "    random_state=2).generate(allwords)\n",
    "plt.imshow(wordCloud, interpolation = 'bilinear')\n",
    "plt.axis('off')\n",
    "plt.savefig(os.path.join(path, 'wordcloud_deepmind_pos.pdf'), format='pdf',bbox_inches='tight',pad_inches = 0)\n",
    "plt.close()"
   ]
  },
  {
   "cell_type": "code",
   "execution_count": 66,
   "metadata": {},
   "outputs": [],
   "source": [
    "stmt = 'SELECT DISTINCT(M.id), M.text, M.date, B.sentiment FROM machine_learning M LEFT JOIN base_sentiment B ON M.id = B.id  WHERE text like \\'%blackbox%\\' OR text like \\'%black box%\\''\n",
    "df = pd.read_sql(stmt, con=engine)"
   ]
  },
  {
   "cell_type": "code",
   "execution_count": 67,
   "metadata": {},
   "outputs": [],
   "source": [
    "neg_df = df.loc[df['sentiment'] == 0]\n",
    "neu_df = df.loc[df['sentiment'] == 1]\n",
    "pos_df = df.loc[df['sentiment'] == 2]"
   ]
  },
  {
   "cell_type": "code",
   "execution_count": 73,
   "metadata": {},
   "outputs": [],
   "source": [
    "allwords = ' '.join([tweets for tweets in neg_df['text']]) \n",
    "plt.rcParams['figure.dpi'] = 300\n",
    "plt.rcParams[\"figure.figsize\"] = [8, 4]\n",
    "wordCloud = WordCloud(width=1600, \n",
    "    height=800,\n",
    "    max_font_size = 200,\n",
    "    stopwords=stop_words,\n",
    "    random_state=1).generate(allwords)\n",
    "plt.imshow(wordCloud, interpolation = 'bilinear')\n",
    "plt.axis('off')\n",
    "plt.savefig(os.path.join(path, 'wordcloud_blackbox_neg.pdf'), format='pdf',bbox_inches='tight',pad_inches = 0)\n",
    "plt.close()"
   ]
  },
  {
   "cell_type": "code",
   "execution_count": 74,
   "metadata": {},
   "outputs": [],
   "source": [
    "allwords = ' '.join([tweets for tweets in pos_df['text']]) \n",
    "plt.rcParams['figure.dpi'] = 300\n",
    "plt.rcParams[\"figure.figsize\"] = [8, 4]\n",
    "wordCloud = WordCloud(width=1600, \n",
    "    height=800,\n",
    "    max_font_size = 200,\n",
    "    stopwords=stop_words,\n",
    "    random_state=1).generate(allwords)\n",
    "plt.imshow(wordCloud, interpolation = 'bilinear')\n",
    "plt.axis('off')\n",
    "plt.savefig(os.path.join(path, 'wordcloud_blackbox_pos.pdf'), format='pdf',bbox_inches='tight',pad_inches = 0)\n",
    "plt.close()"
   ]
  }
 ],
 "metadata": {
  "interpreter": {
   "hash": "f339fb3a027be473131e6ac829b8dc34fc7d4e2b227bdb2c2c5f9829538e0fed"
  },
  "kernelspec": {
   "display_name": "Python 3.8.8 ('base')",
   "language": "python",
   "name": "python3"
  },
  "language_info": {
   "codemirror_mode": {
    "name": "ipython",
    "version": 3
   },
   "file_extension": ".py",
   "mimetype": "text/x-python",
   "name": "python",
   "nbconvert_exporter": "python",
   "pygments_lexer": "ipython3",
   "version": "3.8.8"
  },
  "orig_nbformat": 4
 },
 "nbformat": 4,
 "nbformat_minor": 2
}
