{
 "cells": [
  {
   "cell_type": "code",
   "execution_count": 2,
   "metadata": {},
   "outputs": [],
   "source": [
    "import os\n",
    "import seaborn as sns\n",
    "path = '/Users/connormcdonald/Desktop/Masters/MIT807/Gartner Repository/Analysis/Figures'\n",
    "import sys\n",
    "sys.path.insert(1, '/Users/connormcdonald/Desktop/Masters/MIT807/Gartner Repository/Data Collection')\n",
    "from configs import *\n",
    "import numpy as np\n",
    "import statsmodels.formula.api as smf\n",
    "import pandas as pd\n",
    "import matplotlib\n",
    "import matplotlib.pyplot as plt\n",
    "\n",
    "# from mpl_toolkits.axisartist.axislines import SubplotZero\n",
    "# from pylab import text\n",
    "# matplotlib.use(\"pgf\")\n",
    "# matplotlib.rcParams.update({\n",
    "#     \"pgf.texsystem\": \"lualatex\",\n",
    "#     'font.family': 'serif',\n",
    "#     'text.usetex': True,\n",
    "#     'pgf.rcfonts': False,\n",
    "# })\n",
    "\n",
    "from sqlalchemy import create_engine\n",
    "\n",
    "engine = create_engine('mysql+mysqlconnector://'+user+':'+passwd+'@'+ip+':3306/'+schema1)"
   ]
  },
  {
   "cell_type": "code",
   "execution_count": 3,
   "metadata": {},
   "outputs": [],
   "source": [
    "df = pd.read_csv('/Users/connormcdonald/Desktop/Masters/MIT807/Data/twitterMAU.csv')\n",
    "df['period']  = pd.to_datetime(df['period'])"
   ]
  },
  {
   "cell_type": "code",
   "execution_count": 4,
   "metadata": {},
   "outputs": [],
   "source": [
    "df1 = df.iloc[:38,:]"
   ]
  },
  {
   "cell_type": "code",
   "execution_count": 8,
   "metadata": {},
   "outputs": [],
   "source": [
    "import matplotlib.dates as mdates\n",
    "\n",
    "\n",
    "degree = 3\n",
    "y = np.array(df1['mau'].to_list())\n",
    "X = np.array(mdates.date2num(df1['period']))\n",
    "date_index = []\n",
    "idx = 0\n",
    "for i in X:\n",
    "    date_index.append(idx)\n",
    "    idx += 1\n",
    "\n",
    "z = np.polyfit(date_index, y, degree)\n",
    "f = np.poly1d(z)\n",
    "\n",
    "df_trend = pd.DataFrame(columns=['X', 'y','d'])\n",
    "df_trend['X'] = date_index\n",
    "df_trend['y'] = y\n",
    "df_trend['d'] = X\n",
    "\n",
    "\n",
    "z = np.polyfit(df_trend.d, df_trend.y, degree)\n",
    "model = np.poly1d(z)\n",
    "results = smf.ols(formula='y ~ model(X)', data=df_trend).fit()\n",
    "\n",
    "# print(results.summary().as_latex())"
   ]
  },
  {
   "cell_type": "code",
   "execution_count": 17,
   "metadata": {},
   "outputs": [
    {
     "data": {
      "text/plain": [
       "poly1d([ 5.01067557e-10, -6.04624158e-05,  1.67401913e+00, -1.31289063e+04])"
      ]
     },
     "execution_count": 17,
     "metadata": {},
     "output_type": "execute_result"
    }
   ],
   "source": [
    "model"
   ]
  },
  {
   "cell_type": "code",
   "execution_count": 16,
   "metadata": {},
   "outputs": [
    {
     "data": {
      "text/plain": [
       "array([ 5.01067557e-10, -6.04624158e-05,  1.67401913e+00, -1.31289063e+04])"
      ]
     },
     "execution_count": 16,
     "metadata": {},
     "output_type": "execute_result"
    }
   ],
   "source": [
    "z"
   ]
  },
  {
   "cell_type": "code",
   "execution_count": 14,
   "metadata": {},
   "outputs": [],
   "source": [
    "X = mdates.date2num(df['period'])"
   ]
  },
  {
   "cell_type": "code",
   "execution_count": 19,
   "metadata": {},
   "outputs": [],
   "source": [
    "x_fit = mdates.date2num(df['period'])\n",
    "y_fit = [model(_x) for _x in x_fit]"
   ]
  },
  {
   "cell_type": "code",
   "execution_count": 25,
   "metadata": {},
   "outputs": [
    {
     "data": {
      "text/plain": [
       "0    2010-03-31\n",
       "1    2010-06-30\n",
       "2    2010-09-30\n",
       "3    2010-12-31\n",
       "4    2011-03-31\n",
       "5    2011-06-30\n",
       "6    2011-09-30\n",
       "7    2011-12-31\n",
       "8    2012-03-31\n",
       "9    2012-06-30\n",
       "10   2012-09-30\n",
       "11   2012-12-31\n",
       "12   2013-03-31\n",
       "13   2013-06-30\n",
       "14   2013-09-30\n",
       "15   2013-12-31\n",
       "16   2014-03-31\n",
       "17   2014-06-30\n",
       "18   2014-09-30\n",
       "19   2014-12-31\n",
       "20   2015-03-31\n",
       "21   2015-06-30\n",
       "22   2015-09-30\n",
       "23   2015-12-31\n",
       "24   2016-03-31\n",
       "25   2016-06-30\n",
       "26   2016-09-30\n",
       "27   2016-12-31\n",
       "28   2017-03-31\n",
       "29   2017-06-30\n",
       "30   2017-09-30\n",
       "31   2017-12-31\n",
       "32   2018-03-31\n",
       "33   2018-06-30\n",
       "34   2018-09-30\n",
       "35   2018-12-31\n",
       "36   2019-03-31\n",
       "37   2020-03-31\n",
       "38   2020-06-30\n",
       "39   2020-09-30\n",
       "40   2020-12-31\n",
       "41   2021-03-31\n",
       "42   2021-06-30\n",
       "43   2021-09-30\n",
       "44   2021-12-31\n",
       "Name: period, dtype: datetime64[ns]"
      ]
     },
     "execution_count": 25,
     "metadata": {},
     "output_type": "execute_result"
    }
   ],
   "source": [
    "df['period']"
   ]
  }
 ],
 "metadata": {
  "kernelspec": {
   "display_name": "Python 3.8.8 ('base')",
   "language": "python",
   "name": "python3"
  },
  "language_info": {
   "codemirror_mode": {
    "name": "ipython",
    "version": 3
   },
   "file_extension": ".py",
   "mimetype": "text/x-python",
   "name": "python",
   "nbconvert_exporter": "python",
   "pygments_lexer": "ipython3",
   "version": "3.8.8"
  },
  "orig_nbformat": 4,
  "vscode": {
   "interpreter": {
    "hash": "f339fb3a027be473131e6ac829b8dc34fc7d4e2b227bdb2c2c5f9829538e0fed"
   }
  }
 },
 "nbformat": 4,
 "nbformat_minor": 2
}
