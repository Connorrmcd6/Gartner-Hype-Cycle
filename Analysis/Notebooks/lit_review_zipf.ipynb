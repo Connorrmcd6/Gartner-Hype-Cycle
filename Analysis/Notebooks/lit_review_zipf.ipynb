{
 "cells": [
  {
   "cell_type": "code",
   "execution_count": 102,
   "metadata": {},
   "outputs": [],
   "source": [
    "import os\n",
    "path = '/Users/connormcdonald/Desktop/Masters/MIT807/Gartner Repository/Analysis/Figures'\n",
    "\n",
    "import numpy as np\n",
    "import pandas as pd\n",
    "import matplotlib\n",
    "import matplotlib.pyplot as plt\n",
    "from mpl_toolkits.axisartist.axislines import SubplotZero\n",
    "matplotlib.use(\"pgf\")\n",
    "matplotlib.rcParams.update({\n",
    "    \"pgf.texsystem\": \"lualatex\",\n",
    "    'font.family': 'serif',\n",
    "    'text.usetex': True,\n",
    "    'pgf.rcfonts': False,\n",
    "})"
   ]
  },
  {
   "cell_type": "code",
   "execution_count": 103,
   "metadata": {},
   "outputs": [],
   "source": [
    "P = np.arange(0.0000001, 1.001, 0.001)\n",
    "a = 2.1\n",
    "e = (a-2)/(a-1)\n",
    "\n",
    "W = []\n",
    "\n",
    "for i in P:\n",
    "    W.append(i**e)\n",
    "\n",
    "plt.plot(P, W, label = '\\\\alpha = 2.1', color = '#f6ab83')\n",
    "\n",
    "\n",
    "\n",
    "a = 2.2\n",
    "e = (a-2)/(a-1)\n",
    "\n",
    "W = []\n",
    "\n",
    "for i in P:\n",
    "    W.append(i**e)\n",
    "\n",
    "plt.plot(P, W, label = '\\\\alpha = 2.2', color = '#f06043')\n",
    "\n",
    "\n",
    "a = 2.4\n",
    "e = (a-2)/(a-1)\n",
    "W = []\n",
    "\n",
    "for i in P:\n",
    "    W.append(i**e)\n",
    "\n",
    "plt.plot(P, W, label = '\\\\alpha = 2.4', color = '#ca1a50')\n",
    "\n",
    "\n",
    "a = 2.7\n",
    "e = (a-2)/(a-1)\n",
    "W = []\n",
    "\n",
    "for i in P:\n",
    "    W.append(i**e)\n",
    "\n",
    "plt.plot(P, W, label = '\\\\alpha = 2.7', color = '#841e5a')\n",
    "\n",
    "\n",
    "\n",
    "a = 3.5\n",
    "e = (a-2)/(a-1)\n",
    "W = []\n",
    "\n",
    "for i in P:\n",
    "    W.append(i**e)\n",
    "\n",
    "plt.plot(P, W, label = '\\\\alpha = 3.5', color = '#3f1b43')\n",
    "plt.rcParams[\"figure.figsize\"] = [4, 4]\n",
    "plt.xlabel('Fraction of Population P', size = 12)\n",
    "plt.ylabel('Fraction of Occurences W', size = 12)\n",
    "plt.rcParams['figure.dpi'] = 300\n",
    "ax = plt.gca()\n",
    "ax.spines['right'].set_visible(False)\n",
    "ax.spines['top'].set_visible(False)\n",
    "ax.vlines(x=0.2, ymin=0, ymax=0.86, color='k', linestyle = '--', linewidth=1)\n",
    "plt.axhline(y = 0.86, color = 'k', linestyle = '--', xmax = 0.2, linewidth=1)\n",
    "plt.legend()\n",
    "plt.savefig(os.path.join(path, '80-20.pdf'), format='pdf',bbox_inches='tight',pad_inches = 0)\n",
    "plt.close()\n",
    "\n"
   ]
  },
  {
   "cell_type": "code",
   "execution_count": 104,
   "metadata": {},
   "outputs": [],
   "source": [
    "a = 3.5\n",
    "n = 20000\n",
    "s = np.random.zipf(a, n)"
   ]
  },
  {
   "cell_type": "code",
   "execution_count": 105,
   "metadata": {},
   "outputs": [
    {
     "name": "stderr",
     "output_type": "stream",
     "text": [
      "/Users/connormcdonald/opt/anaconda3/lib/python3.8/site-packages/seaborn/distributions.py:2557: FutureWarning: `distplot` is a deprecated function and will be removed in a future version. Please adapt your code to use either `displot` (a figure-level function with similar flexibility) or `histplot` (an axes-level function for histograms).\n",
      "  warnings.warn(msg, FutureWarning)\n"
     ]
    }
   ],
   "source": [
    "from numpy import random\n",
    "import matplotlib.pyplot as plt\n",
    "import seaborn as sns\n",
    "\n",
    "x = random.zipf(a=1.5, size=50000)\n",
    "\n",
    "plt.rcParams[\"figure.figsize\"] = [4, 4]\n",
    "plt.xlabel('Rank', size = 12)\n",
    "plt.ylabel('Frequency', size = 12)\n",
    "plt.rcParams['figure.dpi'] = 300\n",
    "ax = plt.gca()\n",
    "sns.distplot(x[x<25], kde=False, color = '#003366', hist_kws=dict(alpha=1))\n",
    "ax.spines['right'].set_visible(False)\n",
    "ax.spines['top'].set_visible(False)\n",
    "plt.savefig(os.path.join(path, 'zipf_sample.pdf'), format='pdf',bbox_inches='tight',pad_inches = 0)\n",
    "plt.close()"
   ]
  },
  {
   "cell_type": "code",
   "execution_count": 106,
   "metadata": {},
   "outputs": [
    {
     "name": "stdout",
     "output_type": "stream",
     "text": [
      "['#f6ab83', '#f06043', '#ca1a50', '#841e5a', '#3f1b43']\n"
     ]
    }
   ],
   "source": [
    "import seaborn as sns\n",
    "palette = sns.color_palette(\"rocket_r\", 5).as_hex()\n",
    "print(palette)"
   ]
  }
 ],
 "metadata": {
  "interpreter": {
   "hash": "f339fb3a027be473131e6ac829b8dc34fc7d4e2b227bdb2c2c5f9829538e0fed"
  },
  "kernelspec": {
   "display_name": "Python 3.8.8 ('base')",
   "language": "python",
   "name": "python3"
  },
  "language_info": {
   "codemirror_mode": {
    "name": "ipython",
    "version": 3
   },
   "file_extension": ".py",
   "mimetype": "text/x-python",
   "name": "python",
   "nbconvert_exporter": "python",
   "pygments_lexer": "ipython3",
   "version": "3.8.8"
  },
  "orig_nbformat": 4
 },
 "nbformat": 4,
 "nbformat_minor": 2
}
