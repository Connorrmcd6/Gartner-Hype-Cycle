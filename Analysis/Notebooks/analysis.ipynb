{
 "cells": [
  {
   "cell_type": "code",
   "execution_count": 2,
   "metadata": {},
   "outputs": [],
   "source": [
    "import os\n",
    "import seaborn as sns\n",
    "path = '/Users/connormcdonald/Desktop/Masters/MIT807/Gartner Repository/Analysis/Figures'\n",
    "import sys\n",
    "sys.path.insert(1, '/Users/connormcdonald/Desktop/Masters/MIT807/Gartner Repository/Data Collection')\n",
    "from configs import *\n",
    "import numpy as np\n",
    "import pandas as pd\n",
    "import matplotlib\n",
    "import matplotlib.pyplot as plt\n",
    "from mpl_toolkits.axisartist.axislines import SubplotZero\n",
    "matplotlib.use(\"pgf\")\n",
    "matplotlib.rcParams.update({\n",
    "    \"pgf.texsystem\": \"lualatex\",\n",
    "    'font.family': 'serif',\n",
    "    'text.usetex': True,\n",
    "    'pgf.rcfonts': False,\n",
    "})\n",
    "\n",
    "from sqlalchemy import create_engine\n",
    "\n",
    "engine = create_engine('mysql+mysqlconnector://'+user+':'+passwd+'@'+ip+':3306/'+schema1)\n"
   ]
  },
  {
   "cell_type": "code",
   "execution_count": 3,
   "metadata": {},
   "outputs": [],
   "source": [
    "# matplotlib.rcParams[\"text.usetex\"] = True\n",
    "# plt.rcParams[\"figure.figsize\"] = [8, 4]\n",
    "# plt.xlabel('Time', size = 12)\n",
    "# plt.ylabel('Expectations', size = 12)\n",
    "# plt.rcParams['figure.dpi'] = 300\n",
    "# ax = plt.gca()"
   ]
  },
  {
   "cell_type": "code",
   "execution_count": 4,
   "metadata": {},
   "outputs": [],
   "source": [
    "stmt = 'SELECT DISTINCT(M.id), M.text, M.like_count, M.retweet_count, M.quote_count, M.date, B.sentiment AS s FROM machine_learning M LEFT JOIN base_sentiment B ON M.id = B.id'\n",
    "df = pd.read_sql(stmt, con=engine)"
   ]
  },
  {
   "cell_type": "code",
   "execution_count": 5,
   "metadata": {},
   "outputs": [],
   "source": [
    "from datetime import datetime\n",
    "def sentiment(sentiment):\n",
    "    if sentiment == 0:\n",
    "        return 'negative'\n",
    "    if sentiment == 1:\n",
    "        return 'neutral'\n",
    "    if sentiment == 2:\n",
    "        return 'positive'\n",
    "\n",
    "def dformat(d):\n",
    "    return datetime.strptime(d, '%Y-%m-%d').strftime('%Y')\n",
    "    \n",
    "df['sentiment'] = df['s'].apply(sentiment)\n",
    "df.date = df.date.apply(dformat)"
   ]
  },
  {
   "cell_type": "code",
   "execution_count": 6,
   "metadata": {},
   "outputs": [
    {
     "data": {
      "text/html": [
       "<div>\n",
       "<style scoped>\n",
       "    .dataframe tbody tr th:only-of-type {\n",
       "        vertical-align: middle;\n",
       "    }\n",
       "\n",
       "    .dataframe tbody tr th {\n",
       "        vertical-align: top;\n",
       "    }\n",
       "\n",
       "    .dataframe thead th {\n",
       "        text-align: right;\n",
       "    }\n",
       "</style>\n",
       "<table border=\"1\" class=\"dataframe\">\n",
       "  <thead>\n",
       "    <tr style=\"text-align: right;\">\n",
       "      <th></th>\n",
       "      <th>id</th>\n",
       "      <th>text</th>\n",
       "      <th>like_count</th>\n",
       "      <th>retweet_count</th>\n",
       "      <th>quote_count</th>\n",
       "      <th>date</th>\n",
       "      <th>s</th>\n",
       "      <th>sentiment</th>\n",
       "    </tr>\n",
       "  </thead>\n",
       "  <tbody>\n",
       "    <tr>\n",
       "      <th>0</th>\n",
       "      <td>8424885080</td>\n",
       "      <td>my 3 mth career break has started now for lots...</td>\n",
       "      <td>0</td>\n",
       "      <td>0</td>\n",
       "      <td>0</td>\n",
       "      <td>2010</td>\n",
       "      <td>2</td>\n",
       "      <td>positive</td>\n",
       "    </tr>\n",
       "    <tr>\n",
       "      <th>1</th>\n",
       "      <td>8424527990</td>\n",
       "      <td>prediction of sporting results using neural ne...</td>\n",
       "      <td>0</td>\n",
       "      <td>0</td>\n",
       "      <td>0</td>\n",
       "      <td>2010</td>\n",
       "      <td>1</td>\n",
       "      <td>neutral</td>\n",
       "    </tr>\n",
       "    <tr>\n",
       "      <th>2</th>\n",
       "      <td>8420419006</td>\n",
       "      <td>im learning the drawback of selling in a middl...</td>\n",
       "      <td>0</td>\n",
       "      <td>0</td>\n",
       "      <td>0</td>\n",
       "      <td>2010</td>\n",
       "      <td>1</td>\n",
       "      <td>neutral</td>\n",
       "    </tr>\n",
       "    <tr>\n",
       "      <th>3</th>\n",
       "      <td>8419386549</td>\n",
       "      <td>encyclopedia of machine learning  springerverl...</td>\n",
       "      <td>0</td>\n",
       "      <td>0</td>\n",
       "      <td>0</td>\n",
       "      <td>2010</td>\n",
       "      <td>2</td>\n",
       "      <td>positive</td>\n",
       "    </tr>\n",
       "    <tr>\n",
       "      <th>4</th>\n",
       "      <td>8415166607</td>\n",
       "      <td>junior researchermathematical modeller machine...</td>\n",
       "      <td>0</td>\n",
       "      <td>0</td>\n",
       "      <td>0</td>\n",
       "      <td>2010</td>\n",
       "      <td>1</td>\n",
       "      <td>neutral</td>\n",
       "    </tr>\n",
       "  </tbody>\n",
       "</table>\n",
       "</div>"
      ],
      "text/plain": [
       "           id                                               text  like_count  \\\n",
       "0  8424885080  my 3 mth career break has started now for lots...           0   \n",
       "1  8424527990  prediction of sporting results using neural ne...           0   \n",
       "2  8420419006  im learning the drawback of selling in a middl...           0   \n",
       "3  8419386549  encyclopedia of machine learning  springerverl...           0   \n",
       "4  8415166607  junior researchermathematical modeller machine...           0   \n",
       "\n",
       "   retweet_count  quote_count  date  s sentiment  \n",
       "0              0            0  2010  2  positive  \n",
       "1              0            0  2010  1   neutral  \n",
       "2              0            0  2010  1   neutral  \n",
       "3              0            0  2010  2  positive  \n",
       "4              0            0  2010  1   neutral  "
      ]
     },
     "execution_count": 6,
     "metadata": {},
     "output_type": "execute_result"
    }
   ],
   "source": [
    "df.head()"
   ]
  },
  {
   "cell_type": "code",
   "execution_count": 7,
   "metadata": {},
   "outputs": [],
   "source": [
    "matplotlib.rcParams[\"text.usetex\"] = True\n",
    "plt.rcParams[\"figure.figsize\"] = [8, 4]\n",
    "plt.rcParams['figure.dpi'] = 300\n",
    "sns.countplot(x= \"date\", hue=\"sentiment\", data=df, palette=['#abd0e6',\"#6aaed6\", '#105ba4'])\n",
    "ax = plt.gca()\n",
    "ax.spines['right'].set_visible(False)\n",
    "ax.spines['top'].set_visible(False)\n",
    "plt.xlabel('Year', size = 12)\n",
    "plt.ylabel('Number of Tweets', size = 12)\n",
    "plt.savefig(os.path.join(path, 'sentiment_count.pdf'), format='pdf',bbox_inches='tight',pad_inches = 0)\n",
    "plt.close()"
   ]
  },
  {
   "cell_type": "code",
   "execution_count": 8,
   "metadata": {},
   "outputs": [],
   "source": [
    "df['tweet_length'] = [len(t) for t in df.text]"
   ]
  },
  {
   "cell_type": "code",
   "execution_count": 9,
   "metadata": {},
   "outputs": [],
   "source": [
    "matplotlib.rcParams[\"text.usetex\"] = True\n",
    "ax = plt.gca()\n",
    "ax.spines['right'].set_visible(False)\n",
    "ax.spines['top'].set_visible(False)\n",
    "sns.boxplot(y='tweet_length', x='date', \n",
    "                 data=df, \n",
    "                 width=0.5,\n",
    "                 palette=['#d6e6f4', '#6aaed6', '#105ba4'],\n",
    "                 hue=\"sentiment\",\n",
    "                 linewidth=1,\n",
    "                 fliersize=1,\n",
    "                 ax=ax,)\n",
    "plt.rcParams[\"figure.figsize\"] = [8, 4]\n",
    "plt.rcParams['figure.dpi'] = 300\n",
    "plt.xlabel('Year', size = 12)\n",
    "plt.ylabel('Number of Characters per Tweet', size = 12)\n",
    "\n",
    "\n",
    "plt.savefig(os.path.join(path, 'tweet_length_year.pdf'), format='pdf',bbox_inches='tight',pad_inches = 0)\n",
    "plt.close()"
   ]
  },
  {
   "cell_type": "code",
   "execution_count": 10,
   "metadata": {},
   "outputs": [
    {
     "data": {
      "text/plain": [
       "CountVectorizer()"
      ]
     },
     "execution_count": 10,
     "metadata": {},
     "output_type": "execute_result"
    }
   ],
   "source": [
    "from sklearn.feature_extraction.text import CountVectorizer\n",
    "cvec = CountVectorizer()\n",
    "cvec.fit(df.text)"
   ]
  },
  {
   "cell_type": "code",
   "execution_count": 11,
   "metadata": {},
   "outputs": [
    {
     "data": {
      "text/plain": [
       "783584"
      ]
     },
     "execution_count": 11,
     "metadata": {},
     "output_type": "execute_result"
    }
   ],
   "source": [
    "len(cvec.get_feature_names_out())"
   ]
  },
  {
   "cell_type": "code",
   "execution_count": 12,
   "metadata": {},
   "outputs": [],
   "source": [
    "neg_doc_matrix = cvec.transform(df[df.sentiment == 'negative'].text)\n",
    "neu_doc_matrix = cvec.transform(df[df.sentiment == 'neutral'].text)\n",
    "pos_doc_matrix = cvec.transform(df[df.sentiment == 'positive'].text)\n",
    "neg_tf = np.sum(neg_doc_matrix,axis=0)\n",
    "neu_tf = np.sum(neu_doc_matrix,axis=0)\n",
    "pos_tf = np.sum(pos_doc_matrix,axis=0)\n",
    "neg = np.squeeze(np.asarray(neg_tf))\n",
    "neu = np.squeeze(np.asarray(neu_tf))\n",
    "pos = np.squeeze(np.asarray(pos_tf))\n",
    "term_freq_df = pd.DataFrame([neg,neu,pos],columns=cvec.get_feature_names_out()).transpose()"
   ]
  },
  {
   "cell_type": "code",
   "execution_count": 13,
   "metadata": {},
   "outputs": [
    {
     "data": {
      "text/html": [
       "<div>\n",
       "<style scoped>\n",
       "    .dataframe tbody tr th:only-of-type {\n",
       "        vertical-align: middle;\n",
       "    }\n",
       "\n",
       "    .dataframe tbody tr th {\n",
       "        vertical-align: top;\n",
       "    }\n",
       "\n",
       "    .dataframe thead th {\n",
       "        text-align: right;\n",
       "    }\n",
       "</style>\n",
       "<table border=\"1\" class=\"dataframe\">\n",
       "  <thead>\n",
       "    <tr style=\"text-align: right;\">\n",
       "      <th></th>\n",
       "      <th>0</th>\n",
       "      <th>1</th>\n",
       "      <th>2</th>\n",
       "    </tr>\n",
       "  </thead>\n",
       "  <tbody>\n",
       "    <tr>\n",
       "      <th>00</th>\n",
       "      <td>22</td>\n",
       "      <td>41</td>\n",
       "      <td>74</td>\n",
       "    </tr>\n",
       "    <tr>\n",
       "      <th>000</th>\n",
       "      <td>49</td>\n",
       "      <td>186</td>\n",
       "      <td>99</td>\n",
       "    </tr>\n",
       "    <tr>\n",
       "      <th>0000</th>\n",
       "      <td>4</td>\n",
       "      <td>21</td>\n",
       "      <td>8</td>\n",
       "    </tr>\n",
       "    <tr>\n",
       "      <th>00000</th>\n",
       "      <td>0</td>\n",
       "      <td>1</td>\n",
       "      <td>1</td>\n",
       "    </tr>\n",
       "    <tr>\n",
       "      <th>000000</th>\n",
       "      <td>1</td>\n",
       "      <td>3</td>\n",
       "      <td>2</td>\n",
       "    </tr>\n",
       "  </tbody>\n",
       "</table>\n",
       "</div>"
      ],
      "text/plain": [
       "         0    1   2\n",
       "00      22   41  74\n",
       "000     49  186  99\n",
       "0000     4   21   8\n",
       "00000    0    1   1\n",
       "000000   1    3   2"
      ]
     },
     "execution_count": 13,
     "metadata": {},
     "output_type": "execute_result"
    }
   ],
   "source": [
    "term_freq_df.head()"
   ]
  },
  {
   "cell_type": "code",
   "execution_count": 14,
   "metadata": {},
   "outputs": [],
   "source": [
    "term_freq_df.columns = ['negative', 'neutral', 'positive']\n",
    "term_freq_df['total'] = term_freq_df['negative'] + term_freq_df['neutral'] + term_freq_df['positive']\n",
    "term_freq_df = term_freq_df.sort_values(by='total', ascending=False).iloc[2:, :]\n"
   ]
  },
  {
   "cell_type": "code",
   "execution_count": 15,
   "metadata": {},
   "outputs": [],
   "source": [
    "# y_pos = np.arange(500)\n",
    "# plt.figure(figsize=(8,4))\n",
    "# s = 1\n",
    "# expected_zipf = [term_freq_df.sort_values(by='total', ascending=False)['total'][0]/(i+1)**s for i in y_pos]\n",
    "# plt.bar(y_pos, term_freq_df.sort_values(by='total', ascending=False)['total'][:500], align='center', color = '#003366')\n",
    "# plt.plot(y_pos, expected_zipf, color='#E31B23', linestyle='--',linewidth=2)\n",
    "# plt.ylabel('Frequency', size=12)\n",
    "# ax = plt.gca()\n",
    "# ax.spines['right'].set_visible(False)\n",
    "# ax.spines['top'].set_visible(False)\n",
    "# plt.savefig(os.path.join(path, 'zipfs.pdf'), format='pdf',bbox_inches='tight',pad_inches = 0)\n",
    "# plt.close()"
   ]
  },
  {
   "cell_type": "code",
   "execution_count": 16,
   "metadata": {},
   "outputs": [],
   "source": [
    "# from pylab import *\n",
    "# counts = term_freq_df.total\n",
    "# tokens = term_freq_df.index\n",
    "# ranks = arange(1, len(counts)+1)\n",
    "# indices = argsort(-counts)\n",
    "# frequencies = counts[indices]\n",
    "# plt.figure(figsize=(8,4))\n",
    "# plt.ylim(1,10**6)\n",
    "# plt.xlim(1,10**6)\n",
    "# loglog(ranks, frequencies, marker=\".\")\n",
    "# plt.plot([1,frequencies[0]],[frequencies[0],1],color='r')\n",
    "# xlabel(\"Frequency rank of token\", size=12)\n",
    "# ylabel(\"Absolute frequency of token\", size=12)\n",
    "# ax = plt.gca()\n",
    "# ax.spines['right'].set_visible(False)\n",
    "# ax.spines['top'].set_visible(False)\n",
    "# for n in list(logspace(-0.5, log10(len(counts)-2), 25).astype(int)):\n",
    "#     dummy = text(ranks[n], frequencies[n], \" \" + tokens[indices[n]], \n",
    "#                  verticalalignment=\"bottom\",\n",
    "#                  horizontalalignment=\"left\")\n",
    "\n",
    "# plt.savefig(os.path.join(path, 'zipf_plot.pdf'), format='pdf',bbox_inches='tight',pad_inches = 0)\n",
    "# plt.close()"
   ]
  },
  {
   "cell_type": "code",
   "execution_count": 17,
   "metadata": {},
   "outputs": [],
   "source": [
    "# y_pos = np.arange(50)\n",
    "# plt.figure(figsize=(8,4))\n",
    "# plt.bar(y_pos, term_freq_df.sort_values(by='negative', ascending=False)['negative'][:50], align='center', color = '#003366')\n",
    "# plt.xticks(y_pos, term_freq_df.sort_values(by='negative', ascending=False)['negative'][:50].index,rotation='vertical')\n",
    "# ax = plt.gca()\n",
    "# ax.spines['right'].set_visible(False)\n",
    "# ax.spines['top'].set_visible(False)\n",
    "# plt.ylabel('Frequency', size =12)\n",
    "# plt.xlabel('Top 50 negative tokens', size =12)\n",
    "# plt.savefig(os.path.join(path, 'zipfs_negative.pdf'), format='pdf',bbox_inches='tight',pad_inches = 0)\n",
    "# plt.close()\n"
   ]
  },
  {
   "cell_type": "code",
   "execution_count": 18,
   "metadata": {},
   "outputs": [],
   "source": [
    "# y_pos = np.arange(50)\n",
    "# plt.figure(figsize=(8,4))\n",
    "# plt.bar(y_pos, term_freq_df.sort_values(by='positive', ascending=False)['positive'][:50], align='center', color = '#003366')\n",
    "# ax = plt.gca()\n",
    "# ax.spines['right'].set_visible(False)\n",
    "# ax.spines['top'].set_visible(False)\n",
    "# plt.xticks(y_pos, term_freq_df.sort_values(by='positive', ascending=False)['positive'][:50].index,rotation='vertical')\n",
    "# plt.ylabel('Frequency', size=12)\n",
    "# plt.xlabel('Top 50 positive tokens', size=12)\n",
    "# plt.savefig(os.path.join(path, 'zipfs_positive.pdf'), format='pdf',bbox_inches='tight',pad_inches = 0)\n",
    "# plt.close()\n"
   ]
  },
  {
   "cell_type": "code",
   "execution_count": 19,
   "metadata": {},
   "outputs": [],
   "source": [
    "import seaborn as sns\n",
    "plt.figure(figsize=(8,4))\n",
    "ax = sns.regplot(x=\"negative\", y=\"positive\",fit_reg=False, scatter_kws={'alpha':0.5},data=term_freq_df)\n",
    "plt.ylabel('Positive Frequency', size=12)\n",
    "plt.xlabel('Negative Frequency', size=12)\n",
    "ax = plt.gca()\n",
    "ax.spines['right'].set_visible(False)\n",
    "ax.spines['top'].set_visible(False)\n",
    "plt.savefig(os.path.join(path, 'neg_vs_positive.pdf'), format='pdf',bbox_inches='tight',pad_inches = 0)\n",
    "plt.close()\n",
    "\n"
   ]
  },
  {
   "cell_type": "code",
   "execution_count": null,
   "metadata": {},
   "outputs": [],
   "source": []
  }
 ],
 "metadata": {
  "interpreter": {
   "hash": "f339fb3a027be473131e6ac829b8dc34fc7d4e2b227bdb2c2c5f9829538e0fed"
  },
  "kernelspec": {
   "display_name": "Python 3.8.8 ('base')",
   "language": "python",
   "name": "python3"
  },
  "language_info": {
   "codemirror_mode": {
    "name": "ipython",
    "version": 3
   },
   "file_extension": ".py",
   "mimetype": "text/x-python",
   "name": "python",
   "nbconvert_exporter": "python",
   "pygments_lexer": "ipython3",
   "version": "3.8.8"
  },
  "orig_nbformat": 4
 },
 "nbformat": 4,
 "nbformat_minor": 2
}
