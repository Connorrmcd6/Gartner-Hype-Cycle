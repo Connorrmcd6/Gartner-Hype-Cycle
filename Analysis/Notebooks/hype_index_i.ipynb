{
 "cells": [
  {
   "cell_type": "code",
   "execution_count": 1,
   "metadata": {},
   "outputs": [
    {
     "data": {
      "text/plain": [
       "'\\nSELECT\\nA.date,\\nA.like_count,\\nA.quote_count,\\nA.reply_count,\\nA.retweet_count,\\nB.mnb_prediction,\\nB.mnb_probability,\\nB.svm_prediction,\\nB.svm_probability,\\nB.lr_prediction,\\nB.lr_probability,\\nB.ensemble_prediction,\\nB.ensemble_probability\\nFROM social.machine_learning_only A\\nINNER JOIN ML_sentiment B\\nON A.id = B.id\\n\\n'"
      ]
     },
     "execution_count": 1,
     "metadata": {},
     "output_type": "execute_result"
    }
   ],
   "source": [
    "#join query \n",
    "\n",
    "'''\n",
    "SELECT\n",
    "A.date,\n",
    "A.like_count,\n",
    "A.quote_count,\n",
    "A.reply_count,\n",
    "A.retweet_count,\n",
    "B.mnb_prediction,\n",
    "B.mnb_probability,\n",
    "B.svm_prediction,\n",
    "B.svm_probability,\n",
    "B.lr_prediction,\n",
    "B.lr_probability,\n",
    "B.ensemble_prediction,\n",
    "B.ensemble_probability\n",
    "FROM social.machine_learning_only A\n",
    "INNER JOIN ML_sentiment B\n",
    "ON A.id = B.id\n",
    "\n",
    "'''"
   ]
  },
  {
   "cell_type": "code",
   "execution_count": 2,
   "metadata": {},
   "outputs": [
    {
     "data": {
      "text/plain": [
       "\"\\nSELECT\\nDATE_FORMAT(A.date, '%Y-%m') AS date,\\nSUM(A.like_count) AS monthly_likes,\\nSUM(A.quote_count) AS monthly_quotes,\\nSUM(A.reply_count) AS monthly_replies,\\nSUM(A.retweet_count) AS monthly_retweets,\\nAVG(B.mnb_probability) AS avg_mnb_prob,\\nAVG(B.svm_probability) AS avg_svm_prob,\\nAVG(B.lr_probability) AS avg_lr_prob,\\nAVG(B.ensemble_probability) AS avg_ensemble_prob\\nFROM social.machine_learning_only A\\nINNER JOIN ML_sentiment B\\nON A.id = B.id\\nGROUP BY DATE_FORMAT(A.date, '%Y-%m')\\n\\n\""
      ]
     },
     "execution_count": 2,
     "metadata": {},
     "output_type": "execute_result"
    }
   ],
   "source": [
    "#Aggregate Query\n",
    "\n",
    "'''\n",
    "SELECT\n",
    "DATE_FORMAT(A.date, '%Y-%m') AS date,\n",
    "SUM(A.like_count) AS monthly_likes,\n",
    "SUM(A.quote_count) AS monthly_quotes,\n",
    "SUM(A.reply_count) AS monthly_replies,\n",
    "SUM(A.retweet_count) AS monthly_retweets,\n",
    "AVG(B.mnb_probability) AS avg_mnb_prob,\n",
    "AVG(B.svm_probability) AS avg_svm_prob,\n",
    "AVG(B.lr_probability) AS avg_lr_prob,\n",
    "AVG(B.ensemble_probability) AS avg_ensemble_prob\n",
    "FROM social.machine_learning_only A\n",
    "INNER JOIN ML_sentiment B\n",
    "ON A.id = B.id\n",
    "GROUP BY DATE_FORMAT(A.date, '%Y-%m')\n",
    "\n",
    "'''"
   ]
  },
  {
   "cell_type": "code",
   "execution_count": 3,
   "metadata": {},
   "outputs": [],
   "source": [
    "import pandas as pd \n",
    "import numpy as np\n",
    "import matplotlib.pyplot as plt"
   ]
  },
  {
   "cell_type": "code",
   "execution_count": 4,
   "metadata": {},
   "outputs": [
    {
     "data": {
      "text/html": [
       "<div>\n",
       "<style scoped>\n",
       "    .dataframe tbody tr th:only-of-type {\n",
       "        vertical-align: middle;\n",
       "    }\n",
       "\n",
       "    .dataframe tbody tr th {\n",
       "        vertical-align: top;\n",
       "    }\n",
       "\n",
       "    .dataframe thead th {\n",
       "        text-align: right;\n",
       "    }\n",
       "</style>\n",
       "<table border=\"1\" class=\"dataframe\">\n",
       "  <thead>\n",
       "    <tr style=\"text-align: right;\">\n",
       "      <th></th>\n",
       "      <th>date</th>\n",
       "      <th>monthly_likes</th>\n",
       "      <th>monthly_quotes</th>\n",
       "      <th>monthly_replies</th>\n",
       "      <th>monthly_retweets</th>\n",
       "      <th>number_of_tweets</th>\n",
       "      <th>mnb_sentiment</th>\n",
       "      <th>svm_sentiment</th>\n",
       "      <th>lr_sentiment</th>\n",
       "      <th>ensemble_sentiment</th>\n",
       "    </tr>\n",
       "  </thead>\n",
       "  <tbody>\n",
       "    <tr>\n",
       "      <th>0</th>\n",
       "      <td>2010-01</td>\n",
       "      <td>45</td>\n",
       "      <td>0</td>\n",
       "      <td>0</td>\n",
       "      <td>97</td>\n",
       "      <td>528</td>\n",
       "      <td>0.7860</td>\n",
       "      <td>0.9811</td>\n",
       "      <td>0.7027</td>\n",
       "      <td>0.8277</td>\n",
       "    </tr>\n",
       "    <tr>\n",
       "      <th>1</th>\n",
       "      <td>2010-02</td>\n",
       "      <td>124</td>\n",
       "      <td>0</td>\n",
       "      <td>0</td>\n",
       "      <td>70</td>\n",
       "      <td>562</td>\n",
       "      <td>0.7331</td>\n",
       "      <td>0.9875</td>\n",
       "      <td>0.7117</td>\n",
       "      <td>0.7758</td>\n",
       "    </tr>\n",
       "    <tr>\n",
       "      <th>2</th>\n",
       "      <td>2010-03</td>\n",
       "      <td>98</td>\n",
       "      <td>0</td>\n",
       "      <td>0</td>\n",
       "      <td>76</td>\n",
       "      <td>765</td>\n",
       "      <td>0.6405</td>\n",
       "      <td>0.9908</td>\n",
       "      <td>0.5908</td>\n",
       "      <td>0.6863</td>\n",
       "    </tr>\n",
       "    <tr>\n",
       "      <th>3</th>\n",
       "      <td>2010-04</td>\n",
       "      <td>186</td>\n",
       "      <td>0</td>\n",
       "      <td>0</td>\n",
       "      <td>129</td>\n",
       "      <td>813</td>\n",
       "      <td>0.7232</td>\n",
       "      <td>0.9963</td>\n",
       "      <td>0.6986</td>\n",
       "      <td>0.7651</td>\n",
       "    </tr>\n",
       "    <tr>\n",
       "      <th>4</th>\n",
       "      <td>2010-05</td>\n",
       "      <td>157</td>\n",
       "      <td>0</td>\n",
       "      <td>0</td>\n",
       "      <td>141</td>\n",
       "      <td>999</td>\n",
       "      <td>0.5946</td>\n",
       "      <td>0.9940</td>\n",
       "      <td>0.5876</td>\n",
       "      <td>0.6747</td>\n",
       "    </tr>\n",
       "  </tbody>\n",
       "</table>\n",
       "</div>"
      ],
      "text/plain": [
       "      date  monthly_likes  monthly_quotes  monthly_replies  monthly_retweets  \\\n",
       "0  2010-01             45               0                0                97   \n",
       "1  2010-02            124               0                0                70   \n",
       "2  2010-03             98               0                0                76   \n",
       "3  2010-04            186               0                0               129   \n",
       "4  2010-05            157               0                0               141   \n",
       "\n",
       "   number_of_tweets  mnb_sentiment  svm_sentiment  lr_sentiment  \\\n",
       "0               528         0.7860         0.9811        0.7027   \n",
       "1               562         0.7331         0.9875        0.7117   \n",
       "2               765         0.6405         0.9908        0.5908   \n",
       "3               813         0.7232         0.9963        0.6986   \n",
       "4               999         0.5946         0.9940        0.5876   \n",
       "\n",
       "   ensemble_sentiment  \n",
       "0              0.8277  \n",
       "1              0.7758  \n",
       "2              0.6863  \n",
       "3              0.7651  \n",
       "4              0.6747  "
      ]
     },
     "execution_count": 4,
     "metadata": {},
     "output_type": "execute_result"
    }
   ],
   "source": [
    "df = pd.read_csv('/Users/connormcdonald/Desktop/processed_ml_V0.csv')\n",
    "df.head()"
   ]
  },
  {
   "cell_type": "code",
   "execution_count": 5,
   "metadata": {},
   "outputs": [],
   "source": [
    "def find_quartiles(x):\n",
    "    v = []\n",
    "    q = np.quantile(x, [0,0.25,0.5,0.75,1])\n",
    "    for i in x:\n",
    "        if i <= q[1]:\n",
    "            v.append(0.25)\n",
    "        elif q[1] < i <= q[2]:\n",
    "            v.append(0.5)\n",
    "        elif q[2] < i <= q[3]:\n",
    "            v.append(0.75)\n",
    "        else:\n",
    "            v.append(1)\n",
    "    return v"
   ]
  },
  {
   "cell_type": "code",
   "execution_count": 6,
   "metadata": {},
   "outputs": [],
   "source": [
    "monthly_likes = find_quartiles(df.monthly_likes)\n",
    "monthly_quotes = find_quartiles(df.monthly_quotes)\n",
    "monthly_replies = find_quartiles(df.monthly_replies)\n",
    "monthly_retweets = find_quartiles(df.monthly_retweets)\n",
    "number_of_tweets = find_quartiles(df.number_of_tweets)\n",
    "ensemble_percentage = df.ensemble_sentiment"
   ]
  },
  {
   "cell_type": "markdown",
   "metadata": {},
   "source": [
    "## Using Quartiles"
   ]
  },
  {
   "cell_type": "code",
   "execution_count": 7,
   "metadata": {},
   "outputs": [],
   "source": [
    "hype_index = []\n",
    "\n",
    "for i in range(len(monthly_likes)):\n",
    "    c1 = 10*monthly_likes[i]\n",
    "    c2 = 10*monthly_quotes[i]\n",
    "    c3 = 10*monthly_replies[i]\n",
    "    c4 = 10*monthly_retweets[i]\n",
    "    c5 = 30*number_of_tweets[i]\n",
    "    c6 = 30*ensemble_percentage[i]\n",
    "\n",
    "    s = sum([c1,c2,c3,c4,c5,c6])\n",
    "    hype_index.append(s)"
   ]
  },
  {
   "cell_type": "code",
   "execution_count": 8,
   "metadata": {},
   "outputs": [],
   "source": [
    "arr = hype_index\n",
    "window_size = 12\n",
    "  \n",
    "i = 0\n",
    "# Initialize an empty list to store moving averages\n",
    "moving_averages = []\n",
    "  \n",
    "# Loop through the array t o\n",
    "#consider every window of size 3\n",
    "while i < len(arr) - window_size + 1:\n",
    "  \n",
    "    # Calculate the average of current window\n",
    "    window_average = round(np.sum(arr[\n",
    "      i:i+window_size]) / window_size, 2)\n",
    "      \n",
    "    # Store the average of current\n",
    "    # window in moving average list\n",
    "    moving_averages.append(window_average)\n",
    "      \n",
    "    # Shift window to right by one position\n",
    "    i += 1"
   ]
  },
  {
   "cell_type": "code",
   "execution_count": 9,
   "metadata": {},
   "outputs": [
    {
     "data": {
      "text/plain": [
       "[<matplotlib.lines.Line2D at 0x7fb3e87d4610>]"
      ]
     },
     "execution_count": 9,
     "metadata": {},
     "output_type": "execute_result"
    },
    {
     "data": {
      "image/png": "[encoded data removed]",
      "text/plain": [
       "<Figure size 432x288 with 1 Axes>"
      ]
     },
     "metadata": {
      "needs_background": "light"
     },
     "output_type": "display_data"
    }
   ],
   "source": [
    "plt.plot(hype_index)\n",
    "plt.plot(moving_averages)"
   ]
  },
  {
   "cell_type": "markdown",
   "metadata": {},
   "source": [
    "## Using Percentiles"
   ]
  },
  {
   "cell_type": "code",
   "execution_count": 10,
   "metadata": {},
   "outputs": [],
   "source": [
    "from  scipy.stats import percentileofscore\n",
    "\n",
    "\n",
    "monthly_likes = [percentileofscore(df.monthly_likes, i) for i in df.monthly_likes]\n",
    "monthly_quotes = [percentileofscore(df.monthly_quotes, i) for i in df.monthly_quotes]\n",
    "monthly_replies = [percentileofscore(df.monthly_replies, i) for i in df.monthly_replies]\n",
    "monthly_retweets = [percentileofscore(df.monthly_retweets, i) for i in df.monthly_retweets]\n",
    "number_of_tweets = [percentileofscore(df.number_of_tweets, i) for i in df.number_of_tweets]\n",
    "ensemble_percentage = [percentileofscore(df.ensemble_sentiment, i) for i in df.ensemble_sentiment]\n",
    "# ensemble_percentage = df.ensemble_sentiment\n"
   ]
  },
  {
   "cell_type": "code",
   "execution_count": 11,
   "metadata": {},
   "outputs": [],
   "source": [
    "hype_index = []\n",
    "\n",
    "for i in range(len(monthly_likes)):\n",
    "    c1 = 10*monthly_likes[i]\n",
    "    c2 = 10*monthly_quotes[i]\n",
    "    c3 = 10*monthly_replies[i]\n",
    "    c4 = 10*monthly_retweets[i]\n",
    "    c5 = 30*number_of_tweets[i]\n",
    "    c6 = 30*ensemble_percentage[i]\n",
    "\n",
    "    s = sum([c1,c2,c3,c4,c5,c6])\n",
    "    hype_index.append(s)"
   ]
  },
  {
   "cell_type": "code",
   "execution_count": 12,
   "metadata": {},
   "outputs": [],
   "source": [
    "arr = hype_index\n",
    "window_size = 12\n",
    "  \n",
    "i = 0\n",
    "# Initialize an empty list to store moving averages\n",
    "moving_averages = []\n",
    "  \n",
    "# Loop through the array t o\n",
    "#consider every window of size 3\n",
    "while i < len(arr) - window_size + 1:\n",
    "  \n",
    "    # Calculate the average of current window\n",
    "    window_average = round(np.sum(arr[\n",
    "      i:i+window_size]) / window_size, 2)\n",
    "      \n",
    "    # Store the average of current\n",
    "    # window in moving average list\n",
    "    moving_averages.append(window_average)\n",
    "      \n",
    "    # Shift window to right by one position\n",
    "    i += 1\n",
    "\n"
   ]
  },
  {
   "cell_type": "code",
   "execution_count": 13,
   "metadata": {},
   "outputs": [
    {
     "data": {
      "text/plain": [
       "[<matplotlib.lines.Line2D at 0x7fb3f9f3ec70>]"
      ]
     },
     "execution_count": 13,
     "metadata": {},
     "output_type": "execute_result"
    },
    {
     "data": {
      "image/png": "[encoded data removed]",
      "text/plain": [
       "<Figure size 432x288 with 1 Axes>"
      ]
     },
     "metadata": {
      "needs_background": "light"
     },
     "output_type": "display_data"
    }
   ],
   "source": [
    "plt.plot(hype_index)\n",
    "plt.plot(moving_averages)"
   ]
  },
  {
   "cell_type": "markdown",
   "metadata": {},
   "source": [
    "## Adding Momentum"
   ]
  },
  {
   "cell_type": "code",
   "execution_count": 14,
   "metadata": {},
   "outputs": [
    {
     "data": {
      "text/html": [
       "<div>\n",
       "<style scoped>\n",
       "    .dataframe tbody tr th:only-of-type {\n",
       "        vertical-align: middle;\n",
       "    }\n",
       "\n",
       "    .dataframe tbody tr th {\n",
       "        vertical-align: top;\n",
       "    }\n",
       "\n",
       "    .dataframe thead th {\n",
       "        text-align: right;\n",
       "    }\n",
       "</style>\n",
       "<table border=\"1\" class=\"dataframe\">\n",
       "  <thead>\n",
       "    <tr style=\"text-align: right;\">\n",
       "      <th></th>\n",
       "      <th>date</th>\n",
       "      <th>monthly_likes</th>\n",
       "      <th>monthly_quotes</th>\n",
       "      <th>monthly_replies</th>\n",
       "      <th>monthly_retweets</th>\n",
       "      <th>number_of_tweets</th>\n",
       "      <th>mnb_sentiment</th>\n",
       "      <th>svm_sentiment</th>\n",
       "      <th>lr_sentiment</th>\n",
       "      <th>ensemble_sentiment</th>\n",
       "    </tr>\n",
       "  </thead>\n",
       "  <tbody>\n",
       "    <tr>\n",
       "      <th>0</th>\n",
       "      <td>2010-01</td>\n",
       "      <td>45</td>\n",
       "      <td>0</td>\n",
       "      <td>0</td>\n",
       "      <td>97</td>\n",
       "      <td>528</td>\n",
       "      <td>0.7860</td>\n",
       "      <td>0.9811</td>\n",
       "      <td>0.7027</td>\n",
       "      <td>0.8277</td>\n",
       "    </tr>\n",
       "    <tr>\n",
       "      <th>1</th>\n",
       "      <td>2010-02</td>\n",
       "      <td>124</td>\n",
       "      <td>0</td>\n",
       "      <td>0</td>\n",
       "      <td>70</td>\n",
       "      <td>562</td>\n",
       "      <td>0.7331</td>\n",
       "      <td>0.9875</td>\n",
       "      <td>0.7117</td>\n",
       "      <td>0.7758</td>\n",
       "    </tr>\n",
       "    <tr>\n",
       "      <th>2</th>\n",
       "      <td>2010-03</td>\n",
       "      <td>98</td>\n",
       "      <td>0</td>\n",
       "      <td>0</td>\n",
       "      <td>76</td>\n",
       "      <td>765</td>\n",
       "      <td>0.6405</td>\n",
       "      <td>0.9908</td>\n",
       "      <td>0.5908</td>\n",
       "      <td>0.6863</td>\n",
       "    </tr>\n",
       "    <tr>\n",
       "      <th>3</th>\n",
       "      <td>2010-04</td>\n",
       "      <td>186</td>\n",
       "      <td>0</td>\n",
       "      <td>0</td>\n",
       "      <td>129</td>\n",
       "      <td>813</td>\n",
       "      <td>0.7232</td>\n",
       "      <td>0.9963</td>\n",
       "      <td>0.6986</td>\n",
       "      <td>0.7651</td>\n",
       "    </tr>\n",
       "    <tr>\n",
       "      <th>4</th>\n",
       "      <td>2010-05</td>\n",
       "      <td>157</td>\n",
       "      <td>0</td>\n",
       "      <td>0</td>\n",
       "      <td>141</td>\n",
       "      <td>999</td>\n",
       "      <td>0.5946</td>\n",
       "      <td>0.9940</td>\n",
       "      <td>0.5876</td>\n",
       "      <td>0.6747</td>\n",
       "    </tr>\n",
       "  </tbody>\n",
       "</table>\n",
       "</div>"
      ],
      "text/plain": [
       "      date  monthly_likes  monthly_quotes  monthly_replies  monthly_retweets  \\\n",
       "0  2010-01             45               0                0                97   \n",
       "1  2010-02            124               0                0                70   \n",
       "2  2010-03             98               0                0                76   \n",
       "3  2010-04            186               0                0               129   \n",
       "4  2010-05            157               0                0               141   \n",
       "\n",
       "   number_of_tweets  mnb_sentiment  svm_sentiment  lr_sentiment  \\\n",
       "0               528         0.7860         0.9811        0.7027   \n",
       "1               562         0.7331         0.9875        0.7117   \n",
       "2               765         0.6405         0.9908        0.5908   \n",
       "3               813         0.7232         0.9963        0.6986   \n",
       "4               999         0.5946         0.9940        0.5876   \n",
       "\n",
       "   ensemble_sentiment  \n",
       "0              0.8277  \n",
       "1              0.7758  \n",
       "2              0.6863  \n",
       "3              0.7651  \n",
       "4              0.6747  "
      ]
     },
     "execution_count": 14,
     "metadata": {},
     "output_type": "execute_result"
    }
   ],
   "source": [
    "df.head()"
   ]
  },
  {
   "cell_type": "code",
   "execution_count": 15,
   "metadata": {},
   "outputs": [],
   "source": [
    "momentum = df.number_of_tweets\n",
    "momentum = momentum.pct_change()\n",
    "momentum = [0 if pd.isna(x) else x for x in momentum]"
   ]
  },
  {
   "cell_type": "code",
   "execution_count": 16,
   "metadata": {},
   "outputs": [
    {
     "data": {
      "text/plain": [
       "-0.4147571035747021"
      ]
     },
     "execution_count": 16,
     "metadata": {},
     "output_type": "execute_result"
    }
   ],
   "source": [
    "min(momentum)"
   ]
  },
  {
   "cell_type": "code",
   "execution_count": 17,
   "metadata": {},
   "outputs": [],
   "source": [
    "monthly_likes = np.array([percentileofscore(df.monthly_likes, i) for i in df.monthly_likes])/100\n",
    "monthly_quotes = np.array([percentileofscore(df.monthly_quotes, i) for i in df.monthly_quotes])/100\n",
    "monthly_replies = np.array([percentileofscore(df.monthly_replies, i) for i in df.monthly_replies])/100\n",
    "monthly_retweets = np.array([percentileofscore(df.monthly_retweets, i) for i in df.monthly_retweets])/100\n",
    "number_of_tweets = np.array([percentileofscore(df.number_of_tweets, i) for i in df.number_of_tweets])/100\n",
    "ensemble_percentage = np.array([percentileofscore(df.lr_sentiment, i) for i in df.lr_sentiment])/100\n",
    "# momentum = [percentileofscore(momentum, i) for i in momentum]\n",
    "# ensemble_percentage = df.ensemble_sentiment"
   ]
  },
  {
   "cell_type": "code",
   "execution_count": 18,
   "metadata": {},
   "outputs": [],
   "source": [
    "hype_index = []\n",
    "x1 = []\n",
    "x2 = []\n",
    "x3 = []\n",
    "x4 = []\n",
    "x5 = []\n",
    "x6 = []\n",
    "x7 = []\n",
    "\n",
    "for i in range(len(monthly_likes)):\n",
    "    c1 = 10*monthly_likes[i]\n",
    "    x1.append(c1)\n",
    "    c2 = 2.5*monthly_quotes[i]\n",
    "    x2.append(c2)\n",
    "    c3 = 2.5*monthly_replies[i]\n",
    "    x3.append(c3)\n",
    "    c4 = 5*monthly_retweets[i]\n",
    "    x4.append(c4)\n",
    "    c5 = 45*number_of_tweets[i]\n",
    "    x5.append(c5)\n",
    "    c6 = 5*ensemble_percentage[i]\n",
    "    x6.append(c6)\n",
    "    c7 = 15 + 15*momentum[i]\n",
    "    x7.append(c7)\n",
    "    s = sum([c1,c2,c3,c4,c5,c6])\n",
    "    hype_index.append(s)"
   ]
  },
  {
   "cell_type": "code",
   "execution_count": 19,
   "metadata": {},
   "outputs": [
    {
     "name": "stdout",
     "output_type": "stream",
     "text": [
      "max: 10.0\n",
      "min: 0.06944444444444445\n",
      "\n",
      "max: 2.5\n",
      "min: 0.3298611111111111\n",
      "\n",
      "max: 2.5\n",
      "min: 0.08680555555555555\n",
      "\n",
      "max: 5.0\n",
      "min: 0.034722222222222224\n",
      "\n",
      "max: 45.0\n",
      "min: 0.3125\n",
      "\n",
      "max: 5.0\n",
      "min: 0.034722222222222224\n",
      "\n",
      "max: 29.92462311557789\n",
      "min: 8.77864344637947\n",
      "\n"
     ]
    }
   ],
   "source": [
    "q1 = max(x1)\n",
    "q2 = min(x1)\n",
    "\n",
    "print(f'max: {q1}\\nmin: {q2}')\n",
    "print('')\n",
    "\n",
    "q1 = max(x2)\n",
    "q2 = min(x2)\n",
    "\n",
    "print(f'max: {q1}\\nmin: {q2}')\n",
    "print('')\n",
    "\n",
    "q1 = max(x3)\n",
    "q2 = min(x3)\n",
    "\n",
    "print(f'max: {q1}\\nmin: {q2}')\n",
    "print('')\n",
    "\n",
    "\n",
    "q1 = max(x4)\n",
    "q2 = min(x4)\n",
    "\n",
    "print(f'max: {q1}\\nmin: {q2}')\n",
    "print('')\n",
    "\n",
    "q1 = max(x5)\n",
    "q2 = min(x5)\n",
    "\n",
    "print(f'max: {q1}\\nmin: {q2}')\n",
    "print('')\n",
    "\n",
    "\n",
    "q1 = max(x6)\n",
    "q2 = min(x6)\n",
    "\n",
    "print(f'max: {q1}\\nmin: {q2}')\n",
    "print('')\n",
    "\n",
    "\n",
    "q1 = max(x7)\n",
    "q2 = min(x7)\n",
    "\n",
    "print(f'max: {q1}\\nmin: {q2}')\n",
    "print('')"
   ]
  },
  {
   "cell_type": "code",
   "execution_count": null,
   "metadata": {},
   "outputs": [],
   "source": []
  },
  {
   "cell_type": "code",
   "execution_count": 20,
   "metadata": {},
   "outputs": [],
   "source": [
    "arr = hype_index\n",
    "window_size = 12\n",
    "  \n",
    "i = 0\n",
    "# Initialize an empty list to store moving averages\n",
    "moving_averages = []\n",
    "  \n",
    "# Loop through the array t o\n",
    "#consider every window of size 3\n",
    "while i < len(arr) - window_size + 1:\n",
    "  \n",
    "    # Calculate the average of current window\n",
    "    window_average = round(np.sum(arr[\n",
    "      i:i+window_size]) / window_size, 2)\n",
    "      \n",
    "    # Store the average of current\n",
    "    # window in moving average list\n",
    "    moving_averages.append(window_average)\n",
    "      \n",
    "    # Shift window to right by one position\n",
    "    i += 1"
   ]
  },
  {
   "cell_type": "code",
   "execution_count": 21,
   "metadata": {},
   "outputs": [],
   "source": [
    "arr = pd.Series(hype_index)\n",
    "\n",
    "ewm = arr.ewm(span=12, adjust=False).mean()"
   ]
  },
  {
   "cell_type": "code",
   "execution_count": 22,
   "metadata": {},
   "outputs": [
    {
     "data": {
      "text/plain": [
       "[<matplotlib.lines.Line2D at 0x7fb3f9fb3160>]"
      ]
     },
     "execution_count": 22,
     "metadata": {},
     "output_type": "execute_result"
    },
    {
     "data": {
      "image/png": "[encoded data removed]",
      "text/plain": [
       "<Figure size 432x288 with 1 Axes>"
      ]
     },
     "metadata": {
      "needs_background": "light"
     },
     "output_type": "display_data"
    }
   ],
   "source": [
    "plt.plot(hype_index)\n",
    "plt.plot(moving_averages)\n",
    "plt.plot(ewm)"
   ]
  },
  {
   "cell_type": "code",
   "execution_count": 23,
   "metadata": {},
   "outputs": [
    {
     "data": {
      "text/plain": [
       "[<matplotlib.lines.Line2D at 0x7fb3e888f910>]"
      ]
     },
     "execution_count": 23,
     "metadata": {},
     "output_type": "execute_result"
    },
    {
     "data": {
      "image/png": "[encoded data removed]",
      "text/plain": [
       "<Figure size 432x288 with 1 Axes>"
      ]
     },
     "metadata": {
      "needs_background": "light"
     },
     "output_type": "display_data"
    }
   ],
   "source": [
    "plt.plot(df.number_of_tweets)"
   ]
  }
 ],
 "metadata": {
  "interpreter": {
   "hash": "f339fb3a027be473131e6ac829b8dc34fc7d4e2b227bdb2c2c5f9829538e0fed"
  },
  "kernelspec": {
   "display_name": "Python 3.8.8 ('base')",
   "language": "python",
   "name": "python3"
  },
  "language_info": {
   "codemirror_mode": {
    "name": "ipython",
    "version": 3
   },
   "file_extension": ".py",
   "mimetype": "text/x-python",
   "name": "python",
   "nbconvert_exporter": "python",
   "pygments_lexer": "ipython3",
   "version": "3.8.8"
  },
  "orig_nbformat": 4
 },
 "nbformat": 4,
 "nbformat_minor": 2
}
