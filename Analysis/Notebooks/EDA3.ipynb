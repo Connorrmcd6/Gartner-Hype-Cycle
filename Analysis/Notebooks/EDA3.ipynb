{
 "cells": [
  {
   "cell_type": "code",
   "execution_count": 1,
   "metadata": {},
   "outputs": [],
   "source": [
    "import os\n",
    "import seaborn as sns\n",
    "path = '/Users/connormcdonald/Desktop/Masters/MIT807/Gartner Repository/Analysis/Figures'\n",
    "import sys\n",
    "sys.path.insert(1, '/Users/connormcdonald/Desktop/Masters/MIT807/Gartner Repository/Data Collection')\n",
    "from configs import *\n",
    "import numpy as np\n",
    "import pandas as pd\n",
    "import matplotlib\n",
    "from sklearn.feature_extraction.text import CountVectorizer\n",
    "import matplotlib.pyplot as plt\n",
    "from mpl_toolkits.axisartist.axislines import SubplotZero\n",
    "from pylab import text\n",
    "matplotlib.use(\"pgf\")\n",
    "matplotlib.rcParams.update({\n",
    "    \"pgf.texsystem\": \"lualatex\",\n",
    "    'font.family': 'serif',\n",
    "    'text.usetex': True,\n",
    "    'pgf.rcfonts': False,\n",
    "})\n",
    "\n",
    "from sqlalchemy import create_engine\n",
    "\n",
    "engine = create_engine('mysql+mysqlconnector://'+user+':'+passwd+'@'+ip+':3306/'+schema1)\n"
   ]
  },
  {
   "cell_type": "code",
   "execution_count": 2,
   "metadata": {},
   "outputs": [],
   "source": [
    "# matplotlib.rcParams[\"text.usetex\"] = True\n",
    "# plt.rcParams[\"figure.figsize\"] = [8, 4]\n",
    "# plt.xlabel('Time', size = 12)\n",
    "# plt.ylabel('Expectations', size = 12)\n",
    "# plt.rcParams['figure.dpi'] = 300\n",
    "# ax = plt.gca()"
   ]
  },
  {
   "cell_type": "code",
   "execution_count": 3,
   "metadata": {},
   "outputs": [],
   "source": [
    "stmt = 'SELECT DISTINCT(M.id), M.text, M.like_count, M.retweet_count, M.quote_count, M.date, B.sentiment AS s FROM machine_learning_only M LEFT JOIN base_sentiment B ON M.id = B.id'\n",
    "df = pd.read_sql(stmt, con=engine)"
   ]
  },
  {
   "cell_type": "code",
   "execution_count": 4,
   "metadata": {},
   "outputs": [],
   "source": [
    "from datetime import datetime\n",
    "def sentiment(sentiment):\n",
    "    if sentiment == 0:\n",
    "        return 'negative'\n",
    "    if sentiment == 1:\n",
    "        return 'neutral'\n",
    "    if sentiment == 2:\n",
    "        return 'positive'\n",
    "\n",
    "# def dformat(d):\n",
    "#     return datetime.strptime(d, '%Y-%m-%d').strftime('%Y')\n",
    "    \n",
    "df['sentiment'] = df['s'].apply(sentiment)\n",
    "# df.date = df.date.apply(dformat)"
   ]
  },
  {
   "cell_type": "code",
   "execution_count": 5,
   "metadata": {},
   "outputs": [
    {
     "data": {
      "text/plain": [
       "CountVectorizer()"
      ]
     },
     "execution_count": 5,
     "metadata": {},
     "output_type": "execute_result"
    }
   ],
   "source": [
    "cvec = CountVectorizer()\n",
    "cvec.fit(df.text)"
   ]
  },
  {
   "cell_type": "code",
   "execution_count": 6,
   "metadata": {},
   "outputs": [],
   "source": [
    "neg_doc_matrix = cvec.transform(df[df.sentiment == 'negative'].text)\n",
    "neu_doc_matrix = cvec.transform(df[df.sentiment == 'neutral'].text)\n",
    "pos_doc_matrix = cvec.transform(df[df.sentiment == 'positive'].text)\n",
    "neg_tf = np.sum(neg_doc_matrix,axis=0)\n",
    "neu_tf = np.sum(neu_doc_matrix,axis=0)\n",
    "pos_tf = np.sum(pos_doc_matrix,axis=0)\n",
    "neg = np.squeeze(np.asarray(neg_tf))\n",
    "neu = np.squeeze(np.asarray(neu_tf))\n",
    "pos = np.squeeze(np.asarray(pos_tf))\n",
    "term_freq_df = pd.DataFrame([neg,neu,pos],columns=cvec.get_feature_names_out()).transpose()"
   ]
  },
  {
   "cell_type": "code",
   "execution_count": 7,
   "metadata": {},
   "outputs": [],
   "source": [
    "term_freq_df.columns = ['negative', 'neutral', 'positive']\n",
    "term_freq_df['total'] = term_freq_df['negative'] + term_freq_df['neutral'] + term_freq_df['positive']\n",
    "term_freq_df = term_freq_df.sort_values(by='total', ascending=False)"
   ]
  },
  {
   "cell_type": "code",
   "execution_count": 8,
   "metadata": {},
   "outputs": [],
   "source": [
    "counts = term_freq_df.total\n",
    "tokens = term_freq_df.index\n",
    "ranks = np.arange(1, len(counts)+1)\n",
    "indices = np.argsort(-counts)\n",
    "frequencies = counts[indices]\n",
    "plt.figure(figsize=(8,4))\n",
    "plt.ylim(1,10**7)\n",
    "plt.xlim(1,10**7)\n",
    "plt.loglog(ranks, frequencies, marker=\".\", color = '#003366')\n",
    "\n",
    "plt.plot([1,frequencies[0]],[frequencies[0],1],color='#E31B23')\n",
    "plt.xlabel(\"Frequency rank of token\", size=12)\n",
    "plt.ylabel(\"Absolute frequency of token\", size=12)\n",
    "ax = plt.gca()\n",
    "ax.spines['right'].set_visible(False)\n",
    "ax.spines['top'].set_visible(False)\n",
    "for n in list(np.logspace(-0.5, np.log10(len(counts)-2), 25).astype(int)):\n",
    "    dummy = text(ranks[n], frequencies[n], \" \" + tokens[indices[n]], \n",
    "                 verticalalignment=\"bottom\",\n",
    "                 horizontalalignment=\"left\")\n",
    "\n",
    "plt.savefig(os.path.join(path, 'zipf_plot.pdf'), format='pdf',bbox_inches='tight',pad_inches = 0.1)\n",
    "plt.close()"
   ]
  },
  {
   "cell_type": "code",
   "execution_count": 9,
   "metadata": {},
   "outputs": [],
   "source": [
    "plt.figure(figsize=(8,4))\n",
    "ax = sns.regplot(x=\"negative\", y=\"positive\",fit_reg=False, scatter_kws={'alpha':0.5},data=term_freq_df, color= '#003366')\n",
    "plt.ylabel('Positive Frequency', size=12)\n",
    "plt.xlabel('Negative Frequency', size=12)\n",
    "ax = plt.gca()\n",
    "ax.spines['right'].set_visible(False)\n",
    "ax.spines['top'].set_visible(False)\n",
    "plt.savefig(os.path.join(path, 'neg_vs_positive.pdf'), format='pdf',bbox_inches='tight',pad_inches = 0)\n",
    "plt.close()"
   ]
  },
  {
   "cell_type": "code",
   "execution_count": 10,
   "metadata": {},
   "outputs": [],
   "source": [
    "from scipy.stats import hmean\n",
    "from scipy.stats import norm\n",
    "term_freq_df['pos_rate'] = term_freq_df['positive'] * 1./term_freq_df['total']\n",
    "term_freq_df = term_freq_df.sort_values(by='pos_rate', ascending=False)"
   ]
  },
  {
   "cell_type": "code",
   "execution_count": 11,
   "metadata": {},
   "outputs": [],
   "source": [
    "term_freq_df['pos_freq_pct'] = term_freq_df['positive'] * 1./term_freq_df['positive'].sum()\n"
   ]
  },
  {
   "cell_type": "code",
   "execution_count": 12,
   "metadata": {},
   "outputs": [],
   "source": [
    "term_freq_df['pos_hmean'] = term_freq_df.apply(lambda x: (hmean([x['pos_rate'], x['pos_freq_pct']])                                                               \n",
    "if x['pos_rate'] > 0 and x['pos_freq_pct'] > 0 else 0), axis=1)"
   ]
  },
  {
   "cell_type": "code",
   "execution_count": 13,
   "metadata": {},
   "outputs": [],
   "source": [
    "def normcdf(x):\n",
    "    return norm.cdf(x, x.mean(), x.std())\n",
    "\n",
    "term_freq_df['pos_rate_normcdf'] = normcdf(term_freq_df['pos_rate'])\n",
    "term_freq_df['pos_freq_pct_normcdf'] = normcdf(term_freq_df['pos_freq_pct'])\n",
    "term_freq_df['pos_normcdf_hmean'] = hmean([term_freq_df['pos_rate_normcdf'], term_freq_df['pos_freq_pct_normcdf']])\n"
   ]
  },
  {
   "cell_type": "code",
   "execution_count": 14,
   "metadata": {},
   "outputs": [],
   "source": [
    "term_freq_df['neg_rate'] = term_freq_df['negative'] * 1./term_freq_df['total']\n",
    "term_freq_df['neg_freq_pct'] = term_freq_df['negative'] * 1./term_freq_df['negative'].sum()\n",
    "term_freq_df['neg_hmean'] = term_freq_df.apply(lambda x: (hmean([x['neg_rate'], x['neg_freq_pct']])                                                                if x['neg_rate'] > 0 and x['neg_freq_pct'] > 0                                                                else 0), axis=1)\n",
    "                                                       \n",
    "term_freq_df['neg_rate_normcdf'] = normcdf(term_freq_df['neg_rate'])\n",
    "term_freq_df['neg_freq_pct_normcdf'] = normcdf(term_freq_df['neg_freq_pct'])\n",
    "term_freq_df['neg_normcdf_hmean'] = hmean([term_freq_df['neg_rate_normcdf'], term_freq_df['neg_freq_pct_normcdf']])"
   ]
  },
  {
   "cell_type": "code",
   "execution_count": 15,
   "metadata": {},
   "outputs": [],
   "source": [
    "plt.figure(figsize=(8,4))\n",
    "ax = sns.regplot(x=\"neg_hmean\", y=\"pos_hmean\",fit_reg=False, scatter_kws={'alpha':0.5},data=term_freq_df, color = '#003366')\n",
    "ax.spines['right'].set_visible(False)\n",
    "ax.spines['top'].set_visible(False)\n",
    "plt.ylabel('Positive Rate and Frequency Harmonic Mean', size=12)\n",
    "plt.xlabel('Negative Rate and Frequency Harmonic Mean', size=12)\n",
    "plt.savefig(os.path.join(path, 'neghmean_vs_poshmean.pdf'), format='pdf',bbox_inches='tight',pad_inches = 0)\n",
    "plt.close()\n"
   ]
  },
  {
   "cell_type": "code",
   "execution_count": 16,
   "metadata": {},
   "outputs": [],
   "source": [
    "plt.figure(figsize=(8,4))\n",
    "ax = sns.regplot(x=\"neg_normcdf_hmean\", y=\"pos_normcdf_hmean\",fit_reg=False, scatter_kws={'alpha':0.5},data=term_freq_df, color = '#003366')\n",
    "ax.spines['right'].set_visible(False)\n",
    "ax.spines['top'].set_visible(False)\n",
    "plt.ylabel('Positive Rate and Frequency CDF Harmonic Mean',size = 12)\n",
    "plt.xlabel('Negative Rate and Frequency CDF Harmonic Mean',size =12)\n",
    "plt.savefig(os.path.join(path, 'normcdf_hmean.pdf'), format='pdf',bbox_inches='tight',pad_inches = 0)\n",
    "plt.close()"
   ]
  }
 ],
 "metadata": {
  "interpreter": {
   "hash": "f339fb3a027be473131e6ac829b8dc34fc7d4e2b227bdb2c2c5f9829538e0fed"
  },
  "kernelspec": {
   "display_name": "Python 3.8.8 ('base')",
   "language": "python",
   "name": "python3"
  },
  "language_info": {
   "codemirror_mode": {
    "name": "ipython",
    "version": 3
   },
   "file_extension": ".py",
   "mimetype": "text/x-python",
   "name": "python",
   "nbconvert_exporter": "python",
   "pygments_lexer": "ipython3",
   "version": "3.8.8"
  },
  "orig_nbformat": 4
 },
 "nbformat": 4,
 "nbformat_minor": 2
}
