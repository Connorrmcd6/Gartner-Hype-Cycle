{
 "cells": [
  {
   "cell_type": "code",
   "execution_count": 1,
   "metadata": {},
   "outputs": [],
   "source": [
    "import os\n",
    "import seaborn as sns\n",
    "path = '/Users/connormcdonald/Desktop/Masters/MIT807/Gartner Repository/Analysis/Figures'\n",
    "import sys\n",
    "sys.path.insert(1, '/Users/connormcdonald/Desktop/Masters/MIT807/Gartner Repository/Data Collection')\n",
    "from configs import *\n",
    "import numpy as np\n",
    "import statsmodels.formula.api as smf\n",
    "import pandas as pd\n",
    "import matplotlib\n",
    "import matplotlib.pyplot as plt\n",
    "\n",
    "# from mpl_toolkits.axisartist.axislines import SubplotZero\n",
    "# from pylab import text\n",
    "# matplotlib.use(\"pgf\")\n",
    "# matplotlib.rcParams.update({\n",
    "#     \"pgf.texsystem\": \"lualatex\",\n",
    "#     'font.family': 'serif',\n",
    "#     'text.usetex': True,\n",
    "#     'pgf.rcfonts': False,\n",
    "# })\n",
    "\n",
    "from sqlalchemy import create_engine\n",
    "\n",
    "engine = create_engine('mysql+mysqlconnector://'+user+':'+passwd+'@'+ip+':3306/'+schema1)\n"
   ]
  },
  {
   "cell_type": "code",
   "execution_count": 2,
   "metadata": {},
   "outputs": [],
   "source": [
    "stmt = 'SELECT DATE_FORMAT(date, \\'%Y-%m\\') as date, COUNT(1) AS tweets FROM social.machine_learning_only group by DATE_FORMAT(date, \\'%Y-%m\\') ORDER BY DATE_FORMAT(date, \\'%Y-%m\\') ASC' \n",
    "stmt2 = 'SELECT DATE_FORMAT(date, \\'%Y-%m\\') as date, COUNT(1) AS tweets FROM social.machine_learning group by DATE_FORMAT(date, \\'%Y-%m\\') ORDER BY DATE_FORMAT(date, \\'%Y-%m\\') ASC' \n",
    "df = pd.read_sql(stmt, con=engine)\n",
    "df2 = pd.read_sql(stmt2, con=engine)"
   ]
  },
  {
   "cell_type": "markdown",
   "metadata": {},
   "source": [
    "# Machine Learning"
   ]
  },
  {
   "cell_type": "code",
   "execution_count": 3,
   "metadata": {},
   "outputs": [],
   "source": [
    "#ML\n",
    "year = ['2010-01-01', '2010-12-31', '2011-12-31', '2012-12-31', '2013-12-31', '2014-12-31', '2015-12-31', '2016-12-31', '2017-12-31', '2018-12-31', '2019-12-31', '2020-12-31', '2021-12-31']\n",
    "papers = [6151, 6572, 7207, 7937, 9308, 11141, 13609, 17449, 23410, 35663, 59378, 70504, 90290]\n",
    "\n",
    "df['date']  = pd.to_datetime(df['date'])\n",
    "df2['date']  = pd.to_datetime(df['date'])\n",
    "year = pd.to_datetime(year)"
   ]
  },
  {
   "cell_type": "code",
   "execution_count": 4,
   "metadata": {},
   "outputs": [],
   "source": [
    "#ML plot\n",
    "ax = plt.gca()\n",
    "ax.spines['right'].set_visible(False)\n",
    "ax.spines['top'].set_visible(False)\n",
    "plt.rcParams[\"figure.figsize\"] = [8, 4]\n",
    "plt.rcParams.update({'font.size': 12})\n",
    "plt.rcParams['figure.dpi'] = 300\n",
    "plt.xlabel('Time')\n",
    "plt.ylabel('Number of Records')\n",
    "plt.plot(df['date'], df['tweets'], c = '#E31B23', linewidth = 1, label='Tweets')\n",
    "# plt.plot(df2['date'], df2['tweets'], c = 'black', linewidth = 1, label='Unfiltered Tweets')\n",
    "plt.plot(year, papers, c = '#339898', linewidth = 1, label='Academic Publications')\n",
    "plt.legend()\n",
    "# plt.savefig(os.path.join(path, 'ml_data.pdf'), format='pdf',bbox_inches='tight',pad_inches = 0)\n",
    "# plt.close()"
   ]
  },
  {
   "cell_type": "code",
   "execution_count": 5,
   "metadata": {},
   "outputs": [],
   "source": [
    "#ML plot\n",
    "stmt = 'SELECT YEAR(date) as date, COUNT(1) AS tweets FROM social.machine_learning_only group by YEAR(date) ORDER BY date ASC'\n",
    "\n",
    "df = pd.read_sql(stmt, con=engine)\n",
    "\n",
    "year = [2010, 2011, 2012, 2013, 2014, 2015, 2016, 2017, 2018, 2019, 2020, 2021, 2022]\n",
    "papers = [6151, 6572, 7207, 7937, 9308, 11141, 13609, 17449, 23410, 35663, 59378, 70504, 90290]\n",
    "df['tweets_pct'] = 100*df.tweets.pct_change()\n",
    "papers_pct = 100*pd.Series(papers).pct_change()\n",
    "ax = plt.gca()\n",
    "ax.spines['right'].set_visible(False)\n",
    "ax.spines['top'].set_visible(False)\n",
    "plt.rcParams[\"figure.figsize\"] = [8, 4]\n",
    "plt.rcParams.update({'font.size': 12})\n",
    "plt.rcParams['figure.dpi'] = 300\n",
    "plt.xlabel('Time')\n",
    "plt.ylabel('Percentage Change')\n",
    "plt.plot(df['date'], df['tweets_pct'], c = '#E31B23', linewidth = 1, label='Tweets')\n",
    "# plt.plot(df2['date'], df2['tweets'], c = 'black', linewidth = 1, label='Unfiltered Tweets')\n",
    "plt.plot(year, papers_pct, c = '#339898', linewidth = 1, label='Academic Publications')\n",
    "plt.legend()\n",
    "# plt.savefig(os.path.join(path, 'ml_data_pct.pdf'), format='pdf',bbox_inches='tight',pad_inches = 0)\n",
    "# plt.close()"
   ]
  },
  {
   "cell_type": "code",
   "execution_count": 6,
   "metadata": {},
   "outputs": [],
   "source": [
    "degree = 2\n",
    "y = np.array(df2['tweets'].to_list())\n",
    "X = np.array(df2['date'].to_list())\n",
    "date_index = []\n",
    "idx = 0\n",
    "for i in X:\n",
    "    date_index.append(idx)\n",
    "    idx += 1\n",
    "\n",
    "z = np.polyfit(date_index, y, degree)\n",
    "f = np.poly1d(z)"
   ]
  },
  {
   "cell_type": "code",
   "execution_count": 7,
   "metadata": {},
   "outputs": [],
   "source": [
    "df_trend = pd.DataFrame(columns=['X', 'y','d'])\n",
    "df_trend['X'] = date_index\n",
    "df_trend['y'] = y\n",
    "df_trend['d'] = X\n",
    "\n",
    "\n",
    "z = np.polyfit(df_trend.X, df_trend.y, degree)\n",
    "model = np.poly1d(z)\n",
    "results = smf.ols(formula='y ~ model(X)', data=df_trend).fit()\n",
    "\n",
    "# results.summary()"
   ]
  },
  {
   "cell_type": "code",
   "execution_count": 8,
   "metadata": {},
   "outputs": [],
   "source": [
    "column = df_trend[\"y\"]\n",
    "max_index = column.idxmax()\n",
    "df_trend_1 = df_trend.head(max_index)\n",
    "tail_index =  len(df_trend.index) - max_index\n",
    "df_trend_2 = df_trend.tail(tail_index)"
   ]
  },
  {
   "cell_type": "code",
   "execution_count": 9,
   "metadata": {},
   "outputs": [],
   "source": [
    "#first half\n",
    "df_trend = df_trend_1\n",
    "z = np.polyfit(df_trend.X, df_trend.y, degree)\n",
    "model = np.poly1d(z)\n",
    "results = smf.ols(formula='y ~ model(X)', data=df_trend).fit()\n",
    "# print(results.summary().as_latex())"
   ]
  },
  {
   "cell_type": "code",
   "execution_count": 10,
   "metadata": {},
   "outputs": [],
   "source": [
    "#first half plot\n",
    "ax = plt.gca()\n",
    "plt.xlabel('Time')\n",
    "plt.ylabel('Number of Records')\n",
    "plt.plot(df_trend.d, df_trend.y, label='Unfiltered Tweets', c = 'black')\n",
    "plt.plot(df_trend.d, model(df_trend.X), \"--\", c = '#E31B23', label = 'Exponential Trend Function')\n",
    "plt.xticks(rotation = 45)\n",
    "# myFmt = mdates.DateFormatter('%Y')\n",
    "# ax.xaxis.set_major_formatter(myFmt)\n",
    "plt.legend()\n",
    "ax.spines['right'].set_visible(False)\n",
    "ax.spines['top'].set_visible(False)\n",
    "plt.rcParams[\"figure.figsize\"] = [5, 5]\n",
    "plt.rcParams.update({'font.size': 12})\n",
    "plt.rcParams['figure.dpi'] = 300\n",
    "# plt.savefig(os.path.join(path, 'ml_trend_1a.pdf'), format='pdf',bbox_inches='tight',pad_inches = 0)\n",
    "# plt.close()\n"
   ]
  },
  {
   "cell_type": "code",
   "execution_count": 11,
   "metadata": {},
   "outputs": [],
   "source": [
    "#second half\n",
    "df_trend = df_trend_2\n",
    "z = np.polyfit(df_trend.X, df_trend.y, degree)\n",
    "model = np.poly1d(z)\n",
    "results = smf.ols(formula='y ~ model(X)', data=df_trend).fit()\n",
    "# print(results.summary().as_latex())"
   ]
  },
  {
   "cell_type": "code",
   "execution_count": 12,
   "metadata": {},
   "outputs": [],
   "source": [
    "#second half plot\n",
    "ax = plt.gca()\n",
    "ax.spines['right'].set_visible(False)\n",
    "ax.spines['top'].set_visible(False)\n",
    "plt.rcParams[\"figure.figsize\"] = [5, 5]\n",
    "plt.rcParams.update({'font.size': 12})\n",
    "plt.rcParams['figure.dpi'] = 300\n",
    "plt.xlabel('Time')\n",
    "plt.ylabel('Number of Records')\n",
    "plt.plot(df_trend.d, df_trend.y, label='Unfiltered Tweets', c = 'black')\n",
    "plt.plot(df_trend.d, model(df_trend.X), \"--\", c = '#E31B23', label = 'Exponential Trend Function')\n",
    "plt.xticks(rotation = 45)\n",
    "pos = ['2018-01-01','2019-01-01','2020-01-01','2021-01-01','2022-01-01']\n",
    "l = [2018,2019,2020,2021,2022]\n",
    "ax.set(xticks=pos, xticklabels=l)\n",
    "plt.legend()\n",
    "# plt.savefig(os.path.join(path, 'ml_trend_2a.pdf'), format='pdf',bbox_inches='tight',pad_inches = 0)\n",
    "# plt.close()"
   ]
  },
  {
   "cell_type": "markdown",
   "metadata": {},
   "source": [
    "## Filtered tweets"
   ]
  },
  {
   "cell_type": "code",
   "execution_count": 13,
   "metadata": {},
   "outputs": [],
   "source": [
    "degree = 2\n",
    "y = np.array(df['tweets'].to_list())\n",
    "X = np.array(df['date'].to_list())\n",
    "date_index = []\n",
    "idx = 0\n",
    "for i in X:\n",
    "    date_index.append(idx)\n",
    "    idx += 1\n",
    "\n",
    "z = np.polyfit(date_index, y, degree)\n",
    "f = np.poly1d(z)"
   ]
  },
  {
   "cell_type": "code",
   "execution_count": 14,
   "metadata": {},
   "outputs": [],
   "source": [
    "df_trend = pd.DataFrame(columns=['X', 'y','d'])\n",
    "df_trend['X'] = date_index\n",
    "df_trend['y'] = y\n",
    "df_trend['d'] = X\n",
    "\n",
    "\n",
    "z = np.polyfit(df_trend.X, df_trend.y, degree)\n",
    "model = np.poly1d(z)\n",
    "results = smf.ols(formula='y ~ model(X)', data=df_trend).fit()\n",
    "\n",
    "# results.summary()"
   ]
  },
  {
   "cell_type": "code",
   "execution_count": 15,
   "metadata": {},
   "outputs": [],
   "source": [
    "column = df_trend[\"y\"]\n",
    "max_index = column.idxmax()\n",
    "df_trend_1 = df_trend.head(max_index)\n",
    "tail_index =  len(df_trend.index) - max_index\n",
    "df_trend_2 = df_trend.tail(tail_index)"
   ]
  },
  {
   "cell_type": "code",
   "execution_count": 16,
   "metadata": {},
   "outputs": [],
   "source": [
    "#first half\n",
    "df_trend = df_trend_1\n",
    "z = np.polyfit(df_trend.X, df_trend.y, degree)\n",
    "model = np.poly1d(z)\n",
    "results = smf.ols(formula='y ~ model(X)', data=df_trend).fit()\n",
    "# print(results.summary().as_latex())"
   ]
  },
  {
   "cell_type": "code",
   "execution_count": 17,
   "metadata": {},
   "outputs": [],
   "source": [
    "#first half plot\n",
    "ax = plt.gca()\n",
    "plt.xlabel('Time')\n",
    "plt.ylabel('Number of Records')\n",
    "plt.plot(df_trend.d, df_trend.y, label='Filtered Tweets', c = 'black')\n",
    "plt.plot(df_trend.d, model(df_trend.X), \"--\", c = '#E31B23', label = 'Exponential Trend Function')\n",
    "plt.xticks(rotation = 45)\n",
    "\n",
    "plt.legend()\n",
    "ax.spines['right'].set_visible(False)\n",
    "ax.spines['top'].set_visible(False)\n",
    "plt.rcParams[\"figure.figsize\"] = [5, 5]\n",
    "plt.rcParams.update({'font.size': 12})\n",
    "plt.rcParams['figure.dpi'] = 300\n",
    "# plt.savefig(os.path.join(path, 'ml_trend_1b.pdf'), format='pdf',bbox_inches='tight',pad_inches = 0)\n",
    "# plt.close()"
   ]
  },
  {
   "cell_type": "code",
   "execution_count": 18,
   "metadata": {},
   "outputs": [],
   "source": [
    "#second half\n",
    "df_trend = df_trend_2\n",
    "z = np.polyfit(df_trend.X, df_trend.y, degree)\n",
    "model = np.poly1d(z)\n",
    "results = smf.ols(formula='y ~ model(X)', data=df_trend).fit()\n",
    "# print(results.summary().as_latex())"
   ]
  },
  {
   "cell_type": "code",
   "execution_count": 19,
   "metadata": {},
   "outputs": [
    {
     "ename": "ConversionError",
     "evalue": "Failed to convert value(s) to axis units: ['2018-01-01', '2019-01-01', '2020-01-01', '2021-01-01', '2022-01-01']",
     "output_type": "error",
     "traceback": [
      "\u001b[0;31m---------------------------------------------------------------------------\u001b[0m",
      "\u001b[0;31mValueError\u001b[0m                                Traceback (most recent call last)",
      "\u001b[0;32m~/opt/anaconda3/lib/python3.8/site-packages/matplotlib/axis.py\u001b[0m in \u001b[0;36mconvert_units\u001b[0;34m(self, x)\u001b[0m\n\u001b[1;32m   1522\u001b[0m         \u001b[0;32mtry\u001b[0m\u001b[0;34m:\u001b[0m\u001b[0;34m\u001b[0m\u001b[0;34m\u001b[0m\u001b[0m\n\u001b[0;32m-> 1523\u001b[0;31m             \u001b[0mret\u001b[0m \u001b[0;34m=\u001b[0m \u001b[0mself\u001b[0m\u001b[0;34m.\u001b[0m\u001b[0mconverter\u001b[0m\u001b[0;34m.\u001b[0m\u001b[0mconvert\u001b[0m\u001b[0;34m(\u001b[0m\u001b[0mx\u001b[0m\u001b[0;34m,\u001b[0m \u001b[0mself\u001b[0m\u001b[0;34m.\u001b[0m\u001b[0munits\u001b[0m\u001b[0;34m,\u001b[0m \u001b[0mself\u001b[0m\u001b[0;34m)\u001b[0m\u001b[0;34m\u001b[0m\u001b[0;34m\u001b[0m\u001b[0m\n\u001b[0m\u001b[1;32m   1524\u001b[0m         \u001b[0;32mexcept\u001b[0m \u001b[0mException\u001b[0m \u001b[0;32mas\u001b[0m \u001b[0me\u001b[0m\u001b[0;34m:\u001b[0m\u001b[0;34m\u001b[0m\u001b[0;34m\u001b[0m\u001b[0m\n",
      "\u001b[0;32m~/opt/anaconda3/lib/python3.8/site-packages/matplotlib/category.py\u001b[0m in \u001b[0;36mconvert\u001b[0;34m(value, unit, axis)\u001b[0m\n\u001b[1;32m     48\u001b[0m         \u001b[0;32mif\u001b[0m \u001b[0munit\u001b[0m \u001b[0;32mis\u001b[0m \u001b[0;32mNone\u001b[0m\u001b[0;34m:\u001b[0m\u001b[0;34m\u001b[0m\u001b[0;34m\u001b[0m\u001b[0m\n\u001b[0;32m---> 49\u001b[0;31m             raise ValueError(\n\u001b[0m\u001b[1;32m     50\u001b[0m                 \u001b[0;34m'Missing category information for StrCategoryConverter; '\u001b[0m\u001b[0;34m\u001b[0m\u001b[0;34m\u001b[0m\u001b[0m\n",
      "\u001b[0;31mValueError\u001b[0m: Missing category information for StrCategoryConverter; this might be caused by unintendedly mixing categorical and numeric data",
      "\nThe above exception was the direct cause of the following exception:\n",
      "\u001b[0;31mConversionError\u001b[0m                           Traceback (most recent call last)",
      "\u001b[0;32m<ipython-input-19-fc3cfb8791a7>\u001b[0m in \u001b[0;36m<module>\u001b[0;34m\u001b[0m\n\u001b[1;32m     13\u001b[0m \u001b[0mpos\u001b[0m \u001b[0;34m=\u001b[0m \u001b[0;34m[\u001b[0m\u001b[0;34m'2018-01-01'\u001b[0m\u001b[0;34m,\u001b[0m\u001b[0;34m'2019-01-01'\u001b[0m\u001b[0;34m,\u001b[0m\u001b[0;34m'2020-01-01'\u001b[0m\u001b[0;34m,\u001b[0m\u001b[0;34m'2021-01-01'\u001b[0m\u001b[0;34m,\u001b[0m\u001b[0;34m'2022-01-01'\u001b[0m\u001b[0;34m]\u001b[0m\u001b[0;34m\u001b[0m\u001b[0;34m\u001b[0m\u001b[0m\n\u001b[1;32m     14\u001b[0m \u001b[0ml\u001b[0m \u001b[0;34m=\u001b[0m \u001b[0;34m[\u001b[0m\u001b[0;36m2018\u001b[0m\u001b[0;34m,\u001b[0m\u001b[0;36m2019\u001b[0m\u001b[0;34m,\u001b[0m\u001b[0;36m2020\u001b[0m\u001b[0;34m,\u001b[0m\u001b[0;36m2021\u001b[0m\u001b[0;34m,\u001b[0m\u001b[0;36m2022\u001b[0m\u001b[0;34m]\u001b[0m\u001b[0;34m\u001b[0m\u001b[0;34m\u001b[0m\u001b[0m\n\u001b[0;32m---> 15\u001b[0;31m \u001b[0max\u001b[0m\u001b[0;34m.\u001b[0m\u001b[0mset\u001b[0m\u001b[0;34m(\u001b[0m\u001b[0mxticks\u001b[0m\u001b[0;34m=\u001b[0m\u001b[0mpos\u001b[0m\u001b[0;34m,\u001b[0m \u001b[0mxticklabels\u001b[0m\u001b[0;34m=\u001b[0m\u001b[0ml\u001b[0m\u001b[0;34m)\u001b[0m\u001b[0;34m\u001b[0m\u001b[0;34m\u001b[0m\u001b[0m\n\u001b[0m\u001b[1;32m     16\u001b[0m \u001b[0mplt\u001b[0m\u001b[0;34m.\u001b[0m\u001b[0mlegend\u001b[0m\u001b[0;34m(\u001b[0m\u001b[0;34m)\u001b[0m\u001b[0;34m\u001b[0m\u001b[0;34m\u001b[0m\u001b[0m\n\u001b[1;32m     17\u001b[0m \u001b[0mplt\u001b[0m\u001b[0;34m.\u001b[0m\u001b[0msavefig\u001b[0m\u001b[0;34m(\u001b[0m\u001b[0mos\u001b[0m\u001b[0;34m.\u001b[0m\u001b[0mpath\u001b[0m\u001b[0;34m.\u001b[0m\u001b[0mjoin\u001b[0m\u001b[0;34m(\u001b[0m\u001b[0mpath\u001b[0m\u001b[0;34m,\u001b[0m \u001b[0;34m'ml_trend_2b.pdf'\u001b[0m\u001b[0;34m)\u001b[0m\u001b[0;34m,\u001b[0m \u001b[0mformat\u001b[0m\u001b[0;34m=\u001b[0m\u001b[0;34m'pdf'\u001b[0m\u001b[0;34m,\u001b[0m\u001b[0mbbox_inches\u001b[0m\u001b[0;34m=\u001b[0m\u001b[0;34m'tight'\u001b[0m\u001b[0;34m,\u001b[0m\u001b[0mpad_inches\u001b[0m \u001b[0;34m=\u001b[0m \u001b[0;36m0\u001b[0m\u001b[0;34m)\u001b[0m\u001b[0;34m\u001b[0m\u001b[0;34m\u001b[0m\u001b[0m\n",
      "\u001b[0;32m~/opt/anaconda3/lib/python3.8/site-packages/matplotlib/artist.py\u001b[0m in \u001b[0;36mset\u001b[0;34m(self, **kwargs)\u001b[0m\n\u001b[1;32m   1111\u001b[0m         \u001b[0;32mif\u001b[0m \u001b[0mmove_color_to_start\u001b[0m\u001b[0;34m:\u001b[0m\u001b[0;34m\u001b[0m\u001b[0;34m\u001b[0m\u001b[0m\n\u001b[1;32m   1112\u001b[0m             \u001b[0mkwargs\u001b[0m \u001b[0;34m=\u001b[0m \u001b[0;34m{\u001b[0m\u001b[0;34m\"color\"\u001b[0m\u001b[0;34m:\u001b[0m \u001b[0mkwargs\u001b[0m\u001b[0;34m.\u001b[0m\u001b[0mpop\u001b[0m\u001b[0;34m(\u001b[0m\u001b[0;34m\"color\"\u001b[0m\u001b[0;34m)\u001b[0m\u001b[0;34m,\u001b[0m \u001b[0;34m**\u001b[0m\u001b[0mkwargs\u001b[0m\u001b[0;34m}\u001b[0m\u001b[0;34m\u001b[0m\u001b[0;34m\u001b[0m\u001b[0m\n\u001b[0;32m-> 1113\u001b[0;31m         \u001b[0;32mreturn\u001b[0m \u001b[0mself\u001b[0m\u001b[0;34m.\u001b[0m\u001b[0mupdate\u001b[0m\u001b[0;34m(\u001b[0m\u001b[0mkwargs\u001b[0m\u001b[0;34m)\u001b[0m\u001b[0;34m\u001b[0m\u001b[0;34m\u001b[0m\u001b[0m\n\u001b[0m\u001b[1;32m   1114\u001b[0m \u001b[0;34m\u001b[0m\u001b[0m\n\u001b[1;32m   1115\u001b[0m     \u001b[0;32mdef\u001b[0m \u001b[0mfindobj\u001b[0m\u001b[0;34m(\u001b[0m\u001b[0mself\u001b[0m\u001b[0;34m,\u001b[0m \u001b[0mmatch\u001b[0m\u001b[0;34m=\u001b[0m\u001b[0;32mNone\u001b[0m\u001b[0;34m,\u001b[0m \u001b[0minclude_self\u001b[0m\u001b[0;34m=\u001b[0m\u001b[0;32mTrue\u001b[0m\u001b[0;34m)\u001b[0m\u001b[0;34m:\u001b[0m\u001b[0;34m\u001b[0m\u001b[0;34m\u001b[0m\u001b[0m\n",
      "\u001b[0;32m~/opt/anaconda3/lib/python3.8/site-packages/matplotlib/artist.py\u001b[0m in \u001b[0;36mupdate\u001b[0;34m(self, props)\u001b[0m\n\u001b[1;32m    996\u001b[0m                         raise AttributeError(f\"{type(self).__name__!r} object \"\n\u001b[1;32m    997\u001b[0m                                              f\"has no property {k!r}\")\n\u001b[0;32m--> 998\u001b[0;31m                     \u001b[0mret\u001b[0m\u001b[0;34m.\u001b[0m\u001b[0mappend\u001b[0m\u001b[0;34m(\u001b[0m\u001b[0mfunc\u001b[0m\u001b[0;34m(\u001b[0m\u001b[0mv\u001b[0m\u001b[0;34m)\u001b[0m\u001b[0;34m)\u001b[0m\u001b[0;34m\u001b[0m\u001b[0;34m\u001b[0m\u001b[0m\n\u001b[0m\u001b[1;32m    999\u001b[0m         \u001b[0;32mif\u001b[0m \u001b[0mret\u001b[0m\u001b[0;34m:\u001b[0m\u001b[0;34m\u001b[0m\u001b[0;34m\u001b[0m\u001b[0m\n\u001b[1;32m   1000\u001b[0m             \u001b[0mself\u001b[0m\u001b[0;34m.\u001b[0m\u001b[0mpchanged\u001b[0m\u001b[0;34m(\u001b[0m\u001b[0;34m)\u001b[0m\u001b[0;34m\u001b[0m\u001b[0;34m\u001b[0m\u001b[0m\n",
      "\u001b[0;32m~/opt/anaconda3/lib/python3.8/site-packages/matplotlib/axes/_base.py\u001b[0m in \u001b[0;36mwrapper\u001b[0;34m(self, *args, **kwargs)\u001b[0m\n\u001b[1;32m     61\u001b[0m \u001b[0;34m\u001b[0m\u001b[0m\n\u001b[1;32m     62\u001b[0m         \u001b[0;32mdef\u001b[0m \u001b[0mwrapper\u001b[0m\u001b[0;34m(\u001b[0m\u001b[0mself\u001b[0m\u001b[0;34m,\u001b[0m \u001b[0;34m*\u001b[0m\u001b[0margs\u001b[0m\u001b[0;34m,\u001b[0m \u001b[0;34m**\u001b[0m\u001b[0mkwargs\u001b[0m\u001b[0;34m)\u001b[0m\u001b[0;34m:\u001b[0m\u001b[0;34m\u001b[0m\u001b[0;34m\u001b[0m\u001b[0m\n\u001b[0;32m---> 63\u001b[0;31m             \u001b[0;32mreturn\u001b[0m \u001b[0mget_method\u001b[0m\u001b[0;34m(\u001b[0m\u001b[0mself\u001b[0m\u001b[0;34m)\u001b[0m\u001b[0;34m(\u001b[0m\u001b[0;34m*\u001b[0m\u001b[0margs\u001b[0m\u001b[0;34m,\u001b[0m \u001b[0;34m**\u001b[0m\u001b[0mkwargs\u001b[0m\u001b[0;34m)\u001b[0m\u001b[0;34m\u001b[0m\u001b[0;34m\u001b[0m\u001b[0m\n\u001b[0m\u001b[1;32m     64\u001b[0m \u001b[0;34m\u001b[0m\u001b[0m\n\u001b[1;32m     65\u001b[0m         \u001b[0mwrapper\u001b[0m\u001b[0;34m.\u001b[0m\u001b[0m__module__\u001b[0m \u001b[0;34m=\u001b[0m \u001b[0mowner\u001b[0m\u001b[0;34m.\u001b[0m\u001b[0m__module__\u001b[0m\u001b[0;34m\u001b[0m\u001b[0;34m\u001b[0m\u001b[0m\n",
      "\u001b[0;32m~/opt/anaconda3/lib/python3.8/site-packages/matplotlib/cbook/deprecation.py\u001b[0m in \u001b[0;36mwrapper\u001b[0;34m(*args, **kwargs)\u001b[0m\n\u001b[1;32m    449\u001b[0m                 \u001b[0;34m\"parameter will become keyword-only %(removal)s.\"\u001b[0m\u001b[0;34m,\u001b[0m\u001b[0;34m\u001b[0m\u001b[0;34m\u001b[0m\u001b[0m\n\u001b[1;32m    450\u001b[0m                 name=name, obj_type=f\"parameter of {func.__name__}()\")\n\u001b[0;32m--> 451\u001b[0;31m         \u001b[0;32mreturn\u001b[0m \u001b[0mfunc\u001b[0m\u001b[0;34m(\u001b[0m\u001b[0;34m*\u001b[0m\u001b[0margs\u001b[0m\u001b[0;34m,\u001b[0m \u001b[0;34m**\u001b[0m\u001b[0mkwargs\u001b[0m\u001b[0;34m)\u001b[0m\u001b[0;34m\u001b[0m\u001b[0;34m\u001b[0m\u001b[0m\n\u001b[0m\u001b[1;32m    452\u001b[0m \u001b[0;34m\u001b[0m\u001b[0m\n\u001b[1;32m    453\u001b[0m     \u001b[0;32mreturn\u001b[0m \u001b[0mwrapper\u001b[0m\u001b[0;34m\u001b[0m\u001b[0;34m\u001b[0m\u001b[0m\n",
      "\u001b[0;32m~/opt/anaconda3/lib/python3.8/site-packages/matplotlib/axis.py\u001b[0m in \u001b[0;36mset_ticks\u001b[0;34m(self, ticks, minor)\u001b[0m\n\u001b[1;32m   1809\u001b[0m         \"\"\"\n\u001b[1;32m   1810\u001b[0m         \u001b[0;31m# XXX if the user changes units, the information will be lost here\u001b[0m\u001b[0;34m\u001b[0m\u001b[0;34m\u001b[0m\u001b[0;34m\u001b[0m\u001b[0m\n\u001b[0;32m-> 1811\u001b[0;31m         \u001b[0mticks\u001b[0m \u001b[0;34m=\u001b[0m \u001b[0mself\u001b[0m\u001b[0;34m.\u001b[0m\u001b[0mconvert_units\u001b[0m\u001b[0;34m(\u001b[0m\u001b[0mticks\u001b[0m\u001b[0;34m)\u001b[0m\u001b[0;34m\u001b[0m\u001b[0;34m\u001b[0m\u001b[0m\n\u001b[0m\u001b[1;32m   1812\u001b[0m         \u001b[0;32mif\u001b[0m \u001b[0mlen\u001b[0m\u001b[0;34m(\u001b[0m\u001b[0mticks\u001b[0m\u001b[0;34m)\u001b[0m \u001b[0;34m>\u001b[0m \u001b[0;36m1\u001b[0m\u001b[0;34m:\u001b[0m\u001b[0;34m\u001b[0m\u001b[0;34m\u001b[0m\u001b[0m\n\u001b[1;32m   1813\u001b[0m             \u001b[0mxleft\u001b[0m\u001b[0;34m,\u001b[0m \u001b[0mxright\u001b[0m \u001b[0;34m=\u001b[0m \u001b[0mself\u001b[0m\u001b[0;34m.\u001b[0m\u001b[0mget_view_interval\u001b[0m\u001b[0;34m(\u001b[0m\u001b[0;34m)\u001b[0m\u001b[0;34m\u001b[0m\u001b[0;34m\u001b[0m\u001b[0m\n",
      "\u001b[0;32m~/opt/anaconda3/lib/python3.8/site-packages/matplotlib/axis.py\u001b[0m in \u001b[0;36mconvert_units\u001b[0;34m(self, x)\u001b[0m\n\u001b[1;32m   1523\u001b[0m             \u001b[0mret\u001b[0m \u001b[0;34m=\u001b[0m \u001b[0mself\u001b[0m\u001b[0;34m.\u001b[0m\u001b[0mconverter\u001b[0m\u001b[0;34m.\u001b[0m\u001b[0mconvert\u001b[0m\u001b[0;34m(\u001b[0m\u001b[0mx\u001b[0m\u001b[0;34m,\u001b[0m \u001b[0mself\u001b[0m\u001b[0;34m.\u001b[0m\u001b[0munits\u001b[0m\u001b[0;34m,\u001b[0m \u001b[0mself\u001b[0m\u001b[0;34m)\u001b[0m\u001b[0;34m\u001b[0m\u001b[0;34m\u001b[0m\u001b[0m\n\u001b[1;32m   1524\u001b[0m         \u001b[0;32mexcept\u001b[0m \u001b[0mException\u001b[0m \u001b[0;32mas\u001b[0m \u001b[0me\u001b[0m\u001b[0;34m:\u001b[0m\u001b[0;34m\u001b[0m\u001b[0;34m\u001b[0m\u001b[0m\n\u001b[0;32m-> 1525\u001b[0;31m             raise munits.ConversionError('Failed to convert value(s) to axis '\n\u001b[0m\u001b[1;32m   1526\u001b[0m                                          f'units: {x!r}') from e\n\u001b[1;32m   1527\u001b[0m         \u001b[0;32mreturn\u001b[0m \u001b[0mret\u001b[0m\u001b[0;34m\u001b[0m\u001b[0;34m\u001b[0m\u001b[0m\n",
      "\u001b[0;31mConversionError\u001b[0m: Failed to convert value(s) to axis units: ['2018-01-01', '2019-01-01', '2020-01-01', '2021-01-01', '2022-01-01']"
     ]
    }
   ],
   "source": [
    "#second half plot\n",
    "ax = plt.gca()\n",
    "ax.spines['right'].set_visible(False)\n",
    "ax.spines['top'].set_visible(False)\n",
    "plt.rcParams[\"figure.figsize\"] = [5, 5]\n",
    "plt.rcParams.update({'font.size': 12})\n",
    "plt.rcParams['figure.dpi'] = 300\n",
    "plt.xlabel('Time')\n",
    "plt.ylabel('Number of Records')\n",
    "plt.plot(df_trend.d, df_trend.y, label='Filtered Tweets', c = 'black')\n",
    "plt.plot(df_trend.d, model(df_trend.X), \"--\", c = '#E31B23', label = 'Exponential Trend Function')\n",
    "plt.xticks(rotation = 45)\n",
    "pos = ['2018-01-01','2019-01-01','2020-01-01','2021-01-01','2022-01-01']\n",
    "l = [2018,2019,2020,2021,2022]\n",
    "ax.set(xticks=pos, xticklabels=l)\n",
    "plt.legend()\n",
    "# plt.savefig(os.path.join(path, 'ml_trend_2b.pdf'), format='pdf',bbox_inches='tight',pad_inches = 0)\n",
    "# plt.close()"
   ]
  },
  {
   "cell_type": "markdown",
   "metadata": {},
   "source": [
    "# Twitter Users"
   ]
  },
  {
   "cell_type": "code",
   "execution_count": 20,
   "metadata": {},
   "outputs": [],
   "source": [
    "df = pd.read_csv('/Users/connormcdonald/Desktop/Masters/MIT807/Data/TwitterUsers.csv')\n",
    "df['period']  = pd.to_datetime(df['period'])"
   ]
  },
  {
   "cell_type": "code",
   "execution_count": 21,
   "metadata": {},
   "outputs": [],
   "source": [
    "df['mau_pct'] = 100*df.mau.pct_change()\n",
    "df['dau_pct'] = 100*df.dau.pct_change()"
   ]
  },
  {
   "cell_type": "code",
   "execution_count": 23,
   "metadata": {},
   "outputs": [],
   "source": [
    "comb = []\n",
    "for i in range(len(df.index)):\n",
    "    \n",
    "    if pd.isna(df.mau_pct[i]) == True  and pd.isna(df.dau_pct[i]) == True:\n",
    "        comb.append(df.mau_pct[i])\n",
    "        # print(f'first if satisfied: {i}\\n')\n",
    "\n",
    "    if pd.isna(df.mau_pct[i]) == False  and pd.isna(df.dau_pct[i]) == True:\n",
    "        comb.append(df.mau_pct[i])\n",
    "        # print(f'second if satisfied: {i}\\n')\n",
    "\n",
    "    if pd.isna(df.mau_pct[i]) == False  and pd.isna(df.dau_pct[i]) == False and i <37:\n",
    "        a = (df.mau_pct[i]+df.dau_pct[i])/2\n",
    "        comb.append(a)\n",
    "        # print(f'third if satisfied: {i}\\n')\n",
    "\n",
    "    if i >= 37:\n",
    "        comb.append(df.dau_pct[i])\n",
    "        # print(f'else satisfied: {i}\\n')\n",
    "df['comb'] = comb"
   ]
  },
  {
   "cell_type": "code",
   "execution_count": 24,
   "metadata": {},
   "outputs": [],
   "source": [
    "df = pd.read_csv('/Users/connormcdonald/Desktop/Masters/MIT807/Data/twitterMAU.csv')\n",
    "df['period']  = pd.to_datetime(df['period'])"
   ]
  },
  {
   "cell_type": "code",
   "execution_count": 25,
   "metadata": {},
   "outputs": [],
   "source": [
    "df1 = df.iloc[:38,:]"
   ]
  },
  {
   "cell_type": "code",
   "execution_count": 26,
   "metadata": {},
   "outputs": [
    {
     "data": {
      "text/plain": [
       "<AxesSubplot:xlabel='period'>"
      ]
     },
     "execution_count": 26,
     "metadata": {},
     "output_type": "execute_result"
    }
   ],
   "source": [
    "df.plot(x='period', y='mau')"
   ]
  },
  {
   "cell_type": "code",
   "execution_count": 27,
   "metadata": {},
   "outputs": [],
   "source": [
    "import matplotlib.dates as mdates\n",
    "\n",
    "\n",
    "degree = 3\n",
    "y = np.array(df1['mau'].to_list())\n",
    "X = np.array(mdates.date2num(df1['period']))\n",
    "date_index = []\n",
    "idx = 0\n",
    "for i in X:\n",
    "    date_index.append(idx)\n",
    "    idx += 1\n",
    "\n",
    "z = np.polyfit(date_index, y, degree)\n",
    "f = np.poly1d(z)\n",
    "\n",
    "df_trend = pd.DataFrame(columns=['X', 'y','d'])\n",
    "df_trend['X'] = date_index\n",
    "df_trend['y'] = y\n",
    "df_trend['d'] = X\n",
    "\n",
    "\n",
    "z = np.polyfit(df_trend.d, df_trend.y, degree)\n",
    "model = np.poly1d(z)\n",
    "results = smf.ols(formula='y ~ model(X)', data=df_trend).fit()\n",
    "\n",
    "# results.summary()"
   ]
  },
  {
   "cell_type": "code",
   "execution_count": 30,
   "metadata": {},
   "outputs": [],
   "source": [
    "X = mdates.date2num(df['period'])\n",
    "\n",
    "ax = plt.gca()\n",
    "ax.spines['right'].set_visible(False)\n",
    "ax.spines['top'].set_visible(False)\n",
    "plt.rcParams[\"figure.figsize\"] = [8, 4]\n",
    "plt.rcParams.update({'font.size': 12})\n",
    "plt.rcParams['figure.dpi'] = 300\n",
    "plt.xlabel('Time')\n",
    "plt.ylabel('\\# Users (Millions)')\n",
    "plt.plot(df1.period, df1.mau, color ='#339898', label = 'Monthly Acitive Users')\n",
    "plt.plot(X, model(X), color ='#E31B23', linestyle =\"--\", label= '3rd Degree Polynomial Trend Line (R^2 = 0.885)')\n",
    "plt.legend()\n",
    "plt.savefig(os.path.join(path, 'MAU_trendline.pdf'), format='pdf',bbox_inches='tight',pad_inches = 0)\n",
    "plt.close()"
   ]
  },
  {
   "cell_type": "code",
   "execution_count": null,
   "metadata": {},
   "outputs": [],
   "source": [
    "ax = plt.gca()\n",
    "plt.xlabel('Time')\n",
    "plt.ylabel('Users (Millions)')\n",
    "plt.plot(df.period, df.mau, label='MAU', c = '#339898')\n",
    "plt.plot(df.period, df.dau, c = '#E31B23', label = 'mDAU')\n",
    "\n",
    "plt.legend()\n",
    "ax.spines['right'].set_visible(False)\n",
    "ax.spines['top'].set_visible(False)\n",
    "plt.rcParams[\"figure.figsize\"] = [8, 3]\n",
    "plt.rcParams.update({'font.size': 12})\n",
    "plt.rcParams['figure.dpi'] = 300\n",
    "plt.savefig(os.path.join(path, 'twitter_users.pdf'), format='pdf',bbox_inches='tight',pad_inches = 0)\n",
    "plt.close()"
   ]
  },
  {
   "cell_type": "code",
   "execution_count": null,
   "metadata": {},
   "outputs": [],
   "source": [
    "ax = plt.gca()\n",
    "plt.xlabel('Time')\n",
    "plt.ylabel('% Change')\n",
    "plt.plot(df.period, df.mau_pct, label='MAU', c = '#339898')\n",
    "plt.plot(df.period, df.dau_pct, c = '#E31B23', label = 'mDAU')\n",
    "\n",
    "plt.legend()\n",
    "ax.spines['right'].set_visible(False)\n",
    "ax.spines['top'].set_visible(False)\n",
    "plt.rcParams[\"figure.figsize\"] = [8, 3]\n",
    "plt.rcParams.update({'font.size': 12})\n",
    "plt.rcParams['figure.dpi'] = 300\n",
    "plt.savefig(os.path.join(path, 'twitter_users_pct.pdf'), format='pdf',bbox_inches='tight',pad_inches = 0)\n",
    "plt.close()"
   ]
  },
  {
   "cell_type": "code",
   "execution_count": null,
   "metadata": {},
   "outputs": [],
   "source": [
    "ax = plt.gca()\n",
    "plt.xlabel('Time')\n",
    "plt.ylabel('% Change')\n",
    "plt.plot(df.period, df.comb, label='Combined MAU/mDAU', c = 'black')\n",
    "\n",
    "plt.legend()\n",
    "ax.spines['right'].set_visible(False)\n",
    "ax.spines['top'].set_visible(False)\n",
    "plt.rcParams[\"figure.figsize\"] = [8, 3]\n",
    "plt.rcParams.update({'font.size': 12})\n",
    "plt.rcParams['figure.dpi'] = 300\n",
    "plt.savefig(os.path.join(path, 'twitter_comb_pct.pdf'), format='pdf',bbox_inches='tight',pad_inches = 0)\n",
    "plt.close()"
   ]
  },
  {
   "cell_type": "code",
   "execution_count": null,
   "metadata": {},
   "outputs": [],
   "source": [
    "df = pd.read_csv('/Users/connormcdonald/Desktop/Masters/MIT807/Data/academic_results.csv')"
   ]
  },
  {
   "cell_type": "code",
   "execution_count": null,
   "metadata": {},
   "outputs": [
    {
     "data": {
      "text/html": [
       "<div>\n",
       "<style scoped>\n",
       "    .dataframe tbody tr th:only-of-type {\n",
       "        vertical-align: middle;\n",
       "    }\n",
       "\n",
       "    .dataframe tbody tr th {\n",
       "        vertical-align: top;\n",
       "    }\n",
       "\n",
       "    .dataframe thead th {\n",
       "        text-align: right;\n",
       "    }\n",
       "</style>\n",
       "<table border=\"1\" class=\"dataframe\">\n",
       "  <thead>\n",
       "    <tr style=\"text-align: right;\">\n",
       "      <th></th>\n",
       "      <th>period</th>\n",
       "      <th>scholar_results</th>\n",
       "      <th>scopus_results</th>\n",
       "      <th>scopus_results_pct</th>\n",
       "      <th>scholar_results_pct</th>\n",
       "    </tr>\n",
       "  </thead>\n",
       "  <tbody>\n",
       "    <tr>\n",
       "      <th>0</th>\n",
       "      <td>2010</td>\n",
       "      <td>4.51</td>\n",
       "      <td>2.478126</td>\n",
       "      <td>NaN</td>\n",
       "      <td>NaN</td>\n",
       "    </tr>\n",
       "    <tr>\n",
       "      <th>1</th>\n",
       "      <td>2011</td>\n",
       "      <td>4.59</td>\n",
       "      <td>2.638921</td>\n",
       "      <td>6.488572</td>\n",
       "      <td>1.773836</td>\n",
       "    </tr>\n",
       "    <tr>\n",
       "      <th>2</th>\n",
       "      <td>2012</td>\n",
       "      <td>4.67</td>\n",
       "      <td>2.775816</td>\n",
       "      <td>5.187537</td>\n",
       "      <td>1.742919</td>\n",
       "    </tr>\n",
       "    <tr>\n",
       "      <th>3</th>\n",
       "      <td>2013</td>\n",
       "      <td>4.36</td>\n",
       "      <td>2.901649</td>\n",
       "      <td>4.533190</td>\n",
       "      <td>-6.638116</td>\n",
       "    </tr>\n",
       "    <tr>\n",
       "      <th>4</th>\n",
       "      <td>2014</td>\n",
       "      <td>4.64</td>\n",
       "      <td>2.942515</td>\n",
       "      <td>1.408372</td>\n",
       "      <td>6.422018</td>\n",
       "    </tr>\n",
       "  </tbody>\n",
       "</table>\n",
       "</div>"
      ],
      "text/plain": [
       "   period  scholar_results  scopus_results  scopus_results_pct  \\\n",
       "0    2010             4.51        2.478126                 NaN   \n",
       "1    2011             4.59        2.638921            6.488572   \n",
       "2    2012             4.67        2.775816            5.187537   \n",
       "3    2013             4.36        2.901649            4.533190   \n",
       "4    2014             4.64        2.942515            1.408372   \n",
       "\n",
       "   scholar_results_pct  \n",
       "0                  NaN  \n",
       "1             1.773836  \n",
       "2             1.742919  \n",
       "3            -6.638116  \n",
       "4             6.422018  "
      ]
     },
     "execution_count": 27,
     "metadata": {},
     "output_type": "execute_result"
    }
   ],
   "source": [
    "df['scopus_results'] = df['scopus_results']/1000000\n",
    "df['scholar_results']  = df['scholar_results']/1000000\n",
    "\n",
    "df['scopus_results_pct'] = 100*df['scopus_results'].pct_change()\n",
    "df['scholar_results_pct'] = 100*df['scholar_results'].pct_change()\n",
    "\n",
    "df.head()"
   ]
  },
  {
   "cell_type": "code",
   "execution_count": null,
   "metadata": {},
   "outputs": [],
   "source": [
    "#first half plot\n",
    "ax = plt.gca()\n",
    "plt.xlabel('Time')\n",
    "plt.ylabel('Results (Millions)')\n",
    "plt.plot(df.period, df.scholar_results, label='Google Scholar', c = '#339898')\n",
    "plt.plot(df.period, df.scopus_results, c = '#E31B23', label = 'Scopus')\n",
    "\n",
    "plt.legend()\n",
    "ax.spines['right'].set_visible(False)\n",
    "ax.spines['top'].set_visible(False)\n",
    "plt.rcParams[\"figure.figsize\"] = [8, 3]\n",
    "plt.rcParams.update({'font.size': 12})\n",
    "plt.rcParams['figure.dpi'] = 300\n",
    "plt.savefig(os.path.join(path, 'academic_search.pdf'), format='pdf',bbox_inches='tight',pad_inches = 0)\n",
    "plt.close()"
   ]
  },
  {
   "cell_type": "code",
   "execution_count": null,
   "metadata": {},
   "outputs": [],
   "source": [
    "#first half plot\n",
    "ax = plt.gca()\n",
    "plt.xlabel('Time')\n",
    "plt.ylabel('% Change')\n",
    "plt.plot(df.period, df.scholar_results_pct, label='Google Scholar', c = '#339898')\n",
    "plt.plot(df.period, df.scopus_results_pct, c = '#E31B23', label = 'Scopus')\n",
    "\n",
    "plt.legend()\n",
    "ax.spines['right'].set_visible(False)\n",
    "ax.spines['top'].set_visible(False)\n",
    "plt.rcParams[\"figure.figsize\"] = [8, 3]\n",
    "plt.rcParams.update({'font.size': 12})\n",
    "plt.rcParams['figure.dpi'] = 300\n",
    "plt.savefig(os.path.join(path, 'academic_search_pct.pdf'), format='pdf',bbox_inches='tight',pad_inches = 0)\n",
    "plt.close()"
   ]
  },
  {
   "cell_type": "code",
   "execution_count": null,
   "metadata": {},
   "outputs": [],
   "source": [
    "df = pd.read_csv('/Users/connormcdonald/Desktop/Masters/MIT807/Data/dblp.csv')\n",
    "df = df.set_index('period')"
   ]
  },
  {
   "cell_type": "code",
   "execution_count": null,
   "metadata": {},
   "outputs": [],
   "source": [
    "df1 = df.iloc[:, 0:7]"
   ]
  },
  {
   "cell_type": "code",
   "execution_count": null,
   "metadata": {},
   "outputs": [
    {
     "data": {
      "text/html": [
       "<div>\n",
       "<style scoped>\n",
       "    .dataframe tbody tr th:only-of-type {\n",
       "        vertical-align: middle;\n",
       "    }\n",
       "\n",
       "    .dataframe tbody tr th {\n",
       "        vertical-align: top;\n",
       "    }\n",
       "\n",
       "    .dataframe thead th {\n",
       "        text-align: right;\n",
       "    }\n",
       "</style>\n",
       "<table border=\"1\" class=\"dataframe\">\n",
       "  <thead>\n",
       "    <tr style=\"text-align: right;\">\n",
       "      <th></th>\n",
       "      <th>journal articles</th>\n",
       "      <th>parts in books or collections</th>\n",
       "      <th>reference works</th>\n",
       "      <th>total</th>\n",
       "    </tr>\n",
       "    <tr>\n",
       "      <th>period</th>\n",
       "      <th></th>\n",
       "      <th></th>\n",
       "      <th></th>\n",
       "      <th></th>\n",
       "    </tr>\n",
       "  </thead>\n",
       "  <tbody>\n",
       "    <tr>\n",
       "      <th>2010</th>\n",
       "      <td>83045</td>\n",
       "      <td>2916</td>\n",
       "      <td>1044</td>\n",
       "      <td>227707</td>\n",
       "    </tr>\n",
       "    <tr>\n",
       "      <th>2011</th>\n",
       "      <td>88188</td>\n",
       "      <td>2754</td>\n",
       "      <td>3177</td>\n",
       "      <td>248791</td>\n",
       "    </tr>\n",
       "    <tr>\n",
       "      <th>2012</th>\n",
       "      <td>94043</td>\n",
       "      <td>1991</td>\n",
       "      <td>274</td>\n",
       "      <td>261232</td>\n",
       "    </tr>\n",
       "    <tr>\n",
       "      <th>2013</th>\n",
       "      <td>99638</td>\n",
       "      <td>2957</td>\n",
       "      <td>128</td>\n",
       "      <td>278000</td>\n",
       "    </tr>\n",
       "    <tr>\n",
       "      <th>2014</th>\n",
       "      <td>105238</td>\n",
       "      <td>2855</td>\n",
       "      <td>2401</td>\n",
       "      <td>289383</td>\n",
       "    </tr>\n",
       "  </tbody>\n",
       "</table>\n",
       "</div>"
      ],
      "text/plain": [
       "        journal articles  parts in books or collections  reference works  \\\n",
       "period                                                                     \n",
       "2010               83045                           2916             1044   \n",
       "2011               88188                           2754             3177   \n",
       "2012               94043                           1991              274   \n",
       "2013               99638                           2957              128   \n",
       "2014              105238                           2855             2401   \n",
       "\n",
       "         total  \n",
       "period          \n",
       "2010    227707  \n",
       "2011    248791  \n",
       "2012    261232  \n",
       "2013    278000  \n",
       "2014    289383  "
      ]
     },
     "execution_count": 32,
     "metadata": {},
     "output_type": "execute_result"
    }
   ],
   "source": [
    "df2 = df.iloc[:, 4:8]\n",
    "df2.head()"
   ]
  },
  {
   "cell_type": "code",
   "execution_count": null,
   "metadata": {},
   "outputs": [
    {
     "name": "stderr",
     "output_type": "stream",
     "text": [
      "<ipython-input-33-d624d16b8be1>:1: SettingWithCopyWarning: \n",
      "A value is trying to be set on a copy of a slice from a DataFrame.\n",
      "Try using .loc[row_indexer,col_indexer] = value instead\n",
      "\n",
      "See the caveats in the documentation: https://pandas.pydata.org/pandas-docs/stable/user_guide/indexing.html#returning-a-view-versus-a-copy\n",
      "  df2['total_pct'] = 100*df2['total'].pct_change()\n",
      "<ipython-input-33-d624d16b8be1>:2: SettingWithCopyWarning: \n",
      "A value is trying to be set on a copy of a slice from a DataFrame.\n",
      "Try using .loc[row_indexer,col_indexer] = value instead\n",
      "\n",
      "See the caveats in the documentation: https://pandas.pydata.org/pandas-docs/stable/user_guide/indexing.html#returning-a-view-versus-a-copy\n",
      "  df2['journal_pct'] = 100*df2['journal articles'].pct_change()\n"
     ]
    }
   ],
   "source": [
    "df2['total_pct'] = 100*df2['total'].pct_change()\n",
    "df2['journal_pct'] = 100*df2['journal articles'].pct_change()"
   ]
  },
  {
   "cell_type": "code",
   "execution_count": null,
   "metadata": {},
   "outputs": [],
   "source": [
    "# plot the pivoted dataframe\n",
    "ax = plt.gca()\n",
    "ax.spines['right'].set_visible(False)\n",
    "ax.spines['top'].set_visible(False)\n",
    "plt.rcParams[\"figure.figsize\"] = [8, 4]\n",
    "plt.rcParams.update({'font.size': 12})\n",
    "plt.rcParams['figure.dpi'] = 300\n",
    "df1.plot.bar(stacked=True, figsize=(8, 4), ylabel='Number of Publications', xlabel='Year', cmap = 'rocket_r')\n",
    "plt.legend(title='Category', bbox_to_anchor=(1.05, 1), loc='upper left')\n",
    "plt.savefig(os.path.join(path, 'computerscience_pub.pdf'), format='pdf',bbox_inches='tight',pad_inches = 0)\n",
    "plt.close()"
   ]
  },
  {
   "cell_type": "code",
   "execution_count": null,
   "metadata": {},
   "outputs": [],
   "source": [
    "#first half plot\n",
    "ax = plt.gca()\n",
    "plt.xlabel('Time')\n",
    "plt.ylabel('% Change')\n",
    "plt.plot(df2.index, df2.total_pct, c = '#339898', label='Total')\n",
    "plt.plot(df2.index, df2.journal_pct, c = '#E31B23', label='Journals')\n",
    "plt.legend()\n",
    "\n",
    "ax.spines['right'].set_visible(False)\n",
    "ax.spines['top'].set_visible(False)\n",
    "plt.rcParams[\"figure.figsize\"] = [8, 3]\n",
    "plt.rcParams.update({'font.size': 12})\n",
    "plt.rcParams['figure.dpi'] = 300\n",
    "plt.savefig(os.path.join(path, 'computerscience_pub_pct.pdf'), format='pdf',bbox_inches='tight',pad_inches = 0)\n",
    "plt.close()"
   ]
  }
 ],
 "metadata": {
  "kernelspec": {
   "display_name": "Python 3.8.8 ('base')",
   "language": "python",
   "name": "python3"
  },
  "language_info": {
   "codemirror_mode": {
    "name": "ipython",
    "version": 3
   },
   "file_extension": ".py",
   "mimetype": "text/x-python",
   "name": "python",
   "nbconvert_exporter": "python",
   "pygments_lexer": "ipython3",
   "version": "3.8.8"
  },
  "orig_nbformat": 4,
  "vscode": {
   "interpreter": {
    "hash": "f339fb3a027be473131e6ac829b8dc34fc7d4e2b227bdb2c2c5f9829538e0fed"
   }
  }
 },
 "nbformat": 4,
 "nbformat_minor": 2
}
