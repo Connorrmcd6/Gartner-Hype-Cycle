{
 "cells": [
  {
   "cell_type": "code",
   "execution_count": 1,
   "metadata": {},
   "outputs": [],
   "source": [
    "import os\n",
    "import seaborn as sns\n",
    "path = '/Users/connormcdonald/Desktop/Masters/MIT807/Gartner Repository/Analysis/Figures'\n",
    "import sys\n",
    "sys.path.insert(1, '/Users/connormcdonald/Desktop/Masters/MIT807/Gartner Repository/Data Collection')\n",
    "from configs import *\n",
    "import numpy as np\n",
    "import statsmodels.formula.api as smf\n",
    "import pandas as pd\n",
    "import matplotlib\n",
    "import matplotlib.pyplot as plt\n",
    "\n",
    "from mpl_toolkits.axisartist.axislines import SubplotZero\n",
    "from pylab import text\n",
    "matplotlib.use(\"pgf\")\n",
    "matplotlib.rcParams.update({\n",
    "    \"pgf.texsystem\": \"lualatex\",\n",
    "    'font.family': 'serif',\n",
    "    'text.usetex': True,\n",
    "    'pgf.rcfonts': False,\n",
    "})\n",
    "\n",
    "from sqlalchemy import create_engine\n",
    "\n",
    "engine = create_engine('mysql+mysqlconnector://'+user+':'+passwd+'@'+ip+':3306/'+schema1)\n"
   ]
  },
  {
   "cell_type": "code",
   "execution_count": 2,
   "metadata": {},
   "outputs": [],
   "source": [
    "stmt = 'SELECT DATE_FORMAT(date, \\'%Y-%m\\') as date, COUNT(1) AS tweets FROM social.machine_learning_only group by DATE_FORMAT(date, \\'%Y-%m\\') ORDER BY DATE_FORMAT(date, \\'%Y-%m\\') ASC' \n",
    "stmt2 = 'SELECT DATE_FORMAT(date, \\'%Y-%m\\') as date, COUNT(1) AS tweets FROM social.machine_learning group by DATE_FORMAT(date, \\'%Y-%m\\') ORDER BY DATE_FORMAT(date, \\'%Y-%m\\') ASC' \n",
    "df = pd.read_sql(stmt, con=engine)\n",
    "df2 = pd.read_sql(stmt2, con=engine)"
   ]
  },
  {
   "cell_type": "markdown",
   "metadata": {},
   "source": [
    "# Machine Learning"
   ]
  },
  {
   "cell_type": "code",
   "execution_count": 3,
   "metadata": {},
   "outputs": [],
   "source": [
    "#ML\n",
    "year = ['2010-01-01', '2010-12-31', '2011-12-31', '2012-12-31', '2013-12-31', '2014-12-31', '2015-12-31', '2016-12-31', '2017-12-31', '2018-12-31', '2019-12-31', '2020-12-31', '2021-12-31']\n",
    "papers = [6151, 6572, 7207, 7937, 9308, 11141, 13609, 17449, 23410, 35663, 59378, 70504, 90290]\n",
    "\n",
    "df['date']  = pd.to_datetime(df['date'])\n",
    "df2['date']  = pd.to_datetime(df['date'])\n",
    "year = pd.to_datetime(year)"
   ]
  },
  {
   "cell_type": "code",
   "execution_count": 4,
   "metadata": {},
   "outputs": [],
   "source": [
    "#ML plot\n",
    "ax = plt.gca()\n",
    "ax.spines['right'].set_visible(False)\n",
    "ax.spines['top'].set_visible(False)\n",
    "plt.rcParams[\"figure.figsize\"] = [8, 3]\n",
    "plt.rcParams.update({'font.size': 12})\n",
    "plt.rcParams['figure.dpi'] = 300\n",
    "plt.xlabel('Time')\n",
    "plt.ylabel('Number of Records')\n",
    "plt.plot(df['date'], df['tweets'], c = '#E31B23', linewidth = 1, label='Filtered Tweets')\n",
    "plt.plot(df2['date'], df2['tweets'], c = 'black', linewidth = 1, label='Unfiltered Tweets')\n",
    "plt.plot(year, papers, c = '#339898', linewidth = 1, label='Academic Publications')\n",
    "plt.legend()\n",
    "# plt.savefig(os.path.join(path, 'ml_data.pdf'), format='pdf',bbox_inches='tight',pad_inches = 0)\n",
    "plt.close()"
   ]
  },
  {
   "cell_type": "code",
   "execution_count": 5,
   "metadata": {},
   "outputs": [],
   "source": [
    "degree = 2\n",
    "y = np.array(df2['tweets'].to_list())\n",
    "X = np.array(df2['date'].to_list())\n",
    "date_index = []\n",
    "idx = 0\n",
    "for i in X:\n",
    "    date_index.append(idx)\n",
    "    idx += 1\n",
    "\n",
    "z = np.polyfit(date_index, y, degree)\n",
    "f = np.poly1d(z)"
   ]
  },
  {
   "cell_type": "code",
   "execution_count": 6,
   "metadata": {},
   "outputs": [],
   "source": [
    "df_trend = pd.DataFrame(columns=['X', 'y','d'])\n",
    "df_trend['X'] = date_index\n",
    "df_trend['y'] = y\n",
    "df_trend['d'] = X\n",
    "\n",
    "\n",
    "z = np.polyfit(df_trend.X, df_trend.y, degree)\n",
    "model = np.poly1d(z)\n",
    "results = smf.ols(formula='y ~ model(X)', data=df_trend).fit()\n",
    "\n",
    "# results.summary()"
   ]
  },
  {
   "cell_type": "code",
   "execution_count": 7,
   "metadata": {},
   "outputs": [],
   "source": [
    "column = df_trend[\"y\"]\n",
    "max_index = column.idxmax()\n",
    "df_trend_1 = df_trend.head(max_index)\n",
    "tail_index =  len(df_trend.index) - max_index\n",
    "df_trend_2 = df_trend.tail(tail_index)"
   ]
  },
  {
   "cell_type": "code",
   "execution_count": 8,
   "metadata": {},
   "outputs": [],
   "source": [
    "#first half\n",
    "df_trend = df_trend_1\n",
    "z = np.polyfit(df_trend.X, df_trend.y, degree)\n",
    "model = np.poly1d(z)\n",
    "results = smf.ols(formula='y ~ model(X)', data=df_trend).fit()\n",
    "# print(results.summary().as_latex())"
   ]
  },
  {
   "cell_type": "code",
   "execution_count": 9,
   "metadata": {},
   "outputs": [],
   "source": [
    "#first half plot\n",
    "ax = plt.gca()\n",
    "plt.xlabel('Time')\n",
    "plt.ylabel('Number of Records')\n",
    "plt.plot(df_trend.d, df_trend.y, label='Unfiltered Tweets', c = 'black')\n",
    "plt.plot(df_trend.d, model(df_trend.X), \"--\", c = '#E31B23', label = 'Exponential Trend Function')\n",
    "plt.xticks(rotation = 45)\n",
    "# myFmt = mdates.DateFormatter('%Y')\n",
    "# ax.xaxis.set_major_formatter(myFmt)\n",
    "plt.legend()\n",
    "ax.spines['right'].set_visible(False)\n",
    "ax.spines['top'].set_visible(False)\n",
    "plt.rcParams[\"figure.figsize\"] = [5, 5]\n",
    "plt.rcParams.update({'font.size': 12})\n",
    "plt.rcParams['figure.dpi'] = 300\n",
    "plt.savefig(os.path.join(path, 'ml_trend_1a.pdf'), format='pdf',bbox_inches='tight',pad_inches = 0)\n",
    "plt.close()\n"
   ]
  },
  {
   "cell_type": "code",
   "execution_count": 10,
   "metadata": {},
   "outputs": [],
   "source": [
    "#second half\n",
    "df_trend = df_trend_2\n",
    "z = np.polyfit(df_trend.X, df_trend.y, degree)\n",
    "model = np.poly1d(z)\n",
    "results = smf.ols(formula='y ~ model(X)', data=df_trend).fit()\n",
    "# print(results.summary().as_latex())"
   ]
  },
  {
   "cell_type": "code",
   "execution_count": 11,
   "metadata": {},
   "outputs": [],
   "source": [
    "#second half plot\n",
    "ax = plt.gca()\n",
    "ax.spines['right'].set_visible(False)\n",
    "ax.spines['top'].set_visible(False)\n",
    "plt.rcParams[\"figure.figsize\"] = [5, 5]\n",
    "plt.rcParams.update({'font.size': 12})\n",
    "plt.rcParams['figure.dpi'] = 300\n",
    "plt.xlabel('Time')\n",
    "plt.ylabel('Number of Records')\n",
    "plt.plot(df_trend.d, df_trend.y, label='Unfiltered Tweets', c = 'black')\n",
    "plt.plot(df_trend.d, model(df_trend.X), \"--\", c = '#E31B23', label = 'Exponential Trend Function')\n",
    "plt.xticks(rotation = 45)\n",
    "pos = ['2018-01-01','2019-01-01','2020-01-01','2021-01-01','2022-01-01']\n",
    "l = [2018,2019,2020,2021,2022]\n",
    "ax.set(xticks=pos, xticklabels=l)\n",
    "plt.legend()\n",
    "plt.savefig(os.path.join(path, 'ml_trend_2a.pdf'), format='pdf',bbox_inches='tight',pad_inches = 0)\n",
    "plt.close()"
   ]
  },
  {
   "cell_type": "markdown",
   "metadata": {},
   "source": [
    "## Filtered tweets"
   ]
  },
  {
   "cell_type": "code",
   "execution_count": 12,
   "metadata": {},
   "outputs": [],
   "source": [
    "degree = 2\n",
    "y = np.array(df['tweets'].to_list())\n",
    "X = np.array(df['date'].to_list())\n",
    "date_index = []\n",
    "idx = 0\n",
    "for i in X:\n",
    "    date_index.append(idx)\n",
    "    idx += 1\n",
    "\n",
    "z = np.polyfit(date_index, y, degree)\n",
    "f = np.poly1d(z)"
   ]
  },
  {
   "cell_type": "code",
   "execution_count": 13,
   "metadata": {},
   "outputs": [],
   "source": [
    "df_trend = pd.DataFrame(columns=['X', 'y','d'])\n",
    "df_trend['X'] = date_index\n",
    "df_trend['y'] = y\n",
    "df_trend['d'] = X\n",
    "\n",
    "\n",
    "z = np.polyfit(df_trend.X, df_trend.y, degree)\n",
    "model = np.poly1d(z)\n",
    "results = smf.ols(formula='y ~ model(X)', data=df_trend).fit()\n",
    "\n",
    "# results.summary()"
   ]
  },
  {
   "cell_type": "code",
   "execution_count": 14,
   "metadata": {},
   "outputs": [],
   "source": [
    "column = df_trend[\"y\"]\n",
    "max_index = column.idxmax()\n",
    "df_trend_1 = df_trend.head(max_index)\n",
    "tail_index =  len(df_trend.index) - max_index\n",
    "df_trend_2 = df_trend.tail(tail_index)"
   ]
  },
  {
   "cell_type": "code",
   "execution_count": 15,
   "metadata": {},
   "outputs": [],
   "source": [
    "#first half\n",
    "df_trend = df_trend_1\n",
    "z = np.polyfit(df_trend.X, df_trend.y, degree)\n",
    "model = np.poly1d(z)\n",
    "results = smf.ols(formula='y ~ model(X)', data=df_trend).fit()\n",
    "# print(results.summary().as_latex())"
   ]
  },
  {
   "cell_type": "code",
   "execution_count": 16,
   "metadata": {},
   "outputs": [],
   "source": [
    "#first half plot\n",
    "ax = plt.gca()\n",
    "plt.xlabel('Time')\n",
    "plt.ylabel('Number of Records')\n",
    "plt.plot(df_trend.d, df_trend.y, label='Filtered Tweets', c = 'black')\n",
    "plt.plot(df_trend.d, model(df_trend.X), \"--\", c = '#E31B23', label = 'Exponential Trend Function')\n",
    "plt.xticks(rotation = 45)\n",
    "\n",
    "plt.legend()\n",
    "ax.spines['right'].set_visible(False)\n",
    "ax.spines['top'].set_visible(False)\n",
    "plt.rcParams[\"figure.figsize\"] = [5, 5]\n",
    "plt.rcParams.update({'font.size': 12})\n",
    "plt.rcParams['figure.dpi'] = 300\n",
    "plt.savefig(os.path.join(path, 'ml_trend_1b.pdf'), format='pdf',bbox_inches='tight',pad_inches = 0)\n",
    "plt.close()"
   ]
  },
  {
   "cell_type": "code",
   "execution_count": 17,
   "metadata": {},
   "outputs": [],
   "source": [
    "#second half\n",
    "df_trend = df_trend_2\n",
    "z = np.polyfit(df_trend.X, df_trend.y, degree)\n",
    "model = np.poly1d(z)\n",
    "results = smf.ols(formula='y ~ model(X)', data=df_trend).fit()\n",
    "# print(results.summary().as_latex())"
   ]
  },
  {
   "cell_type": "code",
   "execution_count": 18,
   "metadata": {},
   "outputs": [],
   "source": [
    "#second half plot\n",
    "ax = plt.gca()\n",
    "ax.spines['right'].set_visible(False)\n",
    "ax.spines['top'].set_visible(False)\n",
    "plt.rcParams[\"figure.figsize\"] = [5, 5]\n",
    "plt.rcParams.update({'font.size': 12})\n",
    "plt.rcParams['figure.dpi'] = 300\n",
    "plt.xlabel('Time')\n",
    "plt.ylabel('Number of Records')\n",
    "plt.plot(df_trend.d, df_trend.y, label='Filtered Tweets', c = 'black')\n",
    "plt.plot(df_trend.d, model(df_trend.X), \"--\", c = '#E31B23', label = 'Exponential Trend Function')\n",
    "plt.xticks(rotation = 45)\n",
    "pos = ['2018-01-01','2019-01-01','2020-01-01','2021-01-01','2022-01-01']\n",
    "l = [2018,2019,2020,2021,2022]\n",
    "ax.set(xticks=pos, xticklabels=l)\n",
    "plt.legend()\n",
    "plt.savefig(os.path.join(path, 'ml_trend_2b.pdf'), format='pdf',bbox_inches='tight',pad_inches = 0)\n",
    "plt.close()"
   ]
  },
  {
   "cell_type": "markdown",
   "metadata": {},
   "source": [
    "# 5g"
   ]
  },
  {
   "cell_type": "code",
   "execution_count": 19,
   "metadata": {},
   "outputs": [],
   "source": [
    "#5G\n",
    "\n",
    "# stmt = 'SELECT DATE_FORMAT(date, \\'%Y-%m\\') as date, COUNT(1) AS tweets FROM social.five_g_only group by DATE_FORMAT(date, \\'%Y-%m\\') ORDER BY DATE_FORMAT(date, \\'%Y-%m\\') ASC' \n",
    "# stmt2 = 'SELECT DATE_FORMAT(date, \\'%Y-%m\\') as date, COUNT(1) AS tweets FROM social.five_g group by DATE_FORMAT(date, \\'%Y-%m\\') ORDER BY DATE_FORMAT(date, \\'%Y-%m\\') ASC' \n",
    "# df = pd.read_sql(stmt, con=engine)\n",
    "# df2 = pd.read_sql(stmt2, con=engine)"
   ]
  },
  {
   "cell_type": "code",
   "execution_count": 20,
   "metadata": {},
   "outputs": [],
   "source": [
    "#5g\n",
    "# year = ['2010-01-01', '2010-12-31', '2011-12-31', '2012-12-31', '2013-12-31', '2014-12-31', '2015-12-31', '2016-12-31', '2017-12-31', '2018-12-31', '2019-12-31', '2020-12-31', '2021-12-31']\n",
    "# papers = [471, 585, 882, 921, 874, 1365, 2024, 3220, 4732, 6856, 9074, 9668, 11971]\n",
    "\n",
    "# df['date']  = pd.to_datetime(df['date'])\n",
    "# df2['date']  = pd.to_datetime(df['date'])\n",
    "# year = pd.to_datetime(year)"
   ]
  },
  {
   "cell_type": "code",
   "execution_count": 21,
   "metadata": {},
   "outputs": [],
   "source": [
    "#5g plot\n",
    "# ax = plt.gca()\n",
    "# ax.spines['right'].set_visible(False)\n",
    "# ax.spines['top'].set_visible(False)\n",
    "# plt.rcParams[\"figure.figsize\"] = [8, 3]\n",
    "# plt.rcParams.update({'font.size': 12})\n",
    "# plt.rcParams['figure.dpi'] = 300\n",
    "# plt.xlabel('Time')\n",
    "# plt.ylabel('Number of Records')\n",
    "# plt.plot(df['date'], df['tweets'], c = '#E31B23', linewidth = 1, label='Filtered Tweets')\n",
    "# plt.plot(df2['date'], df2['tweets'], c = 'black', linewidth = 1, label='Unfiltered Tweets')\n",
    "# plt.plot(year, papers, c = '#339898', linewidth = 1, label='Academic Publications')\n",
    "# plt.legend()\n",
    "# plt.savefig(os.path.join(path, '5g_data.pdf'), format='pdf',bbox_inches='tight',pad_inches = 0)\n",
    "# plt.close()"
   ]
  },
  {
   "cell_type": "code",
   "execution_count": 22,
   "metadata": {},
   "outputs": [],
   "source": [
    "#5g plot\n",
    "# ax = plt.gca()\n",
    "# ax.spines['right'].set_visible(False)\n",
    "# ax.spines['top'].set_visible(False)\n",
    "# plt.rcParams[\"figure.figsize\"] = [8, 3]\n",
    "# plt.rcParams.update({'font.size': 12})\n",
    "# plt.rcParams['figure.dpi'] = 300\n",
    "# plt.xlabel('Time')\n",
    "# plt.ylabel('Number of Records')\n",
    "# plt.plot(year, papers, c = '#339898', linewidth = 1, label='Academic Publications')\n",
    "# plt.savefig(os.path.join(path, '5g_aca_data.pdf'), format='pdf',bbox_inches='tight',pad_inches = 0)\n",
    "# plt.close()"
   ]
  },
  {
   "cell_type": "markdown",
   "metadata": {},
   "source": [
    "# Blockchain"
   ]
  },
  {
   "cell_type": "code",
   "execution_count": 23,
   "metadata": {},
   "outputs": [],
   "source": [
    "#blockchain\n",
    "\n",
    "# stmt = 'SELECT DATE_FORMAT(date, \\'%Y-%m\\') as date, COUNT(1) AS tweets FROM social.blockchain_only group by DATE_FORMAT(date, \\'%Y-%m\\') ORDER BY DATE_FORMAT(date, \\'%Y-%m\\') ASC' \n",
    "# stmt2 = 'SELECT DATE_FORMAT(date, \\'%Y-%m\\') as date, COUNT(1) AS tweets FROM social.blockchain group by DATE_FORMAT(date, \\'%Y-%m\\') ORDER BY DATE_FORMAT(date, \\'%Y-%m\\') ASC' \n",
    "# df = pd.read_sql(stmt, con=engine)\n",
    "# df2 = pd.read_sql(stmt2, con=engine)"
   ]
  },
  {
   "cell_type": "code",
   "execution_count": 24,
   "metadata": {},
   "outputs": [],
   "source": [
    "#blockchain\n",
    "# year = ['2010-01-01', '2010-12-31', '2011-12-31', '2012-12-31', '2013-12-31', '2014-12-31', '2015-12-31', '2016-12-31', '2017-12-31', '2018-12-31', '2019-12-31', '2020-12-31', '2021-12-31']\n",
    "# papers = [0, 2, 0, 1, 2, 12, 41, 182, 823, 3018, 6025, 7964, 9885]\n",
    "\n",
    "# df['date']  = pd.to_datetime(df['date'])\n",
    "# df2['date']  = pd.to_datetime(df['date'])\n",
    "# year = pd.to_datetime(year)"
   ]
  },
  {
   "cell_type": "code",
   "execution_count": 25,
   "metadata": {},
   "outputs": [],
   "source": [
    "#blockchain plot\n",
    "# ax = plt.gca()\n",
    "# ax.spines['right'].set_visible(False)\n",
    "# ax.spines['top'].set_visible(False)\n",
    "# plt.rcParams[\"figure.figsize\"] = [8, 3]\n",
    "# plt.rcParams.update({'font.size': 12})\n",
    "# plt.rcParams['figure.dpi'] = 300\n",
    "# plt.xlabel('Time')\n",
    "# plt.ylabel('Number of Records')\n",
    "# plt.plot(df['date'], df['tweets'], c = '#E31B23', linewidth = 1, label='Filtered Tweets')\n",
    "# plt.plot(df2['date'], df2['tweets'], c = 'black', linewidth = 1, label='Unfiltered Tweets')\n",
    "# plt.plot(year, papers, c = '#339898', linewidth = 1, label='Academic Publications')\n",
    "# plt.legend()\n",
    "# plt.savefig(os.path.join(path, '5g_data.pdf'), format='pdf',bbox_inches='tight',pad_inches = 0)\n",
    "# plt.close()"
   ]
  },
  {
   "cell_type": "code",
   "execution_count": 26,
   "metadata": {},
   "outputs": [],
   "source": [
    "#blockchain plot\n",
    "# ax = plt.gca()\n",
    "# ax.spines['right'].set_visible(False)\n",
    "# ax.spines['top'].set_visible(False)\n",
    "# plt.rcParams[\"figure.figsize\"] = [8, 3]\n",
    "# plt.rcParams.update({'font.size': 12})\n",
    "# plt.rcParams['figure.dpi'] = 300\n",
    "# plt.xlabel('Time')\n",
    "# plt.ylabel('Number of Records')\n",
    "# plt.plot(year, papers, c = '#339898', linewidth = 1, label='Academic Publications')\n",
    "# plt.savefig(os.path.join(path, 'blockchain_aca_data.pdf'), format='pdf',bbox_inches='tight',pad_inches = 0)\n",
    "# plt.close()"
   ]
  }
 ],
 "metadata": {
  "kernelspec": {
   "display_name": "Python 3.8.8 ('base')",
   "language": "python",
   "name": "python3"
  },
  "language_info": {
   "codemirror_mode": {
    "name": "ipython",
    "version": 3
   },
   "file_extension": ".py",
   "mimetype": "text/x-python",
   "name": "python",
   "nbconvert_exporter": "python",
   "pygments_lexer": "ipython3",
   "version": "3.8.8"
  },
  "orig_nbformat": 4,
  "vscode": {
   "interpreter": {
    "hash": "f339fb3a027be473131e6ac829b8dc34fc7d4e2b227bdb2c2c5f9829538e0fed"
   }
  }
 },
 "nbformat": 4,
 "nbformat_minor": 2
}
