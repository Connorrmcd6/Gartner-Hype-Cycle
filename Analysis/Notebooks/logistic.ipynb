{
 "cells": [
  {
   "cell_type": "code",
   "execution_count": 13,
   "metadata": {},
   "outputs": [],
   "source": [
    "import matplotlib.pyplot as plt\n",
    "import numpy as np\n",
    "from sklearn import datasets, linear_model\n",
    "from sklearn.metrics import mean_squared_error, r2_score\n",
    "import random\n",
    "import seaborn as sns\n",
    "\n",
    "\n",
    "import os\n",
    "path = '/Users/connormcdonald/Desktop/Masters/MIT807/Gartner Repository/Analysis/Figures'\n",
    "import numpy as np\n",
    "import matplotlib\n",
    "import matplotlib.pyplot as plt\n",
    "from mpl_toolkits.axisartist.axislines import SubplotZero\n",
    "matplotlib.use(\"pgf\")\n",
    "matplotlib.rcParams.update({\n",
    "    \"pgf.texsystem\": \"lualatex\",\n",
    "    'font.family': 'serif',\n",
    "    'text.usetex': True,\n",
    "    'pgf.rcfonts': False,\n",
    "})"
   ]
  },
  {
   "cell_type": "code",
   "execution_count": 14,
   "metadata": {},
   "outputs": [],
   "source": [
    "a = [0,1,2,3,4,5,6,7,8,9,10]\n",
    "b = [0,1,2,3,4,5,6,7,8,9,10]\n",
    "\n",
    "x = []\n",
    "y = []\n",
    "\n",
    "for i in a:\n",
    "    x.append(i/10)\n",
    "\n",
    "for i in b:\n",
    "    y.append(i/10)"
   ]
  },
  {
   "cell_type": "code",
   "execution_count": 15,
   "metadata": {},
   "outputs": [],
   "source": [
    "x_new = []\n",
    "y_new = []\n",
    "\n",
    "for i in range(11):\n",
    "    xn = (x[i])\n",
    "    yn = (y[i] + random.random()/10)\n",
    "    x_new.append(xn)\n",
    "    y_new.append(yn)"
   ]
  },
  {
   "cell_type": "code",
   "execution_count": 16,
   "metadata": {},
   "outputs": [],
   "source": [
    "x = np.array(x_new)\n",
    "y = np.array(y_new)\n",
    "t = [0.5, 0.5, 0.5,0.5, 0.5, 0.5,0.5, 0.5, 0.5, 0.5, 0.5]\n",
    "ax = plt.gca()\n",
    "plt.rcParams['figure.dpi'] = 300\n",
    "\n",
    "#######################################################################\n",
    "plt.scatter(x, y, c='#2e338d', edgecolors='k', label = 'Data', s =50)\n",
    "m, b = np.polyfit(x, y, 1)\n",
    "plt.plot(x, m*x + b, c= '#a7062b', label = 'Regression Line')\n",
    "# plt.plot(x, t, c= 'k', label = 'Threshold = 0.5', linestyle = '--')\n",
    "plt.legend(loc='upper left')\n",
    "#######################################################################\n",
    "ax.spines['right'].set_visible(False)\n",
    "ax.spines['top'].set_visible(False)\n",
    "plt.rcParams[\"figure.figsize\"] = [4, 4]\n",
    "plt.xlabel('x', size = 12)\n",
    "plt.ylabel('y', size = 12)\n",
    "plt.savefig(os.path.join(path, 'linear_reg.pdf'), format='pdf',bbox_inches='tight',pad_inches = 0)\n",
    "plt.close()"
   ]
  },
  {
   "cell_type": "code",
   "execution_count": 17,
   "metadata": {},
   "outputs": [],
   "source": [
    "x = np.array(x_new)\n",
    "y = np.array([0, 0, 0 , 0, 1, 0, 1, 1, 1, 1, 1])\n",
    "t = [0.5, 0.5, 0.5,0.5, 0.5, 0.5,0.5, 0.5, 0.5, 0.5, 0.5]\n",
    "ax = plt.gca()\n",
    "plt.rcParams['figure.dpi'] = 300\n",
    "\n",
    "#######################################################################\n",
    "plt.scatter(x, y, c='#2e338d', edgecolors='k', label = 'Data', s =50)\n",
    "m, b = np.polyfit(x, y, 1)\n",
    "plt.plot(x, m*x + b, c= '#a7062b', label = 'Regression Line')\n",
    "# plt.plot(x, t, c= 'k', label = 'Threshold = 0.5', linestyle = '--')\n",
    "plt.legend(loc='upper left')\n",
    "#######################################################################\n",
    "ax.spines['right'].set_visible(False)\n",
    "ax.spines['top'].set_visible(False)\n",
    "plt.rcParams[\"figure.figsize\"] = [4, 4]\n",
    "plt.xlabel('x', size = 12)\n",
    "plt.ylabel('y', size = 12)\n",
    "plt.savefig(os.path.join(path, 'linear_reg2.pdf'), format='pdf',bbox_inches='tight',pad_inches = 0)\n",
    "plt.close()"
   ]
  },
  {
   "cell_type": "code",
   "execution_count": 18,
   "metadata": {},
   "outputs": [],
   "source": [
    "x = np.linspace(-6,6,1000)\n",
    "\n",
    "y = []\n",
    "\n",
    "for i in x:\n",
    "    t = 1/(1+np.e**(-i))\n",
    "    y.append(t)"
   ]
  },
  {
   "cell_type": "code",
   "execution_count": 19,
   "metadata": {},
   "outputs": [
    {
     "name": "stderr",
     "output_type": "stream",
     "text": [
      "<ipython-input-19-ce5accdbea92>:15: UserWarning: FixedFormatter should only be used together with FixedLocator\n",
      "  ax.set_xticklabels(labels)\n"
     ]
    }
   ],
   "source": [
    "plt.rcParams['figure.dpi'] = 300\n",
    "#######################################################################\n",
    "\n",
    "fig, ax = plt.subplots()\n",
    "plt.plot(x, y, c='#a7062b' , label = '$f(x) = \\\\frac{1}{1+e^{-x}}$')\n",
    "\n",
    "labels = [item.get_text() for item in ax.get_xticklabels()]\n",
    "labels[1] = '-'+r\"$\\infty$\"\n",
    "labels[4] = '0'\n",
    "labels[7] = r\"$\\infty$\"\n",
    "\n",
    "plt.xlabel('x', size = 12)\n",
    "plt.ylabel('f(x)', size = 12)\n",
    "\n",
    "ax.set_xticklabels(labels)\n",
    "plt.legend()\n",
    "\n",
    "#######################################################################\n",
    "ax.spines['right'].set_visible(False)\n",
    "ax.spines['top'].set_visible(False)\n",
    "plt.rcParams[\"figure.figsize\"] = [4, 4]\n",
    "\n",
    "plt.savefig(os.path.join(path, 'sigmoid.pdf'), format='pdf',bbox_inches='tight',pad_inches = 0)\n",
    "plt.close()"
   ]
  },
  {
   "cell_type": "code",
   "execution_count": 20,
   "metadata": {},
   "outputs": [],
   "source": [
    "x = [0,1,2,3,4,5,6,7,8,9,10]\n",
    "y = [0, 0, 0 , 0, 1, 0, 1, 1, 1, 1, 1]\n",
    "\n",
    "ax = plt.gca()\n",
    "plt.rcParams['figure.dpi'] = 300\n",
    "ax.spines['right'].set_visible(False)\n",
    "ax.spines['top'].set_visible(False)\n",
    "#######################################################################\n",
    "\n",
    "\n",
    "sns.regplot(x=x, y=y, logistic=True, ci=None, scatter_kws={'color': '#2e338d', 'edgecolor' : 'k','s':50, 'label': 'Data' }, line_kws={'color': '#a7062b', 'label': 'Regression Line'} )\n",
    "plt.legend(labels=[\"Regression Line\",\"Data\"], loc='upper left')\n",
    "ax.spines['right'].set_visible(False)\n",
    "ax.spines['top'].set_visible(False)\n",
    "#######################################################################\n",
    "\n",
    "plt.rcParams[\"figure.figsize\"] = [4, 4]\n",
    "\n",
    "plt.savefig(os.path.join(path, 'logistic.pdf'), format='pdf',bbox_inches='tight',pad_inches = 0)\n",
    "plt.close()"
   ]
  }
 ],
 "metadata": {
  "language_info": {
   "name": "python"
  },
  "orig_nbformat": 4
 },
 "nbformat": 4,
 "nbformat_minor": 2
}
