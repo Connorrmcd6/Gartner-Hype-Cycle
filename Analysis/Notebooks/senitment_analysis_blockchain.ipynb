{
 "cells": [
  {
   "cell_type": "code",
   "execution_count": 5,
   "metadata": {},
   "outputs": [],
   "source": [
    "import os\n",
    "import seaborn as sns\n",
    "path = '/Users/connormcdonald/Desktop/Masters/MIT807/Gartner Repository/Analysis/Figures'\n",
    "import sys\n",
    "sys.path.insert(1, '/Users/connormcdonald/Desktop/Masters/MIT807/Gartner Repository/Data Collection')\n",
    "from configs import *\n",
    "import numpy as np\n",
    "import statsmodels.formula.api as smf\n",
    "import pandas as pd\n",
    "import matplotlib\n",
    "import matplotlib.pyplot as plt\n",
    "import seaborn as sns\n",
    "\n",
    "from mpl_toolkits.axisartist.axislines import SubplotZero\n",
    "from pylab import text\n",
    "matplotlib.use(\"pgf\")\n",
    "matplotlib.rcParams.update({\n",
    "    \"pgf.texsystem\": \"lualatex\",\n",
    "    'font.family': 'serif',\n",
    "    'text.usetex': True,\n",
    "    'pgf.rcfonts': False,\n",
    "})\n",
    "\n",
    "from sqlalchemy import create_engine\n",
    "\n",
    "engine = create_engine('mysql+mysqlconnector://'+user+':'+passwd+'@'+ip+':3306/'+schema1)"
   ]
  },
  {
   "cell_type": "code",
   "execution_count": 6,
   "metadata": {},
   "outputs": [],
   "source": [
    "stmt = ''' SELECT \n",
    "DATE_FORMAT(A.date, \\'%Y-%m\\') as date, \n",
    "COUNT(1) as num_tweets,\n",
    "AVG(B.mnb_prediction) AS mnb,\n",
    "AVG(B.svm_prediction) AS svm,\n",
    "AVG(B.lr_prediction) AS lr,\n",
    "AVG(B.ensemble_prediction) AS ens\n",
    "FROM social.blockchain A\n",
    "INNER JOIN social.BC_sentiment B \n",
    "ON A.id = B.id\n",
    "GROUP BY DATE_FORMAT(A.date, \\'%Y-%m\\')\n",
    "ORDER BY DATE_FORMAT(A.date, \\'%Y-%m\\') ASC'''\n",
    "\n",
    "df = pd.read_sql(stmt, con=engine)\n",
    "df['date'] = pd.to_datetime(df['date'])"
   ]
  },
  {
   "cell_type": "code",
   "execution_count": 7,
   "metadata": {},
   "outputs": [],
   "source": [
    "ax = plt.gca()\n",
    "line = pd.to_datetime('2014-09-01')\n",
    "line2 = pd.to_datetime('2018-03-01')\n",
    "line3 = pd.to_datetime('2020-12-01')\n",
    "\n",
    "ax.spines['right'].set_visible(False)\n",
    "ax.spines['top'].set_visible(False)\n",
    "plt.rcParams[\"figure.figsize\"] = [8, 4]\n",
    "plt.rcParams.update({'font.size': 12})\n",
    "plt.rcParams['figure.dpi'] = 300\n",
    "ax.set_ylim([0,1])\n",
    "plt.xlabel('Time')\n",
    "plt.ylabel('Proportion of Positive Tweets')\n",
    "plt.plot(df.date, df.mnb, label = 'MNB')\n",
    "plt.plot(df.date, df.lr, label = 'LR')\n",
    "plt.plot(df.date, df.svm, label = 'SVM')\n",
    "plt.plot(df.date, df.ens, label = 'Ensemble')\n",
    "plt.axvline(x=line, c = '#999999', linewidth = 1, linestyle =\"--\")\n",
    "plt.axvline(x=line2, c = '#999999', linewidth = 1, linestyle =\"--\")\n",
    "plt.axvline(x=line3, c = '#999999', linewidth = 1, linestyle =\"--\")\n",
    "plt.legend(loc='lower right')\n",
    "plt.savefig(os.path.join(path, 'bc_sentiment.pdf'), format='pdf',bbox_inches='tight',pad_inches = 0)\n",
    "plt.close()"
   ]
  },
  {
   "cell_type": "code",
   "execution_count": 8,
   "metadata": {},
   "outputs": [],
   "source": [
    "stmt = '''  SELECT \n",
    "A.text\n",
    "FROM social.blockchain A\n",
    "INNER JOIN social.BC_sentiment B \n",
    "ON A.id = B.id\n",
    "WHERE ensemble_prediction = 0'''\n",
    "\n",
    "negative_df = pd.read_sql(stmt, con=engine)"
   ]
  },
  {
   "cell_type": "code",
   "execution_count": 9,
   "metadata": {},
   "outputs": [],
   "source": [
    "stmt = '''  SELECT \n",
    "A.text\n",
    "FROM social.blockchain A\n",
    "INNER JOIN social.BC_sentiment B \n",
    "ON A.id = B.id\n",
    "WHERE ensemble_prediction = 1'''\n",
    "\n",
    "positive_df = pd.read_sql(stmt, con=engine)\n",
    "\n",
    "total_positive_tweets = len(positive_df.index)"
   ]
  },
  {
   "cell_type": "code",
   "execution_count": 10,
   "metadata": {},
   "outputs": [
    {
     "ename": "",
     "evalue": "",
     "output_type": "error",
     "traceback": [
      "\u001b[1;31mThe Kernel crashed while executing code in the the current cell or a previous cell. Please review the code in the cell(s) to identify a possible cause of the failure. Click <a href='https://aka.ms/vscodeJupyterKernelCrash'>here</a> for more info. View Jupyter <a href='command:jupyter.viewOutput'>log</a> for further details."
     ]
    },
    {
     "ename": "",
     "evalue": "",
     "output_type": "error",
     "traceback": [
      "\u001b[1;31mCanceled future for execute_request message before replies were done"
     ]
    }
   ],
   "source": [
    "from collections import Counter\n",
    "\n",
    "negative_words = Counter(\" \".join(negative_df[\"text\"]).split()).most_common(100)\n",
    "\n",
    "positive_words = Counter(\" \".join(positive_df[\"text\"]).split()).most_common(100)"
   ]
  },
  {
   "cell_type": "code",
   "execution_count": null,
   "metadata": {},
   "outputs": [],
   "source": [
    "neg_df = pd.DataFrame(negative_words, columns=['neg_word', \"neg_word_count\"])\n",
    "pos_df = pd.DataFrame(positive_words, columns=['pos_word', \"pos_word_count\"])"
   ]
  },
  {
   "cell_type": "code",
   "execution_count": null,
   "metadata": {},
   "outputs": [],
   "source": [
    "merged_df= pd.merge(neg_df, pos_df, left_on='neg_word', right_on='pos_word', how='inner')"
   ]
  },
  {
   "cell_type": "code",
   "execution_count": null,
   "metadata": {},
   "outputs": [],
   "source": [
    "from nltk.corpus import stopwords\n",
    "stop_words = stopwords.words('english')\n",
    "stop_words.append('blockchain')\n",
    "\n",
    "for i in range(len(merged_df.index)):\n",
    "    if str(merged_df.neg_word[i]) in stop_words:\n",
    "        merged_df = merged_df.drop(i)"
   ]
  },
  {
   "cell_type": "code",
   "execution_count": null,
   "metadata": {},
   "outputs": [],
   "source": [
    "merged_df.reset_index(drop=True)"
   ]
  },
  {
   "cell_type": "code",
   "execution_count": null,
   "metadata": {},
   "outputs": [],
   "source": [
    "from sklearn.preprocessing import MinMaxScaler\n",
    "\n",
    "scaler = MinMaxScaler()\n",
    "\n",
    "merged_df[['neg_word_count_norm', 'pos_word_count_norm']] = scaler.fit_transform(merged_df[['neg_word_count', 'pos_word_count']])"
   ]
  },
  {
   "cell_type": "code",
   "execution_count": null,
   "metadata": {},
   "outputs": [],
   "source": [
    "unmerged_pos = merged_df.iloc[:, [2,3, 5]].sort_values(by=['pos_word_count'], ascending=False)\n",
    "unmerged_neg = merged_df.iloc[:, [0,1, 4]].sort_values(by=['neg_word_count'], ascending=False)"
   ]
  },
  {
   "cell_type": "code",
   "execution_count": null,
   "metadata": {},
   "outputs": [],
   "source": [
    "top_10_pos = unmerged_pos.head(10).pos_word.values"
   ]
  },
  {
   "cell_type": "code",
   "execution_count": null,
   "metadata": {},
   "outputs": [],
   "source": [
    "top_10_neg = unmerged_neg.head(10).neg_word.values"
   ]
  },
  {
   "cell_type": "code",
   "execution_count": null,
   "metadata": {},
   "outputs": [],
   "source": [
    "top_words = list(top_10_pos)\n",
    "top_words.extend(x for x in top_10_neg if x not in top_words)"
   ]
  },
  {
   "cell_type": "code",
   "execution_count": null,
   "metadata": {},
   "outputs": [],
   "source": [
    "f = []\n",
    "for i in range(len(merged_df.index)):\n",
    "    if merged_df.neg_word.values[i] in top_words:\n",
    "        f.append(i)"
   ]
  },
  {
   "cell_type": "code",
   "execution_count": null,
   "metadata": {},
   "outputs": [],
   "source": [
    "final_df = merged_df.iloc[f,:]"
   ]
  },
  {
   "cell_type": "code",
   "execution_count": null,
   "metadata": {},
   "outputs": [],
   "source": [
    "ax = plt.gca()\n",
    "ax.spines['right'].set_visible(False)\n",
    "ax.spines['top'].set_visible(False)\n",
    "plt.rcParams[\"figure.figsize\"] = [8, 4]\n",
    "plt.rcParams.update({'font.size': 12})\n",
    "plt.rcParams['figure.dpi'] = 300\n",
    "ax = sns.scatterplot(x='neg_word_count_norm',y='pos_word_count_norm',hue = 'neg_word',data = final_df,legend='full',s=50)\n",
    "ax.legend(bbox_to_anchor=(1.04, 1), loc=\"upper left\")\n",
    "plt.xlabel('Normalised Count in Negative Tweets')\n",
    "plt.ylabel('Normalised Count in Positive Tweets')\n",
    "plt.savefig(os.path.join(path, 'bc_word_occurrence.pdf'), format='pdf',bbox_inches='tight',pad_inches = 0)\n",
    "plt.close()"
   ]
  }
 ],
 "metadata": {
  "kernelspec": {
   "display_name": "Python 3.8.8 ('base')",
   "language": "python",
   "name": "python3"
  },
  "language_info": {
   "codemirror_mode": {
    "name": "ipython",
    "version": 3
   },
   "file_extension": ".py",
   "mimetype": "text/x-python",
   "name": "python",
   "nbconvert_exporter": "python",
   "pygments_lexer": "ipython3",
   "version": "3.8.8"
  },
  "orig_nbformat": 4,
  "vscode": {
   "interpreter": {
    "hash": "f339fb3a027be473131e6ac829b8dc34fc7d4e2b227bdb2c2c5f9829538e0fed"
   }
  }
 },
 "nbformat": 4,
 "nbformat_minor": 2
}
